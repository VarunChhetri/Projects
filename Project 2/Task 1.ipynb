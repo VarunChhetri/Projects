{
 "cells": [
  {
   "cell_type": "markdown",
   "id": "401c859f",
   "metadata": {},
   "source": [
    "# Binary Classififcation Using Logistic Regression Classifier\n",
    "## Objective - To Accurately predict the Target =1 using logistic regression\n",
    "#### Target  variable= 'target'\n",
    "#### Classes  = 0 & 1\n",
    "#### 0 = customer not likely to buy a new car\n",
    "#### 1 = customer likely to buy a new car \n",
    "\n",
    "###### Data Dictionary:\n",
    "ID: Unique ID of the customer\n",
    "target: Model target. 1 if the customer has purchased more than 1 vehicle, 0 if they have only purchased 1.\n",
    "age_band: Age banded into categories\n",
    "gender: Male, Female or Missing\n",
    "car_model: The model of vehicle, 18 models in total\n",
    "car_segment: The type of vehicle\n",
    "age_of_vehicle_years: Age of their last vehicle, in deciles\n",
    "sched_serv_warr: Number of scheduled services (e.g. regular check-ups) used under warranty, in deciles\n",
    "non_sched_serv_warr: Number of non-scheduled services (e.g. something broke out of the service cycle) used under warranty, in deciles\n",
    "sched_serv_paid: Amount paid for scheduled services, in deciles\n",
    "non_sched_serv_paid: Amount paid for non scheduled services, in deciles\n",
    "total_paid_services: Amount paid in total for services, in deciles\n",
    "total_services: Total number of services, in deciles\n",
    "mth_since_last_serv: The number of months since the last service, in deciles\n",
    "annualised_mileage: Annualised vehicle mileage, in deciles\n",
    "num_dealers_visited: Number of different dealers visited for servicing, in deciles\n",
    "num_serv_dealer_purchased: Number of services had at the same dealer where the vehicle was purchased, in deciles\n",
    "### Project Steps:\n",
    "##### 1. Loading and exploring data\n",
    "##### 2. Preparing and cleaning data\n",
    "##### 3. Splitting the data in Train (60%), Validation (20%) and Test (20%) sets\n",
    "##### 4. Fitting the Logisic Regression Classifier\n",
    "##### 5. Assess Baseline Performance\n",
    "##### 6. Assess the performance metrics on Validation and Test sets\n"
   ]
  },
  {
   "cell_type": "markdown",
   "id": "40ba4a77",
   "metadata": {},
   "source": [
    "### 1. Loading and exploring data "
   ]
  },
  {
   "cell_type": "code",
   "execution_count": 1,
   "id": "29573171",
   "metadata": {},
   "outputs": [],
   "source": [
    "# Importing the necessary libraries\n",
    "import pandas as pd\n",
    "import numpy as np\n",
    "import sklearn\n",
    "import scipy\n",
    "import matplotlib.pyplot as plt\n",
    "import seaborn as sns\n",
    "from sklearn.model_selection import train_test_split\n",
    "from sklearn.linear_model import LogisticRegression\n",
    "from sklearn.metrics import accuracy_score, precision_score, recall_score, f1_score, confusion_matrix \n",
    "from sklearn.metrics import roc_auc_score, classification_report, roc_curve"
   ]
  },
  {
   "cell_type": "code",
   "execution_count": 2,
   "id": "552d6048",
   "metadata": {},
   "outputs": [],
   "source": [
    "# Saving the CSV file into DataFrame df\n",
    "data = pd.read_csv('/Users/varunsinghchhetri/Downloads/repurchase_training.csv')\n",
    "df = pd.DataFrame(data)"
   ]
  },
  {
   "cell_type": "code",
   "execution_count": 3,
   "id": "5b716f16",
   "metadata": {
    "scrolled": true
   },
   "outputs": [
    {
     "data": {
      "text/html": [
       "<div>\n",
       "<style scoped>\n",
       "    .dataframe tbody tr th:only-of-type {\n",
       "        vertical-align: middle;\n",
       "    }\n",
       "\n",
       "    .dataframe tbody tr th {\n",
       "        vertical-align: top;\n",
       "    }\n",
       "\n",
       "    .dataframe thead th {\n",
       "        text-align: right;\n",
       "    }\n",
       "</style>\n",
       "<table border=\"1\" class=\"dataframe\">\n",
       "  <thead>\n",
       "    <tr style=\"text-align: right;\">\n",
       "      <th></th>\n",
       "      <th>ID</th>\n",
       "      <th>Target</th>\n",
       "      <th>age_band</th>\n",
       "      <th>gender</th>\n",
       "      <th>car_model</th>\n",
       "      <th>car_segment</th>\n",
       "      <th>age_of_vehicle_years</th>\n",
       "      <th>sched_serv_warr</th>\n",
       "      <th>non_sched_serv_warr</th>\n",
       "      <th>sched_serv_paid</th>\n",
       "      <th>non_sched_serv_paid</th>\n",
       "      <th>total_paid_services</th>\n",
       "      <th>total_services</th>\n",
       "      <th>mth_since_last_serv</th>\n",
       "      <th>annualised_mileage</th>\n",
       "      <th>num_dealers_visited</th>\n",
       "      <th>num_serv_dealer_purchased</th>\n",
       "    </tr>\n",
       "  </thead>\n",
       "  <tbody>\n",
       "    <tr>\n",
       "      <th>0</th>\n",
       "      <td>1</td>\n",
       "      <td>0</td>\n",
       "      <td>3. 35 to 44</td>\n",
       "      <td>Male</td>\n",
       "      <td>model_1</td>\n",
       "      <td>LCV</td>\n",
       "      <td>9</td>\n",
       "      <td>2</td>\n",
       "      <td>10</td>\n",
       "      <td>3</td>\n",
       "      <td>7</td>\n",
       "      <td>5</td>\n",
       "      <td>6</td>\n",
       "      <td>9</td>\n",
       "      <td>8</td>\n",
       "      <td>10</td>\n",
       "      <td>4</td>\n",
       "    </tr>\n",
       "    <tr>\n",
       "      <th>1</th>\n",
       "      <td>2</td>\n",
       "      <td>0</td>\n",
       "      <td>NaN</td>\n",
       "      <td>NaN</td>\n",
       "      <td>model_2</td>\n",
       "      <td>Small/Medium</td>\n",
       "      <td>6</td>\n",
       "      <td>10</td>\n",
       "      <td>3</td>\n",
       "      <td>10</td>\n",
       "      <td>4</td>\n",
       "      <td>9</td>\n",
       "      <td>10</td>\n",
       "      <td>6</td>\n",
       "      <td>10</td>\n",
       "      <td>7</td>\n",
       "      <td>10</td>\n",
       "    </tr>\n",
       "    <tr>\n",
       "      <th>2</th>\n",
       "      <td>3</td>\n",
       "      <td>0</td>\n",
       "      <td>NaN</td>\n",
       "      <td>Male</td>\n",
       "      <td>model_3</td>\n",
       "      <td>Large/SUV</td>\n",
       "      <td>9</td>\n",
       "      <td>10</td>\n",
       "      <td>9</td>\n",
       "      <td>10</td>\n",
       "      <td>9</td>\n",
       "      <td>10</td>\n",
       "      <td>10</td>\n",
       "      <td>7</td>\n",
       "      <td>10</td>\n",
       "      <td>6</td>\n",
       "      <td>10</td>\n",
       "    </tr>\n",
       "    <tr>\n",
       "      <th>3</th>\n",
       "      <td>5</td>\n",
       "      <td>0</td>\n",
       "      <td>NaN</td>\n",
       "      <td>NaN</td>\n",
       "      <td>model_3</td>\n",
       "      <td>Large/SUV</td>\n",
       "      <td>5</td>\n",
       "      <td>8</td>\n",
       "      <td>5</td>\n",
       "      <td>8</td>\n",
       "      <td>4</td>\n",
       "      <td>5</td>\n",
       "      <td>6</td>\n",
       "      <td>4</td>\n",
       "      <td>10</td>\n",
       "      <td>9</td>\n",
       "      <td>7</td>\n",
       "    </tr>\n",
       "    <tr>\n",
       "      <th>4</th>\n",
       "      <td>6</td>\n",
       "      <td>0</td>\n",
       "      <td>NaN</td>\n",
       "      <td>Female</td>\n",
       "      <td>model_2</td>\n",
       "      <td>Small/Medium</td>\n",
       "      <td>8</td>\n",
       "      <td>9</td>\n",
       "      <td>4</td>\n",
       "      <td>10</td>\n",
       "      <td>7</td>\n",
       "      <td>9</td>\n",
       "      <td>8</td>\n",
       "      <td>5</td>\n",
       "      <td>4</td>\n",
       "      <td>4</td>\n",
       "      <td>9</td>\n",
       "    </tr>\n",
       "  </tbody>\n",
       "</table>\n",
       "</div>"
      ],
      "text/plain": [
       "   ID  Target     age_band  gender car_model   car_segment  \\\n",
       "0   1       0  3. 35 to 44    Male   model_1           LCV   \n",
       "1   2       0          NaN     NaN   model_2  Small/Medium   \n",
       "2   3       0          NaN    Male   model_3     Large/SUV   \n",
       "3   5       0          NaN     NaN   model_3     Large/SUV   \n",
       "4   6       0          NaN  Female   model_2  Small/Medium   \n",
       "\n",
       "   age_of_vehicle_years  sched_serv_warr  non_sched_serv_warr  \\\n",
       "0                     9                2                   10   \n",
       "1                     6               10                    3   \n",
       "2                     9               10                    9   \n",
       "3                     5                8                    5   \n",
       "4                     8                9                    4   \n",
       "\n",
       "   sched_serv_paid  non_sched_serv_paid  total_paid_services  total_services  \\\n",
       "0                3                    7                    5               6   \n",
       "1               10                    4                    9              10   \n",
       "2               10                    9                   10              10   \n",
       "3                8                    4                    5               6   \n",
       "4               10                    7                    9               8   \n",
       "\n",
       "   mth_since_last_serv  annualised_mileage  num_dealers_visited  \\\n",
       "0                    9                   8                   10   \n",
       "1                    6                  10                    7   \n",
       "2                    7                  10                    6   \n",
       "3                    4                  10                    9   \n",
       "4                    5                   4                    4   \n",
       "\n",
       "   num_serv_dealer_purchased  \n",
       "0                          4  \n",
       "1                         10  \n",
       "2                         10  \n",
       "3                          7  \n",
       "4                          9  "
      ]
     },
     "execution_count": 3,
     "metadata": {},
     "output_type": "execute_result"
    }
   ],
   "source": [
    "# Displaying the first five rows of df\n",
    "df.head()"
   ]
  },
  {
   "cell_type": "code",
   "execution_count": 4,
   "id": "a5e4f3c9",
   "metadata": {},
   "outputs": [
    {
     "data": {
      "text/html": [
       "<div>\n",
       "<style scoped>\n",
       "    .dataframe tbody tr th:only-of-type {\n",
       "        vertical-align: middle;\n",
       "    }\n",
       "\n",
       "    .dataframe tbody tr th {\n",
       "        vertical-align: top;\n",
       "    }\n",
       "\n",
       "    .dataframe thead th {\n",
       "        text-align: right;\n",
       "    }\n",
       "</style>\n",
       "<table border=\"1\" class=\"dataframe\">\n",
       "  <thead>\n",
       "    <tr style=\"text-align: right;\">\n",
       "      <th></th>\n",
       "      <th>ID</th>\n",
       "      <th>Target</th>\n",
       "      <th>age_of_vehicle_years</th>\n",
       "      <th>sched_serv_warr</th>\n",
       "      <th>non_sched_serv_warr</th>\n",
       "      <th>sched_serv_paid</th>\n",
       "      <th>non_sched_serv_paid</th>\n",
       "      <th>total_paid_services</th>\n",
       "      <th>total_services</th>\n",
       "      <th>mth_since_last_serv</th>\n",
       "      <th>annualised_mileage</th>\n",
       "      <th>num_dealers_visited</th>\n",
       "      <th>num_serv_dealer_purchased</th>\n",
       "    </tr>\n",
       "  </thead>\n",
       "  <tbody>\n",
       "    <tr>\n",
       "      <th>count</th>\n",
       "      <td>131337.000000</td>\n",
       "      <td>131337.000000</td>\n",
       "      <td>131337.000000</td>\n",
       "      <td>131337.000000</td>\n",
       "      <td>131337.000000</td>\n",
       "      <td>131337.000000</td>\n",
       "      <td>131337.000000</td>\n",
       "      <td>131337.000000</td>\n",
       "      <td>131337.000000</td>\n",
       "      <td>131337.000000</td>\n",
       "      <td>131337.000000</td>\n",
       "      <td>131337.000000</td>\n",
       "      <td>131337.000000</td>\n",
       "    </tr>\n",
       "    <tr>\n",
       "      <th>mean</th>\n",
       "      <td>77097.384180</td>\n",
       "      <td>0.026809</td>\n",
       "      <td>5.493022</td>\n",
       "      <td>5.452500</td>\n",
       "      <td>5.472517</td>\n",
       "      <td>5.452287</td>\n",
       "      <td>5.497050</td>\n",
       "      <td>5.481692</td>\n",
       "      <td>5.454967</td>\n",
       "      <td>5.469807</td>\n",
       "      <td>5.502836</td>\n",
       "      <td>5.485438</td>\n",
       "      <td>5.480778</td>\n",
       "    </tr>\n",
       "    <tr>\n",
       "      <th>std</th>\n",
       "      <td>44501.636704</td>\n",
       "      <td>0.161525</td>\n",
       "      <td>2.843299</td>\n",
       "      <td>2.884328</td>\n",
       "      <td>2.870665</td>\n",
       "      <td>2.886528</td>\n",
       "      <td>2.878699</td>\n",
       "      <td>2.880408</td>\n",
       "      <td>2.875961</td>\n",
       "      <td>2.859756</td>\n",
       "      <td>2.854896</td>\n",
       "      <td>2.876772</td>\n",
       "      <td>2.867524</td>\n",
       "    </tr>\n",
       "    <tr>\n",
       "      <th>min</th>\n",
       "      <td>1.000000</td>\n",
       "      <td>0.000000</td>\n",
       "      <td>1.000000</td>\n",
       "      <td>1.000000</td>\n",
       "      <td>1.000000</td>\n",
       "      <td>1.000000</td>\n",
       "      <td>1.000000</td>\n",
       "      <td>1.000000</td>\n",
       "      <td>1.000000</td>\n",
       "      <td>1.000000</td>\n",
       "      <td>1.000000</td>\n",
       "      <td>1.000000</td>\n",
       "      <td>1.000000</td>\n",
       "    </tr>\n",
       "    <tr>\n",
       "      <th>25%</th>\n",
       "      <td>38563.000000</td>\n",
       "      <td>0.000000</td>\n",
       "      <td>3.000000</td>\n",
       "      <td>3.000000</td>\n",
       "      <td>3.000000</td>\n",
       "      <td>3.000000</td>\n",
       "      <td>3.000000</td>\n",
       "      <td>3.000000</td>\n",
       "      <td>3.000000</td>\n",
       "      <td>3.000000</td>\n",
       "      <td>3.000000</td>\n",
       "      <td>3.000000</td>\n",
       "      <td>3.000000</td>\n",
       "    </tr>\n",
       "    <tr>\n",
       "      <th>50%</th>\n",
       "      <td>77132.000000</td>\n",
       "      <td>0.000000</td>\n",
       "      <td>5.000000</td>\n",
       "      <td>5.000000</td>\n",
       "      <td>5.000000</td>\n",
       "      <td>5.000000</td>\n",
       "      <td>5.000000</td>\n",
       "      <td>5.000000</td>\n",
       "      <td>5.000000</td>\n",
       "      <td>5.000000</td>\n",
       "      <td>5.000000</td>\n",
       "      <td>5.000000</td>\n",
       "      <td>5.000000</td>\n",
       "    </tr>\n",
       "    <tr>\n",
       "      <th>75%</th>\n",
       "      <td>115668.000000</td>\n",
       "      <td>0.000000</td>\n",
       "      <td>8.000000</td>\n",
       "      <td>8.000000</td>\n",
       "      <td>8.000000</td>\n",
       "      <td>8.000000</td>\n",
       "      <td>8.000000</td>\n",
       "      <td>8.000000</td>\n",
       "      <td>8.000000</td>\n",
       "      <td>8.000000</td>\n",
       "      <td>8.000000</td>\n",
       "      <td>8.000000</td>\n",
       "      <td>8.000000</td>\n",
       "    </tr>\n",
       "    <tr>\n",
       "      <th>max</th>\n",
       "      <td>154139.000000</td>\n",
       "      <td>1.000000</td>\n",
       "      <td>10.000000</td>\n",
       "      <td>10.000000</td>\n",
       "      <td>10.000000</td>\n",
       "      <td>10.000000</td>\n",
       "      <td>10.000000</td>\n",
       "      <td>10.000000</td>\n",
       "      <td>10.000000</td>\n",
       "      <td>10.000000</td>\n",
       "      <td>10.000000</td>\n",
       "      <td>10.000000</td>\n",
       "      <td>10.000000</td>\n",
       "    </tr>\n",
       "  </tbody>\n",
       "</table>\n",
       "</div>"
      ],
      "text/plain": [
       "                  ID         Target  age_of_vehicle_years  sched_serv_warr  \\\n",
       "count  131337.000000  131337.000000         131337.000000    131337.000000   \n",
       "mean    77097.384180       0.026809              5.493022         5.452500   \n",
       "std     44501.636704       0.161525              2.843299         2.884328   \n",
       "min         1.000000       0.000000              1.000000         1.000000   \n",
       "25%     38563.000000       0.000000              3.000000         3.000000   \n",
       "50%     77132.000000       0.000000              5.000000         5.000000   \n",
       "75%    115668.000000       0.000000              8.000000         8.000000   \n",
       "max    154139.000000       1.000000             10.000000        10.000000   \n",
       "\n",
       "       non_sched_serv_warr  sched_serv_paid  non_sched_serv_paid  \\\n",
       "count        131337.000000    131337.000000        131337.000000   \n",
       "mean              5.472517         5.452287             5.497050   \n",
       "std               2.870665         2.886528             2.878699   \n",
       "min               1.000000         1.000000             1.000000   \n",
       "25%               3.000000         3.000000             3.000000   \n",
       "50%               5.000000         5.000000             5.000000   \n",
       "75%               8.000000         8.000000             8.000000   \n",
       "max              10.000000        10.000000            10.000000   \n",
       "\n",
       "       total_paid_services  total_services  mth_since_last_serv  \\\n",
       "count        131337.000000   131337.000000        131337.000000   \n",
       "mean              5.481692        5.454967             5.469807   \n",
       "std               2.880408        2.875961             2.859756   \n",
       "min               1.000000        1.000000             1.000000   \n",
       "25%               3.000000        3.000000             3.000000   \n",
       "50%               5.000000        5.000000             5.000000   \n",
       "75%               8.000000        8.000000             8.000000   \n",
       "max              10.000000       10.000000            10.000000   \n",
       "\n",
       "       annualised_mileage  num_dealers_visited  num_serv_dealer_purchased  \n",
       "count       131337.000000        131337.000000              131337.000000  \n",
       "mean             5.502836             5.485438                   5.480778  \n",
       "std              2.854896             2.876772                   2.867524  \n",
       "min              1.000000             1.000000                   1.000000  \n",
       "25%              3.000000             3.000000                   3.000000  \n",
       "50%              5.000000             5.000000                   5.000000  \n",
       "75%              8.000000             8.000000                   8.000000  \n",
       "max             10.000000            10.000000                  10.000000  "
      ]
     },
     "execution_count": 4,
     "metadata": {},
     "output_type": "execute_result"
    }
   ],
   "source": [
    "# Displaying the descriptive statistics of the df\n",
    "df.describe()"
   ]
  },
  {
   "cell_type": "code",
   "execution_count": 5,
   "id": "644daf91",
   "metadata": {},
   "outputs": [
    {
     "name": "stdout",
     "output_type": "stream",
     "text": [
      "<class 'pandas.core.frame.DataFrame'>\n",
      "RangeIndex: 131337 entries, 0 to 131336\n",
      "Data columns (total 17 columns):\n",
      " #   Column                     Non-Null Count   Dtype \n",
      "---  ------                     --------------   ----- \n",
      " 0   ID                         131337 non-null  int64 \n",
      " 1   Target                     131337 non-null  int64 \n",
      " 2   age_band                   18962 non-null   object\n",
      " 3   gender                     62029 non-null   object\n",
      " 4   car_model                  131337 non-null  object\n",
      " 5   car_segment                131337 non-null  object\n",
      " 6   age_of_vehicle_years       131337 non-null  int64 \n",
      " 7   sched_serv_warr            131337 non-null  int64 \n",
      " 8   non_sched_serv_warr        131337 non-null  int64 \n",
      " 9   sched_serv_paid            131337 non-null  int64 \n",
      " 10  non_sched_serv_paid        131337 non-null  int64 \n",
      " 11  total_paid_services        131337 non-null  int64 \n",
      " 12  total_services             131337 non-null  int64 \n",
      " 13  mth_since_last_serv        131337 non-null  int64 \n",
      " 14  annualised_mileage         131337 non-null  int64 \n",
      " 15  num_dealers_visited        131337 non-null  int64 \n",
      " 16  num_serv_dealer_purchased  131337 non-null  int64 \n",
      "dtypes: int64(13), object(4)\n",
      "memory usage: 17.0+ MB\n"
     ]
    }
   ],
   "source": [
    "# displaying the summary (info) of df\n",
    "df.info()"
   ]
  },
  {
   "cell_type": "code",
   "execution_count": 6,
   "id": "25755708",
   "metadata": {},
   "outputs": [
    {
     "data": {
      "text/plain": [
       "(131337, 17)"
      ]
     },
     "execution_count": 6,
     "metadata": {},
     "output_type": "execute_result"
    }
   ],
   "source": [
    "# displaying the number of rows and columns of df\n",
    "df.shape"
   ]
  },
  {
   "cell_type": "code",
   "execution_count": 7,
   "id": "c17e00e4",
   "metadata": {
    "scrolled": true
   },
   "outputs": [
    {
     "data": {
      "text/plain": [
       "ID                                0\n",
       "Target                            0\n",
       "age_band                     112375\n",
       "gender                        69308\n",
       "car_model                         0\n",
       "car_segment                       0\n",
       "age_of_vehicle_years              0\n",
       "sched_serv_warr                   0\n",
       "non_sched_serv_warr               0\n",
       "sched_serv_paid                   0\n",
       "non_sched_serv_paid               0\n",
       "total_paid_services               0\n",
       "total_services                    0\n",
       "mth_since_last_serv               0\n",
       "annualised_mileage                0\n",
       "num_dealers_visited               0\n",
       "num_serv_dealer_purchased         0\n",
       "dtype: int64"
      ]
     },
     "execution_count": 7,
     "metadata": {},
     "output_type": "execute_result"
    }
   ],
   "source": [
    "# Checking for missing values in df\n",
    "df.isnull().sum()"
   ]
  },
  {
   "cell_type": "markdown",
   "id": "8adc6a44",
   "metadata": {},
   "source": [
    "### 2. Preparing and Cleaning the data"
   ]
  },
  {
   "cell_type": "code",
   "execution_count": 8,
   "id": "b95d36bc",
   "metadata": {},
   "outputs": [
    {
     "data": {
      "text/plain": [
       "0    127816\n",
       "1      3521\n",
       "Name: Target, dtype: int64"
      ]
     },
     "execution_count": 8,
     "metadata": {},
     "output_type": "execute_result"
    }
   ],
   "source": [
    "# Checking the value counts of the classes of 0 and 1\n",
    "df['Target'].value_counts()"
   ]
  },
  {
   "cell_type": "code",
   "execution_count": 9,
   "id": "e65ab120",
   "metadata": {},
   "outputs": [
    {
     "data": {
      "text/plain": [
       "<function matplotlib.pyplot.show(close=None, block=None)>"
      ]
     },
     "execution_count": 9,
     "metadata": {},
     "output_type": "execute_result"
    },
    {
     "data": {
      "image/png": "[encoded data removed]",
      "text/plain": [
       "<Figure size 640x480 with 1 Axes>"
      ]
     },
     "metadata": {},
     "output_type": "display_data"
    }
   ],
   "source": [
    "# Checking the value counts of the classes of 0 and 1\n",
    "df['Target'].value_counts().plot(kind='bar', color='LightBlue')\n",
    "plt.show"
   ]
  },
  {
   "cell_type": "code",
   "execution_count": 10,
   "id": "89b23d35",
   "metadata": {},
   "outputs": [
    {
     "name": "stdout",
     "output_type": "stream",
     "text": [
      "Number of duplicates: 0\n"
     ]
    }
   ],
   "source": [
    "# Check for duplicates\n",
    "duplicates = df.duplicated()\n",
    "\n",
    "# Print number of duplicates\n",
    "print(f\"Number of duplicates: {duplicates.sum()}\")"
   ]
  },
  {
   "cell_type": "code",
   "execution_count": 11,
   "id": "7ffa7f81",
   "metadata": {},
   "outputs": [],
   "source": [
    "# Dropping the 'ID' and 'age_band' columns as it is not required for in the process\n",
    "df_copy = df.drop(['ID', 'age_band'], axis=1)"
   ]
  },
  {
   "cell_type": "code",
   "execution_count": 12,
   "id": "0f5b76ac",
   "metadata": {
    "scrolled": true
   },
   "outputs": [
    {
     "data": {
      "text/plain": [
       "Target                           0\n",
       "gender                       69308\n",
       "car_model                        0\n",
       "car_segment                      0\n",
       "age_of_vehicle_years             0\n",
       "sched_serv_warr                  0\n",
       "non_sched_serv_warr              0\n",
       "sched_serv_paid                  0\n",
       "non_sched_serv_paid              0\n",
       "total_paid_services              0\n",
       "total_services                   0\n",
       "mth_since_last_serv              0\n",
       "annualised_mileage               0\n",
       "num_dealers_visited              0\n",
       "num_serv_dealer_purchased        0\n",
       "dtype: int64"
      ]
     },
     "execution_count": 12,
     "metadata": {},
     "output_type": "execute_result"
    }
   ],
   "source": [
    "# Checking again for missing values\n",
    "df_copy.isnull().sum()"
   ]
  },
  {
   "cell_type": "code",
   "execution_count": 13,
   "id": "e7f4bea6",
   "metadata": {},
   "outputs": [
    {
     "data": {
      "text/plain": [
       "Male      36072\n",
       "Female    25957\n",
       "Name: gender, dtype: int64"
      ]
     },
     "execution_count": 13,
     "metadata": {},
     "output_type": "execute_result"
    }
   ],
   "source": [
    "# Checking for value counts in the gender column\n",
    "df_copy['gender'].value_counts()"
   ]
  },
  {
   "cell_type": "code",
   "execution_count": 14,
   "id": "b6fc265e",
   "metadata": {},
   "outputs": [],
   "source": [
    "# Replace missing values in a specific column with 'unknown'\n",
    "df_copy['gender'] = df_copy['gender'].fillna('unknown')"
   ]
  },
  {
   "cell_type": "code",
   "execution_count": 15,
   "id": "4e903c60",
   "metadata": {},
   "outputs": [
    {
     "data": {
      "text/plain": [
       "Target                       0\n",
       "gender                       0\n",
       "car_model                    0\n",
       "car_segment                  0\n",
       "age_of_vehicle_years         0\n",
       "sched_serv_warr              0\n",
       "non_sched_serv_warr          0\n",
       "sched_serv_paid              0\n",
       "non_sched_serv_paid          0\n",
       "total_paid_services          0\n",
       "total_services               0\n",
       "mth_since_last_serv          0\n",
       "annualised_mileage           0\n",
       "num_dealers_visited          0\n",
       "num_serv_dealer_purchased    0\n",
       "dtype: int64"
      ]
     },
     "execution_count": 15,
     "metadata": {},
     "output_type": "execute_result"
    }
   ],
   "source": [
    "# Confirming if there are any missing values still left in the dataset\n",
    "df_copy.isnull().sum()"
   ]
  },
  {
   "cell_type": "code",
   "execution_count": 16,
   "id": "be90bfcd",
   "metadata": {},
   "outputs": [
    {
     "data": {
      "text/html": [
       "<div>\n",
       "<style scoped>\n",
       "    .dataframe tbody tr th:only-of-type {\n",
       "        vertical-align: middle;\n",
       "    }\n",
       "\n",
       "    .dataframe tbody tr th {\n",
       "        vertical-align: top;\n",
       "    }\n",
       "\n",
       "    .dataframe thead th {\n",
       "        text-align: right;\n",
       "    }\n",
       "</style>\n",
       "<table border=\"1\" class=\"dataframe\">\n",
       "  <thead>\n",
       "    <tr style=\"text-align: right;\">\n",
       "      <th></th>\n",
       "      <th>car_model</th>\n",
       "      <th>car_segment</th>\n",
       "      <th>gender</th>\n",
       "    </tr>\n",
       "  </thead>\n",
       "  <tbody>\n",
       "    <tr>\n",
       "      <th>0</th>\n",
       "      <td>model_1</td>\n",
       "      <td>LCV</td>\n",
       "      <td>Male</td>\n",
       "    </tr>\n",
       "    <tr>\n",
       "      <th>1</th>\n",
       "      <td>model_2</td>\n",
       "      <td>Small/Medium</td>\n",
       "      <td>unknown</td>\n",
       "    </tr>\n",
       "    <tr>\n",
       "      <th>2</th>\n",
       "      <td>model_3</td>\n",
       "      <td>Large/SUV</td>\n",
       "      <td>Male</td>\n",
       "    </tr>\n",
       "    <tr>\n",
       "      <th>3</th>\n",
       "      <td>model_3</td>\n",
       "      <td>Large/SUV</td>\n",
       "      <td>unknown</td>\n",
       "    </tr>\n",
       "    <tr>\n",
       "      <th>4</th>\n",
       "      <td>model_2</td>\n",
       "      <td>Small/Medium</td>\n",
       "      <td>Female</td>\n",
       "    </tr>\n",
       "    <tr>\n",
       "      <th>...</th>\n",
       "      <td>...</td>\n",
       "      <td>...</td>\n",
       "      <td>...</td>\n",
       "    </tr>\n",
       "    <tr>\n",
       "      <th>131332</th>\n",
       "      <td>model_3</td>\n",
       "      <td>Large/SUV</td>\n",
       "      <td>unknown</td>\n",
       "    </tr>\n",
       "    <tr>\n",
       "      <th>131333</th>\n",
       "      <td>model_3</td>\n",
       "      <td>Large/SUV</td>\n",
       "      <td>unknown</td>\n",
       "    </tr>\n",
       "    <tr>\n",
       "      <th>131334</th>\n",
       "      <td>model_5</td>\n",
       "      <td>Large/SUV</td>\n",
       "      <td>unknown</td>\n",
       "    </tr>\n",
       "    <tr>\n",
       "      <th>131335</th>\n",
       "      <td>model_5</td>\n",
       "      <td>Large/SUV</td>\n",
       "      <td>unknown</td>\n",
       "    </tr>\n",
       "    <tr>\n",
       "      <th>131336</th>\n",
       "      <td>model_1</td>\n",
       "      <td>LCV</td>\n",
       "      <td>unknown</td>\n",
       "    </tr>\n",
       "  </tbody>\n",
       "</table>\n",
       "<p>131337 rows × 3 columns</p>\n",
       "</div>"
      ],
      "text/plain": [
       "       car_model   car_segment   gender\n",
       "0        model_1           LCV     Male\n",
       "1        model_2  Small/Medium  unknown\n",
       "2        model_3     Large/SUV     Male\n",
       "3        model_3     Large/SUV  unknown\n",
       "4        model_2  Small/Medium   Female\n",
       "...          ...           ...      ...\n",
       "131332   model_3     Large/SUV  unknown\n",
       "131333   model_3     Large/SUV  unknown\n",
       "131334   model_5     Large/SUV  unknown\n",
       "131335   model_5     Large/SUV  unknown\n",
       "131336   model_1           LCV  unknown\n",
       "\n",
       "[131337 rows x 3 columns]"
      ]
     },
     "execution_count": 16,
     "metadata": {},
     "output_type": "execute_result"
    }
   ],
   "source": [
    "# Understanding the Categorical columns\n",
    "df_copy[['car_model', 'car_segment','gender']]"
   ]
  },
  {
   "cell_type": "code",
   "execution_count": 17,
   "id": "3f5f7362",
   "metadata": {},
   "outputs": [],
   "source": [
    "# Performing One Hot Encoding\n",
    "df_copy = pd.get_dummies(df_copy, columns=['car_model', 'car_segment','gender'])"
   ]
  },
  {
   "cell_type": "code",
   "execution_count": 18,
   "id": "a9245655",
   "metadata": {},
   "outputs": [
    {
     "name": "stdout",
     "output_type": "stream",
     "text": [
      "<class 'pandas.core.frame.DataFrame'>\n",
      "RangeIndex: 131337 entries, 0 to 131336\n",
      "Data columns (total 38 columns):\n",
      " #   Column                     Non-Null Count   Dtype\n",
      "---  ------                     --------------   -----\n",
      " 0   Target                     131337 non-null  int64\n",
      " 1   age_of_vehicle_years       131337 non-null  int64\n",
      " 2   sched_serv_warr            131337 non-null  int64\n",
      " 3   non_sched_serv_warr        131337 non-null  int64\n",
      " 4   sched_serv_paid            131337 non-null  int64\n",
      " 5   non_sched_serv_paid        131337 non-null  int64\n",
      " 6   total_paid_services        131337 non-null  int64\n",
      " 7   total_services             131337 non-null  int64\n",
      " 8   mth_since_last_serv        131337 non-null  int64\n",
      " 9   annualised_mileage         131337 non-null  int64\n",
      " 10  num_dealers_visited        131337 non-null  int64\n",
      " 11  num_serv_dealer_purchased  131337 non-null  int64\n",
      " 12  car_model_model_1          131337 non-null  uint8\n",
      " 13  car_model_model_10         131337 non-null  uint8\n",
      " 14  car_model_model_11         131337 non-null  uint8\n",
      " 15  car_model_model_12         131337 non-null  uint8\n",
      " 16  car_model_model_13         131337 non-null  uint8\n",
      " 17  car_model_model_14         131337 non-null  uint8\n",
      " 18  car_model_model_15         131337 non-null  uint8\n",
      " 19  car_model_model_16         131337 non-null  uint8\n",
      " 20  car_model_model_17         131337 non-null  uint8\n",
      " 21  car_model_model_18         131337 non-null  uint8\n",
      " 22  car_model_model_19         131337 non-null  uint8\n",
      " 23  car_model_model_2          131337 non-null  uint8\n",
      " 24  car_model_model_3          131337 non-null  uint8\n",
      " 25  car_model_model_4          131337 non-null  uint8\n",
      " 26  car_model_model_5          131337 non-null  uint8\n",
      " 27  car_model_model_6          131337 non-null  uint8\n",
      " 28  car_model_model_7          131337 non-null  uint8\n",
      " 29  car_model_model_8          131337 non-null  uint8\n",
      " 30  car_model_model_9          131337 non-null  uint8\n",
      " 31  car_segment_LCV            131337 non-null  uint8\n",
      " 32  car_segment_Large/SUV      131337 non-null  uint8\n",
      " 33  car_segment_Other          131337 non-null  uint8\n",
      " 34  car_segment_Small/Medium   131337 non-null  uint8\n",
      " 35  gender_Female              131337 non-null  uint8\n",
      " 36  gender_Male                131337 non-null  uint8\n",
      " 37  gender_unknown             131337 non-null  uint8\n",
      "dtypes: int64(12), uint8(26)\n",
      "memory usage: 15.3 MB\n"
     ]
    }
   ],
   "source": [
    "df_copy.info()"
   ]
  },
  {
   "cell_type": "code",
   "execution_count": 36,
   "id": "87e2434e",
   "metadata": {
    "scrolled": false
   },
   "outputs": [
    {
     "data": {
      "image/png": "[encoded data removed]",
      "text/plain": [
       "<Figure size 1000x3000 with 11 Axes>"
      ]
     },
     "metadata": {},
     "output_type": "display_data"
    }
   ],
   "source": [
    "# Plotting histogram to check the distribution of columns\n",
    "\n",
    "cols_to_check = ['age_of_vehicle_years', 'sched_serv_warr', 'non_sched_serv_warr', 'sched_serv_paid', 'sched_serv_paid', 'total_paid_services', 'total_services', 'mth_since_last_serv', 'annualised_mileage', 'num_dealers_visited', 'num_serv_dealer_purchased']\n",
    "\n",
    "# Create subplots for each column\n",
    "fig, axs = plt.subplots(nrows=len(cols_to_check), figsize=(10, 30), sharex=True)\n",
    "\n",
    "# Plot histograms for each column\n",
    "for i, col in enumerate(cols_to_check):\n",
    "    axs[i].hist(df[col], bins=30)\n",
    "    axs[i].set_title(col)\n",
    "\n",
    "plt.subplots_adjust(hspace=0.5)\n",
    "plt.show()"
   ]
  },
  {
   "cell_type": "markdown",
   "id": "fb84d655",
   "metadata": {},
   "source": [
    "### 3. Splitting the dataset into Train (20%), Validation (20%) and Test (20%) sets"
   ]
  },
  {
   "cell_type": "code",
   "execution_count": 20,
   "id": "6fb7e7d3",
   "metadata": {},
   "outputs": [
    {
     "name": "stdout",
     "output_type": "stream",
     "text": [
      "Train set: (78801, 37) (78801,)\n",
      "Validation set: (26268, 37) (26268,)\n",
      "Test set: (26268, 37) (26268,)\n"
     ]
    }
   ],
   "source": [
    "X = df_copy.drop('Target', axis=1) # features\n",
    "y = df_copy['Target'] # target variable\n",
    "\n",
    "# split into train, validation and test sets\n",
    "X_train, X_test, y_train, y_test = train_test_split(X, y, test_size=0.2, random_state=42)\n",
    "X_train, X_val, y_train, y_val = train_test_split(X_train, y_train, test_size=0.25, random_state=42) \n",
    "\n",
    "# check the shape of the data\n",
    "print('Train set:', X_train.shape, y_train.shape)\n",
    "print('Validation set:', X_val.shape, y_val.shape)\n",
    "print('Test set:', X_test.shape, y_test.shape)"
   ]
  },
  {
   "cell_type": "code",
   "execution_count": 21,
   "id": "5b16425d",
   "metadata": {},
   "outputs": [
    {
     "data": {
      "text/plain": [
       "0    76645\n",
       "1     2156\n",
       "Name: Target, dtype: int64"
      ]
     },
     "execution_count": 21,
     "metadata": {},
     "output_type": "execute_result"
    }
   ],
   "source": [
    "# Checking the distribution of classes in the train set \n",
    "y_train.value_counts()"
   ]
  },
  {
   "cell_type": "code",
   "execution_count": 22,
   "id": "8d4bc14f",
   "metadata": {},
   "outputs": [
    {
     "data": {
      "text/plain": [
       "0    25563\n",
       "1      705\n",
       "Name: Target, dtype: int64"
      ]
     },
     "execution_count": 22,
     "metadata": {},
     "output_type": "execute_result"
    }
   ],
   "source": [
    "# Checking the distribution of classes in validation set\n",
    "y_val.value_counts()"
   ]
  },
  {
   "cell_type": "code",
   "execution_count": 23,
   "id": "247d566d",
   "metadata": {
    "scrolled": true
   },
   "outputs": [
    {
     "data": {
      "text/plain": [
       "0    25608\n",
       "1      660\n",
       "Name: Target, dtype: int64"
      ]
     },
     "execution_count": 23,
     "metadata": {},
     "output_type": "execute_result"
    }
   ],
   "source": [
    "# Checking the distribution of classes in test set\n",
    "y_test.value_counts()"
   ]
  },
  {
   "cell_type": "markdown",
   "id": "0165d438",
   "metadata": {},
   "source": [
    "### 4. Training the Logistic Regression Model\n"
   ]
  },
  {
   "cell_type": "code",
   "execution_count": 24,
   "id": "3ec85a8e",
   "metadata": {
    "scrolled": true
   },
   "outputs": [
    {
     "data": {
      "text/plain": [
       "LogisticRegression(max_iter=10000)"
      ]
     },
     "execution_count": 24,
     "metadata": {},
     "output_type": "execute_result"
    }
   ],
   "source": [
    "# Train logistic regression model on train set\n",
    "clf = LogisticRegression(max_iter=10000)\n",
    "clf.fit(X_train, y_train)\n"
   ]
  },
  {
   "cell_type": "markdown",
   "id": "22d9014e",
   "metadata": {},
   "source": [
    "### Assessing the Baseline Performance"
   ]
  },
  {
   "cell_type": "code",
   "execution_count": 37,
   "id": "a34718f1",
   "metadata": {
    "scrolled": true
   },
   "outputs": [
    {
     "name": "stdout",
     "output_type": "stream",
     "text": [
      "Baseline performance:\n",
      "Accuracy: 0.973161\n"
     ]
    }
   ],
   "source": [
    "# Assess baseline performance with majority class prediction\n",
    "majority_class = y_train.mode()[0]\n",
    "y_val_majority = [majority_class] * len(y_val)\n",
    "\n",
    "print('Baseline performance:')\n",
    "print(f'Accuracy: {acc_val_base:.6f}')\n"
   ]
  },
  {
   "cell_type": "markdown",
   "id": "ea99e88f",
   "metadata": {},
   "source": [
    "### 6. Assessing the Performance Metrics on the Validation Set "
   ]
  },
  {
   "cell_type": "code",
   "execution_count": 26,
   "id": "95955c9d",
   "metadata": {},
   "outputs": [
    {
     "name": "stdout",
     "output_type": "stream",
     "text": [
      "Validation set evaluation metrics:\n",
      "Accuracy: 0.977730\n",
      "Precision: 0.815789\n",
      "Recall: 0.219858\n",
      "F1 score: 0.346369\n",
      "AUC-ROC score: 0.907380\n"
     ]
    }
   ],
   "source": [
    "# Predict on validation set and evaluate performance\n",
    "y_val_pred = clf.predict(X_val)\n",
    "\n",
    "# Calculate evaluation metrics on validation data\n",
    "acc_val = accuracy_score(y_val, y_val_pred)\n",
    "precision_val = precision_score(y_val, y_val_pred)\n",
    "recall_val = recall_score(y_val, y_val_pred)\n",
    "f1_val = f1_score(y_val, y_val_pred)\n",
    "auc_roc_val = roc_auc_score(y_val,  clf.predict_proba(X_val)[:,1])\n",
    "\n",
    "# Print evaluation metrics on validation data\n",
    "print('Validation set evaluation metrics:')\n",
    "print(f'Accuracy: {acc_val:.6f}')\n",
    "print(f'Precision: {precision_val:.6f}')\n",
    "print(f'Recall: {recall_val:.6f}')\n",
    "print(f'F1 score: {f1_val:.6f}')\n",
    "print(f'AUC-ROC score: {auc_roc_val:.6f}')"
   ]
  },
  {
   "cell_type": "code",
   "execution_count": 27,
   "id": "3a989df4",
   "metadata": {},
   "outputs": [
    {
     "name": "stdout",
     "output_type": "stream",
     "text": [
      "\n",
      "Classification report:\n",
      "              precision    recall  f1-score   support\n",
      "\n",
      "           0       0.98      1.00      0.99     25563\n",
      "           1       0.82      0.22      0.35       705\n",
      "\n",
      "    accuracy                           0.98     26268\n",
      "   macro avg       0.90      0.61      0.67     26268\n",
      "weighted avg       0.97      0.98      0.97     26268\n",
      "\n"
     ]
    }
   ],
   "source": [
    "# Create classification report for validation data\n",
    "class_report = classification_report(y_val, y_val_pred)\n",
    "print('\\nClassification report:')\n",
    "print(class_report)"
   ]
  },
  {
   "cell_type": "code",
   "execution_count": 28,
   "id": "a7a4ef72",
   "metadata": {},
   "outputs": [
    {
     "data": {
      "image/png": "[encoded data removed]",
      "text/plain": [
       "<Figure size 640x480 with 2 Axes>"
      ]
     },
     "metadata": {},
     "output_type": "display_data"
    }
   ],
   "source": [
    "# Calculate confusion matrix\n",
    "cm_val = confusion_matrix(y_val, y_val_pred)\n",
    "\n",
    "# Create heatmap plot of confusion matrix\n",
    "ax = plt.subplot()\n",
    "sns.heatmap(cm_val, annot=True, ax=ax, cmap='Blues', fmt='g')\n",
    "\n",
    "# Set plot labels and title\n",
    "ax.set_xlabel('Predicted labels')\n",
    "ax.set_ylabel('True labels')\n",
    "ax.set_title('Confusion Matrix')\n",
    "\n",
    "# Show plot\n",
    "plt.show()"
   ]
  },
  {
   "cell_type": "markdown",
   "id": "45f97c06",
   "metadata": {},
   "source": [
    "### 6. Assessing the Performance Metrics on the Test Set"
   ]
  },
  {
   "cell_type": "code",
   "execution_count": 29,
   "id": "e725d1b8",
   "metadata": {},
   "outputs": [
    {
     "name": "stdout",
     "output_type": "stream",
     "text": [
      "\n",
      "Test set evaluation metrics:\n",
      "Accuracy: 0.978757\n",
      "Precision: 0.796512\n",
      "Recall: 0.207576\n",
      "F1 score: 0.329327\n",
      "AUC-ROC score: 0.903527\n"
     ]
    }
   ],
   "source": [
    "# Predict on test set and evaluate performance\n",
    "y_test_pred = clf.predict(X_test)\n",
    "\n",
    "# Calculate evaluation metrics on test data\n",
    "acc_test = accuracy_score(y_test, y_test_pred)\n",
    "precision_test = precision_score(y_test, y_test_pred)\n",
    "recall_test = recall_score(y_test, y_test_pred)\n",
    "f1_test = f1_score(y_test, y_test_pred)\n",
    "auc_roc_test = roc_auc_score(y_test,  clf.predict_proba(X_test)[:,1])\n",
    "\n",
    "# Print evaluation metrics on test data\n",
    "print('\\nTest set evaluation metrics:')\n",
    "print(f'Accuracy: {acc_test:.6f}')\n",
    "print(f'Precision: {precision_test:.6f}')\n",
    "print(f'Recall: {recall_test:.6f}')\n",
    "print(f'F1 score: {f1_test:.6f}')\n",
    "print(f'AUC-ROC score: {auc_roc_test:.6f}')\n"
   ]
  },
  {
   "cell_type": "code",
   "execution_count": 30,
   "id": "8da95bed",
   "metadata": {},
   "outputs": [
    {
     "name": "stdout",
     "output_type": "stream",
     "text": [
      "\n",
      "Classification report:\n",
      "              precision    recall  f1-score   support\n",
      "\n",
      "           0       0.98      1.00      0.99     25608\n",
      "           1       0.80      0.21      0.33       660\n",
      "\n",
      "    accuracy                           0.98     26268\n",
      "   macro avg       0.89      0.60      0.66     26268\n",
      "weighted avg       0.98      0.98      0.97     26268\n",
      "\n"
     ]
    }
   ],
   "source": [
    "# Create classification report for test data\n",
    "class_report = classification_report(y_test, y_test_pred)\n",
    "print('\\nClassification report:')\n",
    "print(class_report)"
   ]
  },
  {
   "cell_type": "code",
   "execution_count": 31,
   "id": "2463aa77",
   "metadata": {},
   "outputs": [
    {
     "data": {
      "image/png": "[encoded data removed]",
      "text/plain": [
       "<Figure size 640x480 with 2 Axes>"
      ]
     },
     "metadata": {},
     "output_type": "display_data"
    }
   ],
   "source": [
    "# Calculate confusion matrix\n",
    "cm = confusion_matrix(y_test, y_test_pred)\n",
    "\n",
    "# Create heatmap plot of confusion matrix\n",
    "ax = plt.subplot()\n",
    "sns.heatmap(cm, annot=True, ax=ax, cmap='Blues', fmt='g')\n",
    "\n",
    "# Set plot labels and title\n",
    "ax.set_xlabel('Predicted labels')\n",
    "ax.set_ylabel('True labels')\n",
    "ax.set_title('Confusion Matrix')\n",
    "\n",
    "# Show plot\n",
    "plt.show()"
   ]
  },
  {
   "cell_type": "code",
   "execution_count": 32,
   "id": "72afc834",
   "metadata": {},
   "outputs": [],
   "source": [
    "# Get predicted probabilities for validation and test sets\n",
    "y_val_proba = clf.predict_proba(X_val)[:, 1]\n",
    "y_test_proba = clf.predict_proba(X_test)[:, 1]"
   ]
  },
  {
   "cell_type": "code",
   "execution_count": 33,
   "id": "4418bae9",
   "metadata": {},
   "outputs": [],
   "source": [
    "# Calculate AUC score for validation and test sets\n",
    "val_auc = roc_auc_score(y_val, y_val_proba)\n",
    "test_auc = roc_auc_score(y_test, y_test_proba)"
   ]
  },
  {
   "cell_type": "code",
   "execution_count": 34,
   "id": "872c899c",
   "metadata": {},
   "outputs": [],
   "source": [
    "# Generate ROC curves for validation and test sets\n",
    "fpr_val, tpr_val, _ = roc_curve(y_val, y_val_proba)\n",
    "fpr_test, tpr_test, _ = roc_curve(y_test, y_test_proba)"
   ]
  },
  {
   "cell_type": "code",
   "execution_count": 35,
   "id": "30cb4485",
   "metadata": {},
   "outputs": [
    {
     "data": {
      "image/png": "[encoded data removed]",
      "text/plain": [
       "<Figure size 640x480 with 1 Axes>"
      ]
     },
     "metadata": {},
     "output_type": "display_data"
    }
   ],
   "source": [
    "# Plot ROC curves\n",
    "plt.plot(fpr_val, tpr_val, label='Validation set (AUC = {:.2f})'.format(val_auc))\n",
    "plt.plot(fpr_test, tpr_test, label='Test set (AUC = {:.2f})'.format(test_auc))\n",
    "plt.plot([0, 1], [0, 1], 'k--')\n",
    "plt.xlabel('False positive rate')\n",
    "plt.ylabel('True positive rate')\n",
    "plt.title('ROC curve')\n",
    "plt.legend()\n",
    "plt.show()"
   ]
  }
 ],
 "metadata": {
  "kernelspec": {
   "display_name": "Python 3 (ipykernel)",
   "language": "python",
   "name": "python3"
  },
  "language_info": {
   "codemirror_mode": {
    "name": "ipython",
    "version": 3
   },
   "file_extension": ".py",
   "mimetype": "text/x-python",
   "name": "python",
   "nbconvert_exporter": "python",
   "pygments_lexer": "ipython3",
   "version": "3.9.13"
  }
 },
 "nbformat": 4,
 "nbformat_minor": 5
}
