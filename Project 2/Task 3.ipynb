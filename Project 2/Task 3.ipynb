{
 "cells": [
  {
   "cell_type": "markdown",
   "id": "34da65a5",
   "metadata": {},
   "source": [
    "# Binary Classififcation Using Decision Tree Classifier\n",
    "## Objective - To Accurately predict the Target =1 using Decision Tree Classifier\n",
    "#### Target  variable= 'target'\n",
    "#### Classes  = 0 & 1\n",
    "#### 0 = customer not likely to buy a new car\n",
    "#### 1 = customer likely to buy a new car \n",
    "\n",
    "###### Data Dictionary:\n",
    "ID: Unique ID of the customer\n",
    "target: Model target. 1 if the customer has purchased more than 1 vehicle, 0 if they have only purchased 1.\n",
    "age_band: Age banded into categories\n",
    "gender: Male, Female or Missing\n",
    "car_model: The model of vehicle, 18 models in total\n",
    "car_segment: The type of vehicle\n",
    "age_of_vehicle_years: Age of their last vehicle, in deciles\n",
    "sched_serv_warr: Number of scheduled services (e.g. regular check-ups) used under warranty, in deciles\n",
    "non_sched_serv_warr: Number of non-scheduled services (e.g. something broke out of the service cycle) used under warranty, in deciles\n",
    "sched_serv_paid: Amount paid for scheduled services, in deciles\n",
    "non_sched_serv_paid: Amount paid for non scheduled services, in deciles\n",
    "total_paid_services: Amount paid in total for services, in deciles\n",
    "total_services: Total number of services, in deciles\n",
    "mth_since_last_serv: The number of months since the last service, in deciles\n",
    "annualised_mileage: Annualised vehicle mileage, in deciles\n",
    "num_dealers_visited: Number of different dealers visited for servicing, in deciles\n",
    "num_serv_dealer_purchased: Number of services had at the same dealer where the vehicle was purchased, in deciles\n",
    "### Project Steps:\n",
    "##### 1. Loading and exploring data\n",
    "##### 2. Preparing and cleaning data\n",
    "##### 3. Splitting the data in Train (60%), Validation (20%) and Test (20%) sets\n",
    "##### 4. Fitting the Decision Tree Classifier\n",
    "##### 5. Assess Baseline Performance\n",
    "##### 6. Assess the performance metrics on Validation and Test sets\n"
   ]
  },
  {
   "cell_type": "markdown",
   "id": "403c899a",
   "metadata": {},
   "source": [
    "### 1. Loading and exploring the data"
   ]
  },
  {
   "cell_type": "code",
   "execution_count": 58,
   "id": "0b10db4d",
   "metadata": {},
   "outputs": [],
   "source": [
    "# Importing the necessary libraries\n",
    "import pandas as pd\n",
    "import numpy as np\n",
    "import sklearn\n",
    "import scipy\n",
    "import matplotlib.pyplot as plt\n",
    "import seaborn as sns\n",
    "from sklearn.model_selection import train_test_split\n",
    "from sklearn.metrics import accuracy_score, precision_score, recall_score, f1_score\n",
    "from sklearn.metrics import confusion_matrix, roc_auc_score, classification_report"
   ]
  },
  {
   "cell_type": "code",
   "execution_count": 2,
   "id": "a068fefe",
   "metadata": {},
   "outputs": [],
   "source": [
    "# Saving the CSV file into DataFrame df\n",
    "data = pd.read_csv('/Users/varunsinghchhetri/Downloads/repurchase_training.csv')\n",
    "df = pd.DataFrame(data)"
   ]
  },
  {
   "cell_type": "code",
   "execution_count": 3,
   "id": "2cfc07ee",
   "metadata": {
    "scrolled": true
   },
   "outputs": [
    {
     "data": {
      "text/html": [
       "<div>\n",
       "<style scoped>\n",
       "    .dataframe tbody tr th:only-of-type {\n",
       "        vertical-align: middle;\n",
       "    }\n",
       "\n",
       "    .dataframe tbody tr th {\n",
       "        vertical-align: top;\n",
       "    }\n",
       "\n",
       "    .dataframe thead th {\n",
       "        text-align: right;\n",
       "    }\n",
       "</style>\n",
       "<table border=\"1\" class=\"dataframe\">\n",
       "  <thead>\n",
       "    <tr style=\"text-align: right;\">\n",
       "      <th></th>\n",
       "      <th>ID</th>\n",
       "      <th>Target</th>\n",
       "      <th>age_band</th>\n",
       "      <th>gender</th>\n",
       "      <th>car_model</th>\n",
       "      <th>car_segment</th>\n",
       "      <th>age_of_vehicle_years</th>\n",
       "      <th>sched_serv_warr</th>\n",
       "      <th>non_sched_serv_warr</th>\n",
       "      <th>sched_serv_paid</th>\n",
       "      <th>non_sched_serv_paid</th>\n",
       "      <th>total_paid_services</th>\n",
       "      <th>total_services</th>\n",
       "      <th>mth_since_last_serv</th>\n",
       "      <th>annualised_mileage</th>\n",
       "      <th>num_dealers_visited</th>\n",
       "      <th>num_serv_dealer_purchased</th>\n",
       "    </tr>\n",
       "  </thead>\n",
       "  <tbody>\n",
       "    <tr>\n",
       "      <th>0</th>\n",
       "      <td>1</td>\n",
       "      <td>0</td>\n",
       "      <td>3. 35 to 44</td>\n",
       "      <td>Male</td>\n",
       "      <td>model_1</td>\n",
       "      <td>LCV</td>\n",
       "      <td>9</td>\n",
       "      <td>2</td>\n",
       "      <td>10</td>\n",
       "      <td>3</td>\n",
       "      <td>7</td>\n",
       "      <td>5</td>\n",
       "      <td>6</td>\n",
       "      <td>9</td>\n",
       "      <td>8</td>\n",
       "      <td>10</td>\n",
       "      <td>4</td>\n",
       "    </tr>\n",
       "    <tr>\n",
       "      <th>1</th>\n",
       "      <td>2</td>\n",
       "      <td>0</td>\n",
       "      <td>NaN</td>\n",
       "      <td>NaN</td>\n",
       "      <td>model_2</td>\n",
       "      <td>Small/Medium</td>\n",
       "      <td>6</td>\n",
       "      <td>10</td>\n",
       "      <td>3</td>\n",
       "      <td>10</td>\n",
       "      <td>4</td>\n",
       "      <td>9</td>\n",
       "      <td>10</td>\n",
       "      <td>6</td>\n",
       "      <td>10</td>\n",
       "      <td>7</td>\n",
       "      <td>10</td>\n",
       "    </tr>\n",
       "    <tr>\n",
       "      <th>2</th>\n",
       "      <td>3</td>\n",
       "      <td>0</td>\n",
       "      <td>NaN</td>\n",
       "      <td>Male</td>\n",
       "      <td>model_3</td>\n",
       "      <td>Large/SUV</td>\n",
       "      <td>9</td>\n",
       "      <td>10</td>\n",
       "      <td>9</td>\n",
       "      <td>10</td>\n",
       "      <td>9</td>\n",
       "      <td>10</td>\n",
       "      <td>10</td>\n",
       "      <td>7</td>\n",
       "      <td>10</td>\n",
       "      <td>6</td>\n",
       "      <td>10</td>\n",
       "    </tr>\n",
       "    <tr>\n",
       "      <th>3</th>\n",
       "      <td>5</td>\n",
       "      <td>0</td>\n",
       "      <td>NaN</td>\n",
       "      <td>NaN</td>\n",
       "      <td>model_3</td>\n",
       "      <td>Large/SUV</td>\n",
       "      <td>5</td>\n",
       "      <td>8</td>\n",
       "      <td>5</td>\n",
       "      <td>8</td>\n",
       "      <td>4</td>\n",
       "      <td>5</td>\n",
       "      <td>6</td>\n",
       "      <td>4</td>\n",
       "      <td>10</td>\n",
       "      <td>9</td>\n",
       "      <td>7</td>\n",
       "    </tr>\n",
       "    <tr>\n",
       "      <th>4</th>\n",
       "      <td>6</td>\n",
       "      <td>0</td>\n",
       "      <td>NaN</td>\n",
       "      <td>Female</td>\n",
       "      <td>model_2</td>\n",
       "      <td>Small/Medium</td>\n",
       "      <td>8</td>\n",
       "      <td>9</td>\n",
       "      <td>4</td>\n",
       "      <td>10</td>\n",
       "      <td>7</td>\n",
       "      <td>9</td>\n",
       "      <td>8</td>\n",
       "      <td>5</td>\n",
       "      <td>4</td>\n",
       "      <td>4</td>\n",
       "      <td>9</td>\n",
       "    </tr>\n",
       "  </tbody>\n",
       "</table>\n",
       "</div>"
      ],
      "text/plain": [
       "   ID  Target     age_band  gender car_model   car_segment  \\\n",
       "0   1       0  3. 35 to 44    Male   model_1           LCV   \n",
       "1   2       0          NaN     NaN   model_2  Small/Medium   \n",
       "2   3       0          NaN    Male   model_3     Large/SUV   \n",
       "3   5       0          NaN     NaN   model_3     Large/SUV   \n",
       "4   6       0          NaN  Female   model_2  Small/Medium   \n",
       "\n",
       "   age_of_vehicle_years  sched_serv_warr  non_sched_serv_warr  \\\n",
       "0                     9                2                   10   \n",
       "1                     6               10                    3   \n",
       "2                     9               10                    9   \n",
       "3                     5                8                    5   \n",
       "4                     8                9                    4   \n",
       "\n",
       "   sched_serv_paid  non_sched_serv_paid  total_paid_services  total_services  \\\n",
       "0                3                    7                    5               6   \n",
       "1               10                    4                    9              10   \n",
       "2               10                    9                   10              10   \n",
       "3                8                    4                    5               6   \n",
       "4               10                    7                    9               8   \n",
       "\n",
       "   mth_since_last_serv  annualised_mileage  num_dealers_visited  \\\n",
       "0                    9                   8                   10   \n",
       "1                    6                  10                    7   \n",
       "2                    7                  10                    6   \n",
       "3                    4                  10                    9   \n",
       "4                    5                   4                    4   \n",
       "\n",
       "   num_serv_dealer_purchased  \n",
       "0                          4  \n",
       "1                         10  \n",
       "2                         10  \n",
       "3                          7  \n",
       "4                          9  "
      ]
     },
     "execution_count": 3,
     "metadata": {},
     "output_type": "execute_result"
    }
   ],
   "source": [
    "# Displaying the first five rows of df\n",
    "df.head()"
   ]
  },
  {
   "cell_type": "code",
   "execution_count": 4,
   "id": "4c9a5661",
   "metadata": {},
   "outputs": [
    {
     "data": {
      "text/html": [
       "<div>\n",
       "<style scoped>\n",
       "    .dataframe tbody tr th:only-of-type {\n",
       "        vertical-align: middle;\n",
       "    }\n",
       "\n",
       "    .dataframe tbody tr th {\n",
       "        vertical-align: top;\n",
       "    }\n",
       "\n",
       "    .dataframe thead th {\n",
       "        text-align: right;\n",
       "    }\n",
       "</style>\n",
       "<table border=\"1\" class=\"dataframe\">\n",
       "  <thead>\n",
       "    <tr style=\"text-align: right;\">\n",
       "      <th></th>\n",
       "      <th>ID</th>\n",
       "      <th>Target</th>\n",
       "      <th>age_of_vehicle_years</th>\n",
       "      <th>sched_serv_warr</th>\n",
       "      <th>non_sched_serv_warr</th>\n",
       "      <th>sched_serv_paid</th>\n",
       "      <th>non_sched_serv_paid</th>\n",
       "      <th>total_paid_services</th>\n",
       "      <th>total_services</th>\n",
       "      <th>mth_since_last_serv</th>\n",
       "      <th>annualised_mileage</th>\n",
       "      <th>num_dealers_visited</th>\n",
       "      <th>num_serv_dealer_purchased</th>\n",
       "    </tr>\n",
       "  </thead>\n",
       "  <tbody>\n",
       "    <tr>\n",
       "      <th>count</th>\n",
       "      <td>131337.000000</td>\n",
       "      <td>131337.000000</td>\n",
       "      <td>131337.000000</td>\n",
       "      <td>131337.000000</td>\n",
       "      <td>131337.000000</td>\n",
       "      <td>131337.000000</td>\n",
       "      <td>131337.000000</td>\n",
       "      <td>131337.000000</td>\n",
       "      <td>131337.000000</td>\n",
       "      <td>131337.000000</td>\n",
       "      <td>131337.000000</td>\n",
       "      <td>131337.000000</td>\n",
       "      <td>131337.000000</td>\n",
       "    </tr>\n",
       "    <tr>\n",
       "      <th>mean</th>\n",
       "      <td>77097.384180</td>\n",
       "      <td>0.026809</td>\n",
       "      <td>5.493022</td>\n",
       "      <td>5.452500</td>\n",
       "      <td>5.472517</td>\n",
       "      <td>5.452287</td>\n",
       "      <td>5.497050</td>\n",
       "      <td>5.481692</td>\n",
       "      <td>5.454967</td>\n",
       "      <td>5.469807</td>\n",
       "      <td>5.502836</td>\n",
       "      <td>5.485438</td>\n",
       "      <td>5.480778</td>\n",
       "    </tr>\n",
       "    <tr>\n",
       "      <th>std</th>\n",
       "      <td>44501.636704</td>\n",
       "      <td>0.161525</td>\n",
       "      <td>2.843299</td>\n",
       "      <td>2.884328</td>\n",
       "      <td>2.870665</td>\n",
       "      <td>2.886528</td>\n",
       "      <td>2.878699</td>\n",
       "      <td>2.880408</td>\n",
       "      <td>2.875961</td>\n",
       "      <td>2.859756</td>\n",
       "      <td>2.854896</td>\n",
       "      <td>2.876772</td>\n",
       "      <td>2.867524</td>\n",
       "    </tr>\n",
       "    <tr>\n",
       "      <th>min</th>\n",
       "      <td>1.000000</td>\n",
       "      <td>0.000000</td>\n",
       "      <td>1.000000</td>\n",
       "      <td>1.000000</td>\n",
       "      <td>1.000000</td>\n",
       "      <td>1.000000</td>\n",
       "      <td>1.000000</td>\n",
       "      <td>1.000000</td>\n",
       "      <td>1.000000</td>\n",
       "      <td>1.000000</td>\n",
       "      <td>1.000000</td>\n",
       "      <td>1.000000</td>\n",
       "      <td>1.000000</td>\n",
       "    </tr>\n",
       "    <tr>\n",
       "      <th>25%</th>\n",
       "      <td>38563.000000</td>\n",
       "      <td>0.000000</td>\n",
       "      <td>3.000000</td>\n",
       "      <td>3.000000</td>\n",
       "      <td>3.000000</td>\n",
       "      <td>3.000000</td>\n",
       "      <td>3.000000</td>\n",
       "      <td>3.000000</td>\n",
       "      <td>3.000000</td>\n",
       "      <td>3.000000</td>\n",
       "      <td>3.000000</td>\n",
       "      <td>3.000000</td>\n",
       "      <td>3.000000</td>\n",
       "    </tr>\n",
       "    <tr>\n",
       "      <th>50%</th>\n",
       "      <td>77132.000000</td>\n",
       "      <td>0.000000</td>\n",
       "      <td>5.000000</td>\n",
       "      <td>5.000000</td>\n",
       "      <td>5.000000</td>\n",
       "      <td>5.000000</td>\n",
       "      <td>5.000000</td>\n",
       "      <td>5.000000</td>\n",
       "      <td>5.000000</td>\n",
       "      <td>5.000000</td>\n",
       "      <td>5.000000</td>\n",
       "      <td>5.000000</td>\n",
       "      <td>5.000000</td>\n",
       "    </tr>\n",
       "    <tr>\n",
       "      <th>75%</th>\n",
       "      <td>115668.000000</td>\n",
       "      <td>0.000000</td>\n",
       "      <td>8.000000</td>\n",
       "      <td>8.000000</td>\n",
       "      <td>8.000000</td>\n",
       "      <td>8.000000</td>\n",
       "      <td>8.000000</td>\n",
       "      <td>8.000000</td>\n",
       "      <td>8.000000</td>\n",
       "      <td>8.000000</td>\n",
       "      <td>8.000000</td>\n",
       "      <td>8.000000</td>\n",
       "      <td>8.000000</td>\n",
       "    </tr>\n",
       "    <tr>\n",
       "      <th>max</th>\n",
       "      <td>154139.000000</td>\n",
       "      <td>1.000000</td>\n",
       "      <td>10.000000</td>\n",
       "      <td>10.000000</td>\n",
       "      <td>10.000000</td>\n",
       "      <td>10.000000</td>\n",
       "      <td>10.000000</td>\n",
       "      <td>10.000000</td>\n",
       "      <td>10.000000</td>\n",
       "      <td>10.000000</td>\n",
       "      <td>10.000000</td>\n",
       "      <td>10.000000</td>\n",
       "      <td>10.000000</td>\n",
       "    </tr>\n",
       "  </tbody>\n",
       "</table>\n",
       "</div>"
      ],
      "text/plain": [
       "                  ID         Target  age_of_vehicle_years  sched_serv_warr  \\\n",
       "count  131337.000000  131337.000000         131337.000000    131337.000000   \n",
       "mean    77097.384180       0.026809              5.493022         5.452500   \n",
       "std     44501.636704       0.161525              2.843299         2.884328   \n",
       "min         1.000000       0.000000              1.000000         1.000000   \n",
       "25%     38563.000000       0.000000              3.000000         3.000000   \n",
       "50%     77132.000000       0.000000              5.000000         5.000000   \n",
       "75%    115668.000000       0.000000              8.000000         8.000000   \n",
       "max    154139.000000       1.000000             10.000000        10.000000   \n",
       "\n",
       "       non_sched_serv_warr  sched_serv_paid  non_sched_serv_paid  \\\n",
       "count        131337.000000    131337.000000        131337.000000   \n",
       "mean              5.472517         5.452287             5.497050   \n",
       "std               2.870665         2.886528             2.878699   \n",
       "min               1.000000         1.000000             1.000000   \n",
       "25%               3.000000         3.000000             3.000000   \n",
       "50%               5.000000         5.000000             5.000000   \n",
       "75%               8.000000         8.000000             8.000000   \n",
       "max              10.000000        10.000000            10.000000   \n",
       "\n",
       "       total_paid_services  total_services  mth_since_last_serv  \\\n",
       "count        131337.000000   131337.000000        131337.000000   \n",
       "mean              5.481692        5.454967             5.469807   \n",
       "std               2.880408        2.875961             2.859756   \n",
       "min               1.000000        1.000000             1.000000   \n",
       "25%               3.000000        3.000000             3.000000   \n",
       "50%               5.000000        5.000000             5.000000   \n",
       "75%               8.000000        8.000000             8.000000   \n",
       "max              10.000000       10.000000            10.000000   \n",
       "\n",
       "       annualised_mileage  num_dealers_visited  num_serv_dealer_purchased  \n",
       "count       131337.000000        131337.000000              131337.000000  \n",
       "mean             5.502836             5.485438                   5.480778  \n",
       "std              2.854896             2.876772                   2.867524  \n",
       "min              1.000000             1.000000                   1.000000  \n",
       "25%              3.000000             3.000000                   3.000000  \n",
       "50%              5.000000             5.000000                   5.000000  \n",
       "75%              8.000000             8.000000                   8.000000  \n",
       "max             10.000000            10.000000                  10.000000  "
      ]
     },
     "execution_count": 4,
     "metadata": {},
     "output_type": "execute_result"
    }
   ],
   "source": [
    "# Displaying the descriptive statistics of the df\n",
    "df.describe()"
   ]
  },
  {
   "cell_type": "code",
   "execution_count": 5,
   "id": "d6158253",
   "metadata": {},
   "outputs": [
    {
     "data": {
      "text/plain": [
       "(131337, 17)"
      ]
     },
     "execution_count": 5,
     "metadata": {},
     "output_type": "execute_result"
    }
   ],
   "source": [
    "# displaying the number of rows and columns of df\n",
    "df.shape"
   ]
  },
  {
   "cell_type": "code",
   "execution_count": 6,
   "id": "59a58260",
   "metadata": {},
   "outputs": [
    {
     "name": "stdout",
     "output_type": "stream",
     "text": [
      "<class 'pandas.core.frame.DataFrame'>\n",
      "RangeIndex: 131337 entries, 0 to 131336\n",
      "Data columns (total 17 columns):\n",
      " #   Column                     Non-Null Count   Dtype \n",
      "---  ------                     --------------   ----- \n",
      " 0   ID                         131337 non-null  int64 \n",
      " 1   Target                     131337 non-null  int64 \n",
      " 2   age_band                   18962 non-null   object\n",
      " 3   gender                     62029 non-null   object\n",
      " 4   car_model                  131337 non-null  object\n",
      " 5   car_segment                131337 non-null  object\n",
      " 6   age_of_vehicle_years       131337 non-null  int64 \n",
      " 7   sched_serv_warr            131337 non-null  int64 \n",
      " 8   non_sched_serv_warr        131337 non-null  int64 \n",
      " 9   sched_serv_paid            131337 non-null  int64 \n",
      " 10  non_sched_serv_paid        131337 non-null  int64 \n",
      " 11  total_paid_services        131337 non-null  int64 \n",
      " 12  total_services             131337 non-null  int64 \n",
      " 13  mth_since_last_serv        131337 non-null  int64 \n",
      " 14  annualised_mileage         131337 non-null  int64 \n",
      " 15  num_dealers_visited        131337 non-null  int64 \n",
      " 16  num_serv_dealer_purchased  131337 non-null  int64 \n",
      "dtypes: int64(13), object(4)\n",
      "memory usage: 17.0+ MB\n"
     ]
    }
   ],
   "source": [
    "# displaying the summary (info) of df\n",
    "df.info()"
   ]
  },
  {
   "cell_type": "code",
   "execution_count": 7,
   "id": "1a20a808",
   "metadata": {
    "scrolled": true
   },
   "outputs": [
    {
     "data": {
      "text/plain": [
       "ID                                0\n",
       "Target                            0\n",
       "age_band                     112375\n",
       "gender                        69308\n",
       "car_model                         0\n",
       "car_segment                       0\n",
       "age_of_vehicle_years              0\n",
       "sched_serv_warr                   0\n",
       "non_sched_serv_warr               0\n",
       "sched_serv_paid                   0\n",
       "non_sched_serv_paid               0\n",
       "total_paid_services               0\n",
       "total_services                    0\n",
       "mth_since_last_serv               0\n",
       "annualised_mileage                0\n",
       "num_dealers_visited               0\n",
       "num_serv_dealer_purchased         0\n",
       "dtype: int64"
      ]
     },
     "execution_count": 7,
     "metadata": {},
     "output_type": "execute_result"
    }
   ],
   "source": [
    "# Checking for missing values\n",
    "df.isnull().sum()"
   ]
  },
  {
   "cell_type": "markdown",
   "id": "f83bbafb",
   "metadata": {},
   "source": [
    "### 2. Preparing and Cleaning the data"
   ]
  },
  {
   "cell_type": "code",
   "execution_count": 8,
   "id": "0ee95aef",
   "metadata": {},
   "outputs": [
    {
     "data": {
      "text/plain": [
       "0    127816\n",
       "1      3521\n",
       "Name: Target, dtype: int64"
      ]
     },
     "execution_count": 8,
     "metadata": {},
     "output_type": "execute_result"
    }
   ],
   "source": [
    "# Checking the value counts of the classes of 0 and 1\n",
    "df['Target'].value_counts()"
   ]
  },
  {
   "cell_type": "code",
   "execution_count": 59,
   "id": "a47a8001",
   "metadata": {},
   "outputs": [
    {
     "data": {
      "text/plain": [
       "<function matplotlib.pyplot.show(close=None, block=None)>"
      ]
     },
     "execution_count": 59,
     "metadata": {},
     "output_type": "execute_result"
    },
    {
     "data": {
      "image/png": "[encoded data removed]",
      "text/plain": [
       "<Figure size 640x480 with 1 Axes>"
      ]
     },
     "metadata": {},
     "output_type": "display_data"
    }
   ],
   "source": [
    "# Checking the value counts of the classes of 0 and 1\n",
    "df['Target'].value_counts().plot(kind='bar', color='LightBlue')\n",
    "plt.show"
   ]
  },
  {
   "cell_type": "code",
   "execution_count": 10,
   "id": "a8cff915",
   "metadata": {},
   "outputs": [
    {
     "name": "stdout",
     "output_type": "stream",
     "text": [
      "Number of duplicates: 0\n"
     ]
    }
   ],
   "source": [
    "# Check for duplicates\n",
    "duplicates = df.duplicated()\n",
    "\n",
    "# Print number of duplicates\n",
    "print(f\"Number of duplicates: {duplicates.sum()}\")"
   ]
  },
  {
   "cell_type": "code",
   "execution_count": 11,
   "id": "746457a4",
   "metadata": {},
   "outputs": [],
   "source": [
    "# Dropping the 'ID' and 'age_band' columns as it is not required for in the process\n",
    "df_copy = df.drop(['ID','age_band'], axis=1)"
   ]
  },
  {
   "cell_type": "code",
   "execution_count": 12,
   "id": "3cf4deaa",
   "metadata": {},
   "outputs": [
    {
     "data": {
      "text/plain": [
       "Target                           0\n",
       "gender                       69308\n",
       "car_model                        0\n",
       "car_segment                      0\n",
       "age_of_vehicle_years             0\n",
       "sched_serv_warr                  0\n",
       "non_sched_serv_warr              0\n",
       "sched_serv_paid                  0\n",
       "non_sched_serv_paid              0\n",
       "total_paid_services              0\n",
       "total_services                   0\n",
       "mth_since_last_serv              0\n",
       "annualised_mileage               0\n",
       "num_dealers_visited              0\n",
       "num_serv_dealer_purchased        0\n",
       "dtype: int64"
      ]
     },
     "execution_count": 12,
     "metadata": {},
     "output_type": "execute_result"
    }
   ],
   "source": [
    "# Checking for missing values\n",
    "df_copy.isnull().sum()"
   ]
  },
  {
   "cell_type": "code",
   "execution_count": 14,
   "id": "8476430b",
   "metadata": {},
   "outputs": [],
   "source": [
    "# Replace missing values in a specific column with 'unknown'\n",
    "df_copy['gender'] = df_copy['gender'].fillna('unknown')"
   ]
  },
  {
   "cell_type": "code",
   "execution_count": 60,
   "id": "fea386e4",
   "metadata": {},
   "outputs": [
    {
     "data": {
      "text/plain": [
       "Target                       0\n",
       "age_of_vehicle_years         0\n",
       "sched_serv_warr              0\n",
       "non_sched_serv_warr          0\n",
       "sched_serv_paid              0\n",
       "non_sched_serv_paid          0\n",
       "total_paid_services          0\n",
       "total_services               0\n",
       "mth_since_last_serv          0\n",
       "annualised_mileage           0\n",
       "num_dealers_visited          0\n",
       "num_serv_dealer_purchased    0\n",
       "car_model_model_1            0\n",
       "car_model_model_10           0\n",
       "car_model_model_11           0\n",
       "car_model_model_12           0\n",
       "car_model_model_13           0\n",
       "car_model_model_14           0\n",
       "car_model_model_15           0\n",
       "car_model_model_16           0\n",
       "car_model_model_17           0\n",
       "car_model_model_18           0\n",
       "car_model_model_19           0\n",
       "car_model_model_2            0\n",
       "car_model_model_3            0\n",
       "car_model_model_4            0\n",
       "car_model_model_5            0\n",
       "car_model_model_6            0\n",
       "car_model_model_7            0\n",
       "car_model_model_8            0\n",
       "car_model_model_9            0\n",
       "car_segment_LCV              0\n",
       "car_segment_Large/SUV        0\n",
       "car_segment_Other            0\n",
       "car_segment_Small/Medium     0\n",
       "gender_Female                0\n",
       "gender_Male                  0\n",
       "gender_unknown               0\n",
       "dtype: int64"
      ]
     },
     "execution_count": 60,
     "metadata": {},
     "output_type": "execute_result"
    }
   ],
   "source": [
    "# Confirming if there are any missing values still left in the dataset\n",
    "df_copy.isnull().sum()"
   ]
  },
  {
   "cell_type": "code",
   "execution_count": 15,
   "id": "535be72b",
   "metadata": {},
   "outputs": [
    {
     "data": {
      "text/html": [
       "<div>\n",
       "<style scoped>\n",
       "    .dataframe tbody tr th:only-of-type {\n",
       "        vertical-align: middle;\n",
       "    }\n",
       "\n",
       "    .dataframe tbody tr th {\n",
       "        vertical-align: top;\n",
       "    }\n",
       "\n",
       "    .dataframe thead th {\n",
       "        text-align: right;\n",
       "    }\n",
       "</style>\n",
       "<table border=\"1\" class=\"dataframe\">\n",
       "  <thead>\n",
       "    <tr style=\"text-align: right;\">\n",
       "      <th></th>\n",
       "      <th>gender</th>\n",
       "      <th>car_model</th>\n",
       "      <th>car_segment</th>\n",
       "    </tr>\n",
       "  </thead>\n",
       "  <tbody>\n",
       "    <tr>\n",
       "      <th>0</th>\n",
       "      <td>Male</td>\n",
       "      <td>model_1</td>\n",
       "      <td>LCV</td>\n",
       "    </tr>\n",
       "    <tr>\n",
       "      <th>1</th>\n",
       "      <td>unknown</td>\n",
       "      <td>model_2</td>\n",
       "      <td>Small/Medium</td>\n",
       "    </tr>\n",
       "    <tr>\n",
       "      <th>2</th>\n",
       "      <td>Male</td>\n",
       "      <td>model_3</td>\n",
       "      <td>Large/SUV</td>\n",
       "    </tr>\n",
       "    <tr>\n",
       "      <th>3</th>\n",
       "      <td>unknown</td>\n",
       "      <td>model_3</td>\n",
       "      <td>Large/SUV</td>\n",
       "    </tr>\n",
       "    <tr>\n",
       "      <th>4</th>\n",
       "      <td>Female</td>\n",
       "      <td>model_2</td>\n",
       "      <td>Small/Medium</td>\n",
       "    </tr>\n",
       "    <tr>\n",
       "      <th>...</th>\n",
       "      <td>...</td>\n",
       "      <td>...</td>\n",
       "      <td>...</td>\n",
       "    </tr>\n",
       "    <tr>\n",
       "      <th>131332</th>\n",
       "      <td>unknown</td>\n",
       "      <td>model_3</td>\n",
       "      <td>Large/SUV</td>\n",
       "    </tr>\n",
       "    <tr>\n",
       "      <th>131333</th>\n",
       "      <td>unknown</td>\n",
       "      <td>model_3</td>\n",
       "      <td>Large/SUV</td>\n",
       "    </tr>\n",
       "    <tr>\n",
       "      <th>131334</th>\n",
       "      <td>unknown</td>\n",
       "      <td>model_5</td>\n",
       "      <td>Large/SUV</td>\n",
       "    </tr>\n",
       "    <tr>\n",
       "      <th>131335</th>\n",
       "      <td>unknown</td>\n",
       "      <td>model_5</td>\n",
       "      <td>Large/SUV</td>\n",
       "    </tr>\n",
       "    <tr>\n",
       "      <th>131336</th>\n",
       "      <td>unknown</td>\n",
       "      <td>model_1</td>\n",
       "      <td>LCV</td>\n",
       "    </tr>\n",
       "  </tbody>\n",
       "</table>\n",
       "<p>131337 rows × 3 columns</p>\n",
       "</div>"
      ],
      "text/plain": [
       "         gender car_model   car_segment\n",
       "0          Male   model_1           LCV\n",
       "1       unknown   model_2  Small/Medium\n",
       "2          Male   model_3     Large/SUV\n",
       "3       unknown   model_3     Large/SUV\n",
       "4        Female   model_2  Small/Medium\n",
       "...         ...       ...           ...\n",
       "131332  unknown   model_3     Large/SUV\n",
       "131333  unknown   model_3     Large/SUV\n",
       "131334  unknown   model_5     Large/SUV\n",
       "131335  unknown   model_5     Large/SUV\n",
       "131336  unknown   model_1           LCV\n",
       "\n",
       "[131337 rows x 3 columns]"
      ]
     },
     "execution_count": 15,
     "metadata": {},
     "output_type": "execute_result"
    }
   ],
   "source": [
    "# Understanding the Categorical columns\n",
    "df_copy[['gender','car_model','car_segment']]"
   ]
  },
  {
   "cell_type": "code",
   "execution_count": 16,
   "id": "3f24667d",
   "metadata": {},
   "outputs": [],
   "source": [
    "# Performing One Hot Encoding\n",
    "df_copy = pd.get_dummies(df_copy, columns=['car_model', 'car_segment', 'gender'])"
   ]
  },
  {
   "cell_type": "code",
   "execution_count": 17,
   "id": "0e9dc4c1",
   "metadata": {},
   "outputs": [
    {
     "name": "stdout",
     "output_type": "stream",
     "text": [
      "<class 'pandas.core.frame.DataFrame'>\n",
      "RangeIndex: 131337 entries, 0 to 131336\n",
      "Data columns (total 38 columns):\n",
      " #   Column                     Non-Null Count   Dtype\n",
      "---  ------                     --------------   -----\n",
      " 0   Target                     131337 non-null  int64\n",
      " 1   age_of_vehicle_years       131337 non-null  int64\n",
      " 2   sched_serv_warr            131337 non-null  int64\n",
      " 3   non_sched_serv_warr        131337 non-null  int64\n",
      " 4   sched_serv_paid            131337 non-null  int64\n",
      " 5   non_sched_serv_paid        131337 non-null  int64\n",
      " 6   total_paid_services        131337 non-null  int64\n",
      " 7   total_services             131337 non-null  int64\n",
      " 8   mth_since_last_serv        131337 non-null  int64\n",
      " 9   annualised_mileage         131337 non-null  int64\n",
      " 10  num_dealers_visited        131337 non-null  int64\n",
      " 11  num_serv_dealer_purchased  131337 non-null  int64\n",
      " 12  car_model_model_1          131337 non-null  uint8\n",
      " 13  car_model_model_10         131337 non-null  uint8\n",
      " 14  car_model_model_11         131337 non-null  uint8\n",
      " 15  car_model_model_12         131337 non-null  uint8\n",
      " 16  car_model_model_13         131337 non-null  uint8\n",
      " 17  car_model_model_14         131337 non-null  uint8\n",
      " 18  car_model_model_15         131337 non-null  uint8\n",
      " 19  car_model_model_16         131337 non-null  uint8\n",
      " 20  car_model_model_17         131337 non-null  uint8\n",
      " 21  car_model_model_18         131337 non-null  uint8\n",
      " 22  car_model_model_19         131337 non-null  uint8\n",
      " 23  car_model_model_2          131337 non-null  uint8\n",
      " 24  car_model_model_3          131337 non-null  uint8\n",
      " 25  car_model_model_4          131337 non-null  uint8\n",
      " 26  car_model_model_5          131337 non-null  uint8\n",
      " 27  car_model_model_6          131337 non-null  uint8\n",
      " 28  car_model_model_7          131337 non-null  uint8\n",
      " 29  car_model_model_8          131337 non-null  uint8\n",
      " 30  car_model_model_9          131337 non-null  uint8\n",
      " 31  car_segment_LCV            131337 non-null  uint8\n",
      " 32  car_segment_Large/SUV      131337 non-null  uint8\n",
      " 33  car_segment_Other          131337 non-null  uint8\n",
      " 34  car_segment_Small/Medium   131337 non-null  uint8\n",
      " 35  gender_Female              131337 non-null  uint8\n",
      " 36  gender_Male                131337 non-null  uint8\n",
      " 37  gender_unknown             131337 non-null  uint8\n",
      "dtypes: int64(12), uint8(26)\n",
      "memory usage: 15.3 MB\n"
     ]
    }
   ],
   "source": [
    "df_copy.info()"
   ]
  },
  {
   "cell_type": "code",
   "execution_count": 61,
   "id": "35f52f40",
   "metadata": {},
   "outputs": [
    {
     "data": {
      "image/png": "[encoded data removed]",
      "text/plain": [
       "<Figure size 1000x3000 with 11 Axes>"
      ]
     },
     "metadata": {},
     "output_type": "display_data"
    }
   ],
   "source": [
    "# Plotting histogram to check the distribution of columns\n",
    "\n",
    "cols_to_check = ['age_of_vehicle_years', 'sched_serv_warr', 'non_sched_serv_warr', 'sched_serv_paid', 'sched_serv_paid', 'total_paid_services', 'total_services', 'mth_since_last_serv', 'annualised_mileage', 'num_dealers_visited', 'num_serv_dealer_purchased']\n",
    "\n",
    "# Create subplots for each column\n",
    "fig, axs = plt.subplots(nrows=len(cols_to_check), figsize=(10, 30), sharex=True)\n",
    "\n",
    "# Plot histograms for each column\n",
    "for i, col in enumerate(cols_to_check):\n",
    "    axs[i].hist(df[col], bins=30)\n",
    "    axs[i].set_title(col)\n",
    "\n",
    "plt.subplots_adjust(hspace=0.5)\n",
    "plt.show()"
   ]
  },
  {
   "cell_type": "markdown",
   "id": "7d8078a1",
   "metadata": {},
   "source": [
    "### 3. Splitting the dataset into Train (20%), Validation (20%) and Test (20%) sets"
   ]
  },
  {
   "cell_type": "code",
   "execution_count": 19,
   "id": "0984eec1",
   "metadata": {},
   "outputs": [
    {
     "name": "stdout",
     "output_type": "stream",
     "text": [
      "Train set: (78801, 37) (78801,)\n",
      "Validation set: (26268, 37) (26268,)\n",
      "Test set: (26268, 37) (26268,)\n"
     ]
    }
   ],
   "source": [
    "X = df_copy.drop('Target', axis=1) # features\n",
    "y = df_copy['Target'] # target variable\n",
    "\n",
    "# split into train, validation and test sets\n",
    "X_train, X_test, y_train, y_test = train_test_split(X, y, test_size=0.2, random_state=42)\n",
    "X_train, X_val, y_train, y_val = train_test_split(X_train, y_train, test_size=0.25, random_state=42) \n",
    "\n",
    "# check the shape of the data\n",
    "print('Train set:', X_train.shape, y_train.shape)\n",
    "print('Validation set:', X_val.shape, y_val.shape)\n",
    "print('Test set:', X_test.shape, y_test.shape)"
   ]
  },
  {
   "cell_type": "code",
   "execution_count": 20,
   "id": "36fbdfe9",
   "metadata": {},
   "outputs": [
    {
     "data": {
      "text/plain": [
       "0    76645\n",
       "1     2156\n",
       "Name: Target, dtype: int64"
      ]
     },
     "execution_count": 20,
     "metadata": {},
     "output_type": "execute_result"
    }
   ],
   "source": [
    "y_train.value_counts()"
   ]
  },
  {
   "cell_type": "code",
   "execution_count": 21,
   "id": "ee0100dc",
   "metadata": {},
   "outputs": [
    {
     "data": {
      "text/plain": [
       "0    25563\n",
       "1      705\n",
       "Name: Target, dtype: int64"
      ]
     },
     "execution_count": 21,
     "metadata": {},
     "output_type": "execute_result"
    }
   ],
   "source": [
    "y_val.value_counts()"
   ]
  },
  {
   "cell_type": "code",
   "execution_count": 22,
   "id": "f1cb7a39",
   "metadata": {},
   "outputs": [
    {
     "data": {
      "text/plain": [
       "0    25608\n",
       "1      660\n",
       "Name: Target, dtype: int64"
      ]
     },
     "execution_count": 22,
     "metadata": {},
     "output_type": "execute_result"
    }
   ],
   "source": [
    "y_test.value_counts()"
   ]
  },
  {
   "cell_type": "markdown",
   "id": "bc2d6f3d",
   "metadata": {},
   "source": [
    "### 4. Training the Decision Tree Classifier"
   ]
  },
  {
   "cell_type": "code",
   "execution_count": 23,
   "id": "ef7afd4a",
   "metadata": {},
   "outputs": [],
   "source": [
    "from sklearn.tree import DecisionTreeClassifier"
   ]
  },
  {
   "cell_type": "code",
   "execution_count": 24,
   "id": "8ea3dc9f",
   "metadata": {},
   "outputs": [
    {
     "data": {
      "text/plain": [
       "DecisionTreeClassifier()"
      ]
     },
     "execution_count": 24,
     "metadata": {},
     "output_type": "execute_result"
    }
   ],
   "source": [
    "# Create Decision Tree model\n",
    "dt_model = DecisionTreeClassifier()\n",
    "\n",
    "# Fit the model on train set\n",
    "dt_model.fit(X_train, y_train)"
   ]
  },
  {
   "cell_type": "markdown",
   "id": "64a93b87",
   "metadata": {},
   "source": [
    "### 5. Assessing the Baseline Performance"
   ]
  },
  {
   "cell_type": "code",
   "execution_count": 62,
   "id": "03ece3b6",
   "metadata": {},
   "outputs": [
    {
     "name": "stdout",
     "output_type": "stream",
     "text": [
      "Baseline performance:\n",
      "Accuracy: 0.973161\n"
     ]
    }
   ],
   "source": [
    "# Assess baseline performance with majority class prediction\n",
    "\n",
    "majority_class = y_train.mode()[0]\n",
    "y_val_majority = [majority_class] * len(y_val)\n",
    "acc_val_base = accuracy_score(y_val, y_val_majority)\n",
    "\n",
    "print('Baseline performance:')\n",
    "print(f'Accuracy: {acc_val_base:.6f}')"
   ]
  },
  {
   "cell_type": "markdown",
   "id": "92449e1d",
   "metadata": {},
   "source": [
    "### 6. Assessing the performance on validation set"
   ]
  },
  {
   "cell_type": "code",
   "execution_count": 25,
   "id": "a0786888",
   "metadata": {
    "scrolled": false
   },
   "outputs": [
    {
     "name": "stdout",
     "output_type": "stream",
     "text": [
      "Validation set evaluation metrics:\n",
      "Accuracy: 0.989150\n",
      "Precision: 0.800000\n",
      "Recall: 0.794326\n",
      "F1 score: 0.797153\n",
      "AUC-ROC score: 0.894421\n"
     ]
    }
   ],
   "source": [
    "# Make predictions on validation data\n",
    "y_val_pred = dt_model.predict(X_val)\n",
    "\n",
    "# Calculate evaluation metrics on validation data\n",
    "acc_val = accuracy_score(y_val, y_val_pred)\n",
    "precision_val = precision_score(y_val, y_val_pred)\n",
    "recall_val = recall_score(y_val, y_val_pred)\n",
    "f1_val = f1_score(y_val, y_val_pred)\n",
    "auc_roc_val = roc_auc_score(y_val,  dt_model.predict_proba(X_val)[:,1])\n",
    "\n",
    "# Print evaluation metrics on validation data\n",
    "print('Validation set evaluation metrics:')\n",
    "print(f'Accuracy: {acc_val:.6f}')\n",
    "print(f'Precision: {precision_val:.6f}')\n",
    "print(f'Recall: {recall_val:.6f}')\n",
    "print(f'F1 score: {f1_val:.6f}')\n",
    "print(f'AUC-ROC score: {auc_roc_val:.6f}')"
   ]
  },
  {
   "cell_type": "markdown",
   "id": "ac1025e7",
   "metadata": {},
   "source": [
    "### Changing the class weight to balanced to check the performance metrics"
   ]
  },
  {
   "cell_type": "code",
   "execution_count": 26,
   "id": "ae26b1ee",
   "metadata": {},
   "outputs": [
    {
     "data": {
      "text/plain": [
       "DecisionTreeClassifier(class_weight='balanced', random_state=42)"
      ]
     },
     "execution_count": 26,
     "metadata": {},
     "output_type": "execute_result"
    }
   ],
   "source": [
    "# Define the random forest classifier model and fit on the train data\n",
    "rf_class = DecisionTreeClassifier(random_state=42,class_weight='balanced')\n",
    "rf_class.fit(X_train, y_train)\n"
   ]
  },
  {
   "cell_type": "code",
   "execution_count": 27,
   "id": "3d89bb42",
   "metadata": {
    "scrolled": true
   },
   "outputs": [
    {
     "name": "stdout",
     "output_type": "stream",
     "text": [
      "Validation set evaluation metrics:\n",
      "Accuracy: 0.99\n",
      "Precision: 0.80\n",
      "Recall: 0.73\n",
      "F1 score: 0.77\n",
      "AUC-ROC score: 0.8649\n"
     ]
    }
   ],
   "source": [
    "# Make predictions on validation data\n",
    "y_val_pred = rf_class.predict(X_val)\n",
    "\n",
    "# Calculate evaluation metrics on validation data\n",
    "acc_val = accuracy_score(y_val, y_val_pred)\n",
    "precision_val = precision_score(y_val, y_val_pred)\n",
    "recall_val = recall_score(y_val, y_val_pred)\n",
    "f1_val = f1_score(y_val, y_val_pred)\n",
    "auc_roc_val = roc_auc_score(y_val,  rf_class.predict_proba(X_val)[:,1])\n",
    "\n",
    "# Print evaluation metrics on validation data\n",
    "print('Validation set evaluation metrics:')\n",
    "print(f'Accuracy: {acc_val:.2f}')\n",
    "print(f'Precision: {precision_val:.2f}')\n",
    "print(f'Recall: {recall_val:.2f}')\n",
    "print(f'F1 score: {f1_val:.2f}')\n",
    "print(f'AUC-ROC score: {auc_roc_val:.4f}')"
   ]
  },
  {
   "cell_type": "markdown",
   "id": "d4dd247c",
   "metadata": {},
   "source": [
    "### Trying oversampling to compare the performance metrics"
   ]
  },
  {
   "cell_type": "code",
   "execution_count": 28,
   "id": "fce66643",
   "metadata": {},
   "outputs": [],
   "source": [
    "from imblearn.over_sampling import SMOTE\n",
    "\n",
    "# Instantiate SMOTE\n",
    "smote = SMOTE()\n",
    "\n",
    "# Fit and transform the training data\n",
    "X_train_over, y_train_over = smote.fit_resample(X_train, y_train)"
   ]
  },
  {
   "cell_type": "code",
   "execution_count": 29,
   "id": "3d3f9f5e",
   "metadata": {},
   "outputs": [
    {
     "name": "stdout",
     "output_type": "stream",
     "text": [
      "Train set: (153290, 37) (153290,)\n"
     ]
    }
   ],
   "source": [
    "print('Train set:', X_train_over.shape, y_train_over.shape)"
   ]
  },
  {
   "cell_type": "code",
   "execution_count": 30,
   "id": "ee825a02",
   "metadata": {},
   "outputs": [
    {
     "data": {
      "text/plain": [
       "DecisionTreeClassifier(random_state=42)"
      ]
     },
     "execution_count": 30,
     "metadata": {},
     "output_type": "execute_result"
    }
   ],
   "source": [
    "# Define the random forest classifier model and fit on the train data\n",
    "rfo = DecisionTreeClassifier(random_state=42,)\n",
    "rfo.fit(X_train_over, y_train_over)\n"
   ]
  },
  {
   "cell_type": "code",
   "execution_count": 31,
   "id": "6bb7c72e",
   "metadata": {},
   "outputs": [
    {
     "name": "stdout",
     "output_type": "stream",
     "text": [
      "Validation set evaluation metrics:\n",
      "Accuracy: 0.981879\n",
      "Precision: 0.643664\n",
      "Recall: 0.727660\n",
      "F1 score: 0.683089\n",
      "AUC-ROC score: 0.858275\n"
     ]
    }
   ],
   "source": [
    "# Make predictions on validation data\n",
    "y_val_pred = rfo.predict(X_val)\n",
    "\n",
    "# Calculate evaluation metrics on validation data\n",
    "acc_val = accuracy_score(y_val, y_val_pred)\n",
    "precision_val = precision_score(y_val, y_val_pred)\n",
    "recall_val = recall_score(y_val, y_val_pred)\n",
    "f1_val = f1_score(y_val, y_val_pred)\n",
    "auc_roc_val = roc_auc_score(y_val,  rfo.predict_proba(X_val)[:,1])\n",
    "\n",
    "# Print evaluation metrics on validation data\n",
    "print('Validation set evaluation metrics:')\n",
    "print(f'Accuracy: {acc_val:.6f}')\n",
    "print(f'Precision: {precision_val:.6f}')\n",
    "print(f'Recall: {recall_val:.6f}')\n",
    "print(f'F1 score: {f1_val:.6f}')\n",
    "print(f'AUC-ROC score: {auc_roc_val:.6f}')"
   ]
  },
  {
   "cell_type": "markdown",
   "id": "47330a9f",
   "metadata": {},
   "source": [
    "### Hyper-Parameter Tuning"
   ]
  },
  {
   "cell_type": "markdown",
   "id": "1937fc87",
   "metadata": {},
   "source": [
    "### max_dept"
   ]
  },
  {
   "cell_type": "code",
   "execution_count": 32,
   "id": "46a1aee4",
   "metadata": {},
   "outputs": [
    {
     "data": {
      "text/plain": [
       "DecisionTreeClassifier(max_depth=5, random_state=42)"
      ]
     },
     "execution_count": 32,
     "metadata": {},
     "output_type": "execute_result"
    }
   ],
   "source": [
    "# Define the random forest classifier model and fit on the train data\n",
    "dt_model3 = DecisionTreeClassifier(random_state=42, max_depth=5)\n",
    "dt_model3.fit(X_train, y_train)"
   ]
  },
  {
   "cell_type": "code",
   "execution_count": 33,
   "id": "9c6c0d43",
   "metadata": {},
   "outputs": [
    {
     "name": "stdout",
     "output_type": "stream",
     "text": [
      "Validation set evaluation metrics:\n",
      "Accuracy: 0.983250\n",
      "Precision: 0.886297\n",
      "Recall: 0.431206\n",
      "F1 score: 0.580153\n",
      "AUC-ROC score: 0.939693\n"
     ]
    }
   ],
   "source": [
    "# Make predictions on validation data\n",
    "y_val_pred = dt_model3.predict(X_val)\n",
    "\n",
    "# Calculate evaluation metrics on validation data\n",
    "acc_val = accuracy_score(y_val, y_val_pred)\n",
    "precision_val = precision_score(y_val, y_val_pred)\n",
    "recall_val = recall_score(y_val, y_val_pred)\n",
    "f1_val = f1_score(y_val, y_val_pred)\n",
    "auc_roc_val = roc_auc_score(y_val,  dt_model3.predict_proba(X_val)[:,1])\n",
    "\n",
    "# Print evaluation metrics on validation data\n",
    "print('Validation set evaluation metrics:')\n",
    "print(f'Accuracy: {acc_val:.6f}')\n",
    "print(f'Precision: {precision_val:.6f}')\n",
    "print(f'Recall: {recall_val:.6f}')\n",
    "print(f'F1 score: {f1_val:.6f}')\n",
    "print(f'AUC-ROC score: {auc_roc_val:.6f}')"
   ]
  },
  {
   "cell_type": "code",
   "execution_count": 34,
   "id": "d639eaaa",
   "metadata": {},
   "outputs": [
    {
     "data": {
      "text/plain": [
       "DecisionTreeClassifier(max_depth=10, random_state=42)"
      ]
     },
     "execution_count": 34,
     "metadata": {},
     "output_type": "execute_result"
    }
   ],
   "source": [
    "# Define the random forest classifier model and fit on the train data\n",
    "dt_model4 = DecisionTreeClassifier(random_state=42, max_depth=10)\n",
    "dt_model4.fit(X_train, y_train)"
   ]
  },
  {
   "cell_type": "code",
   "execution_count": 35,
   "id": "fd77a03f",
   "metadata": {},
   "outputs": [
    {
     "name": "stdout",
     "output_type": "stream",
     "text": [
      "Validation set evaluation metrics:\n",
      "Accuracy: 0.989379\n",
      "Precision: 0.898876\n",
      "Recall: 0.680851\n",
      "F1 score: 0.774818\n",
      "AUC-ROC score: 0.947530\n"
     ]
    }
   ],
   "source": [
    "# Make predictions on validation data\n",
    "y_val_pred = dt_model4.predict(X_val)\n",
    "\n",
    "# Calculate evaluation metrics on validation data\n",
    "acc_val = accuracy_score(y_val, y_val_pred)\n",
    "precision_val = precision_score(y_val, y_val_pred)\n",
    "recall_val = recall_score(y_val, y_val_pred)\n",
    "f1_val = f1_score(y_val, y_val_pred)\n",
    "auc_roc_val = roc_auc_score(y_val,  dt_model4.predict_proba(X_val)[:,1])\n",
    "\n",
    "# Print evaluation metrics on validation data\n",
    "print('Validation set evaluation metrics:')\n",
    "print(f'Accuracy: {acc_val:.6f}')\n",
    "print(f'Precision: {precision_val:.6f}')\n",
    "print(f'Recall: {recall_val:.6f}')\n",
    "print(f'F1 score: {f1_val:.6f}')\n",
    "print(f'AUC-ROC score: {auc_roc_val:.6f}')"
   ]
  },
  {
   "cell_type": "code",
   "execution_count": 36,
   "id": "92d84311",
   "metadata": {},
   "outputs": [
    {
     "data": {
      "text/plain": [
       "DecisionTreeClassifier(max_depth=20, random_state=42)"
      ]
     },
     "execution_count": 36,
     "metadata": {},
     "output_type": "execute_result"
    }
   ],
   "source": [
    "# Define the random forest classifier model and fit on the train data\n",
    "dt_model5 = DecisionTreeClassifier(random_state=42, max_depth=20)\n",
    "dt_model5.fit(X_train, y_train)"
   ]
  },
  {
   "cell_type": "code",
   "execution_count": 37,
   "id": "b975a3db",
   "metadata": {},
   "outputs": [
    {
     "name": "stdout",
     "output_type": "stream",
     "text": [
      "Validation set evaluation metrics:\n",
      "Accuracy: 0.989417\n",
      "Precision: 0.808081\n",
      "Recall: 0.794326\n",
      "F1 score: 0.801144\n",
      "AUC-ROC score: 0.894525\n"
     ]
    }
   ],
   "source": [
    "# Make predictions on validation data\n",
    "y_val_pred = dt_model5.predict(X_val)\n",
    "\n",
    "# Calculate evaluation metrics on validation data\n",
    "acc_val = accuracy_score(y_val, y_val_pred)\n",
    "precision_val = precision_score(y_val, y_val_pred)\n",
    "recall_val = recall_score(y_val, y_val_pred)\n",
    "f1_val = f1_score(y_val, y_val_pred)\n",
    "auc_roc_val = roc_auc_score(y_val,  dt_model5.predict_proba(X_val)[:,1])\n",
    "\n",
    "# Print evaluation metrics on validation data\n",
    "print('Validation set evaluation metrics:')\n",
    "print(f'Accuracy: {acc_val:.6f}')\n",
    "print(f'Precision: {precision_val:.6f}')\n",
    "print(f'Recall: {recall_val:.6f}')\n",
    "print(f'F1 score: {f1_val:.6f}')\n",
    "print(f'AUC-ROC score: {auc_roc_val:.6f}')"
   ]
  },
  {
   "cell_type": "markdown",
   "id": "2bda7d84",
   "metadata": {},
   "source": [
    "### min sample split"
   ]
  },
  {
   "cell_type": "code",
   "execution_count": 38,
   "id": "3a9682cd",
   "metadata": {},
   "outputs": [
    {
     "data": {
      "text/plain": [
       "DecisionTreeClassifier(max_depth=20, min_samples_split=5, random_state=42)"
      ]
     },
     "execution_count": 38,
     "metadata": {},
     "output_type": "execute_result"
    }
   ],
   "source": [
    "# Define the random forest classifier model and fit on the train data\n",
    "dt_model6 = DecisionTreeClassifier(random_state=42, max_depth=20, min_samples_split=5)\n",
    "dt_model6.fit(X_train, y_train)"
   ]
  },
  {
   "cell_type": "code",
   "execution_count": 39,
   "id": "501ddcca",
   "metadata": {},
   "outputs": [
    {
     "name": "stdout",
     "output_type": "stream",
     "text": [
      "Validation set evaluation metrics:\n",
      "Accuracy: 0.990635\n",
      "Precision: 0.845113\n",
      "Recall: 0.797163\n",
      "F1 score: 0.820438\n",
      "AUC-ROC score: 0.913295\n"
     ]
    }
   ],
   "source": [
    "# Make predictions on validation data\n",
    "y_val_pred = dt_model6.predict(X_val)\n",
    "\n",
    "# Calculate evaluation metrics on validation data\n",
    "acc_val = accuracy_score(y_val, y_val_pred)\n",
    "precision_val = precision_score(y_val, y_val_pred)\n",
    "recall_val = recall_score(y_val, y_val_pred)\n",
    "f1_val = f1_score(y_val, y_val_pred)\n",
    "auc_roc_val = roc_auc_score(y_val,  dt_model6.predict_proba(X_val)[:,1])\n",
    "\n",
    "# Print evaluation metrics on validation data\n",
    "print('Validation set evaluation metrics:')\n",
    "print(f'Accuracy: {acc_val:.6f}')\n",
    "print(f'Precision: {precision_val:.6f}')\n",
    "print(f'Recall: {recall_val:.6f}')\n",
    "print(f'F1 score: {f1_val:.6f}')\n",
    "print(f'AUC-ROC score: {auc_roc_val:.6f}')"
   ]
  },
  {
   "cell_type": "code",
   "execution_count": 40,
   "id": "6ad2a2b3",
   "metadata": {},
   "outputs": [
    {
     "data": {
      "text/plain": [
       "DecisionTreeClassifier(max_depth=20, min_samples_split=10, random_state=42)"
      ]
     },
     "execution_count": 40,
     "metadata": {},
     "output_type": "execute_result"
    }
   ],
   "source": [
    "# Define the random forest classifier model and fit on the train data\n",
    "dt_model7 = DecisionTreeClassifier(random_state=42, max_depth=20, min_samples_split=10)\n",
    "dt_model7.fit(X_train, y_train)"
   ]
  },
  {
   "cell_type": "code",
   "execution_count": 41,
   "id": "969ba66b",
   "metadata": {},
   "outputs": [
    {
     "name": "stdout",
     "output_type": "stream",
     "text": [
      "Validation set evaluation metrics:\n",
      "Accuracy: 0.991092\n",
      "Precision: 0.856278\n",
      "Recall: 0.802837\n",
      "F1 score: 0.828697\n",
      "AUC-ROC score: 0.924765\n"
     ]
    }
   ],
   "source": [
    "# Make predictions on validation data\n",
    "y_val_pred = dt_model7.predict(X_val)\n",
    "\n",
    "# Calculate evaluation metrics on validation data\n",
    "acc_val = accuracy_score(y_val, y_val_pred)\n",
    "precision_val = precision_score(y_val, y_val_pred)\n",
    "recall_val = recall_score(y_val, y_val_pred)\n",
    "f1_val = f1_score(y_val, y_val_pred)\n",
    "auc_roc_val = roc_auc_score(y_val,  dt_model7.predict_proba(X_val)[:,1])\n",
    "\n",
    "# Print evaluation metrics on validation data\n",
    "print('Validation set evaluation metrics:')\n",
    "print(f'Accuracy: {acc_val:.6f}')\n",
    "print(f'Precision: {precision_val:.6f}')\n",
    "print(f'Recall: {recall_val:.6f}')\n",
    "print(f'F1 score: {f1_val:.6f}')\n",
    "print(f'AUC-ROC score: {auc_roc_val:.6f}')"
   ]
  },
  {
   "cell_type": "markdown",
   "id": "d5d1a044",
   "metadata": {},
   "source": [
    "### min_samples_leaf"
   ]
  },
  {
   "cell_type": "code",
   "execution_count": 42,
   "id": "b16e624c",
   "metadata": {},
   "outputs": [
    {
     "data": {
      "text/plain": [
       "DecisionTreeClassifier(max_depth=20, min_samples_leaf=2, min_samples_split=10,\n",
       "                       random_state=42)"
      ]
     },
     "execution_count": 42,
     "metadata": {},
     "output_type": "execute_result"
    }
   ],
   "source": [
    "# Define the random forest classifier model and fit on the train data\n",
    "dt_model8 = DecisionTreeClassifier(random_state=42, max_depth=20, min_samples_split=10, min_samples_leaf=2)\n",
    "dt_model8.fit(X_train, y_train)"
   ]
  },
  {
   "cell_type": "code",
   "execution_count": 43,
   "id": "df107dff",
   "metadata": {},
   "outputs": [
    {
     "name": "stdout",
     "output_type": "stream",
     "text": [
      "Validation set evaluation metrics:\n",
      "Accuracy: 0.990863\n",
      "Precision: 0.864992\n",
      "Recall: 0.781560\n",
      "F1 score: 0.821162\n",
      "AUC-ROC score: 0.927715\n"
     ]
    }
   ],
   "source": [
    "# Make predictions on validation data\n",
    "y_val_pred = dt_model8.predict(X_val)\n",
    "\n",
    "# Calculate evaluation metrics on validation data\n",
    "acc_val = accuracy_score(y_val, y_val_pred)\n",
    "precision_val = precision_score(y_val, y_val_pred)\n",
    "recall_val = recall_score(y_val, y_val_pred)\n",
    "f1_val = f1_score(y_val, y_val_pred)\n",
    "auc_roc_val = roc_auc_score(y_val,  dt_model8.predict_proba(X_val)[:,1])\n",
    "\n",
    "# Print evaluation metrics on validation data\n",
    "print('Validation set evaluation metrics:')\n",
    "print(f'Accuracy: {acc_val:.6f}')\n",
    "print(f'Precision: {precision_val:.6f}')\n",
    "print(f'Recall: {recall_val:.6f}')\n",
    "print(f'F1 score: {f1_val:.6f}')\n",
    "print(f'AUC-ROC score: {auc_roc_val:.6f}')"
   ]
  },
  {
   "cell_type": "code",
   "execution_count": 44,
   "id": "0a09298e",
   "metadata": {},
   "outputs": [
    {
     "data": {
      "text/plain": [
       "DecisionTreeClassifier(max_depth=20, min_samples_leaf=4, min_samples_split=10,\n",
       "                       random_state=42)"
      ]
     },
     "execution_count": 44,
     "metadata": {},
     "output_type": "execute_result"
    }
   ],
   "source": [
    "# Define the random forest classifier model and fit on the train data\n",
    "dt_model9 = DecisionTreeClassifier(random_state=42, max_depth=20, min_samples_split=10, min_samples_leaf=4)\n",
    "dt_model9.fit(X_train, y_train)"
   ]
  },
  {
   "cell_type": "code",
   "execution_count": 45,
   "id": "f75800e8",
   "metadata": {},
   "outputs": [
    {
     "name": "stdout",
     "output_type": "stream",
     "text": [
      "Validation set evaluation metrics:\n",
      "Accuracy: 0.989950\n",
      "Precision: 0.856220\n",
      "Recall: 0.751773\n",
      "F1 score: 0.800604\n",
      "AUC-ROC score: 0.925441\n"
     ]
    }
   ],
   "source": [
    "# Make predictions on validation data\n",
    "y_val_pred = dt_model9.predict(X_val)\n",
    "\n",
    "# Calculate evaluation metrics on validation data\n",
    "acc_val = accuracy_score(y_val, y_val_pred)\n",
    "precision_val = precision_score(y_val, y_val_pred)\n",
    "recall_val = recall_score(y_val, y_val_pred)\n",
    "f1_val = f1_score(y_val, y_val_pred)\n",
    "auc_roc_val = roc_auc_score(y_val,  dt_model9.predict_proba(X_val)[:,1])\n",
    "\n",
    "# Print evaluation metrics on validation data\n",
    "print('Validation set evaluation metrics:')\n",
    "print(f'Accuracy: {acc_val:.6f}')\n",
    "print(f'Precision: {precision_val:.6f}')\n",
    "print(f'Recall: {recall_val:.6f}')\n",
    "print(f'F1 score: {f1_val:.6f}')\n",
    "print(f'AUC-ROC score: {auc_roc_val:.6f}')"
   ]
  },
  {
   "cell_type": "markdown",
   "id": "7fd85a09",
   "metadata": {},
   "source": [
    "### 6. Assessing the Performance Metrics on the Test Set with best hyperparameters"
   ]
  },
  {
   "cell_type": "code",
   "execution_count": 49,
   "id": "fe7083f3",
   "metadata": {},
   "outputs": [
    {
     "name": "stdout",
     "output_type": "stream",
     "text": [
      "\n",
      "Test set evaluation metrics:\n",
      "Accuracy: 0.990940\n",
      "Precision: 0.839228\n",
      "Recall: 0.790909\n",
      "F1 score: 0.814353\n",
      "AUC-ROC score: 0.915525\n"
     ]
    }
   ],
   "source": [
    "# Make predictions on test data\n",
    "y_test_pred = dt_model8.predict(X_test)\n",
    "\n",
    "# Calculate evaluation metrics on test data\n",
    "acc_test = accuracy_score(y_test, y_test_pred)\n",
    "precision_test = precision_score(y_test, y_test_pred)\n",
    "recall_test = recall_score(y_test, y_test_pred)\n",
    "f1_test = f1_score(y_test, y_test_pred)\n",
    "auc_roc_test = roc_auc_score(y_test,  dt_model7.predict_proba(X_test)[:,1])\n",
    "\n",
    "# Print evaluation metrics on test data\n",
    "print('\\nTest set evaluation metrics:')\n",
    "print(f'Accuracy: {acc_test:.6f}')\n",
    "print(f'Precision: {precision_test:.6f}')\n",
    "print(f'Recall: {recall_test:.6f}')\n",
    "print(f'F1 score: {f1_test:.6f}')\n",
    "print(f'AUC-ROC score: {auc_roc_test:.6f}')\n"
   ]
  },
  {
   "cell_type": "code",
   "execution_count": 50,
   "id": "9ad0ad10",
   "metadata": {},
   "outputs": [
    {
     "name": "stdout",
     "output_type": "stream",
     "text": [
      "\n",
      "Classification report:\n",
      "              precision    recall  f1-score   support\n",
      "\n",
      "           0       0.99      1.00      1.00     25608\n",
      "           1       0.84      0.79      0.81       660\n",
      "\n",
      "    accuracy                           0.99     26268\n",
      "   macro avg       0.92      0.89      0.90     26268\n",
      "weighted avg       0.99      0.99      0.99     26268\n",
      "\n"
     ]
    }
   ],
   "source": [
    "# Create classification report for test data\n",
    "class_report = classification_report(y_test, y_test_pred)\n",
    "print('\\nClassification report:')\n",
    "print(class_report)"
   ]
  },
  {
   "cell_type": "code",
   "execution_count": 57,
   "id": "4bfe688a",
   "metadata": {},
   "outputs": [
    {
     "data": {
      "image/png": "[encoded data removed]",
      "text/plain": [
       "<Figure size 640x480 with 2 Axes>"
      ]
     },
     "metadata": {},
     "output_type": "display_data"
    }
   ],
   "source": [
    "# Calculate confusion matrix\n",
    "cm = confusion_matrix(y_test, y_test_pred)\n",
    "\n",
    "# Create heatmap plot of confusion matrix\n",
    "ax = plt.subplot()\n",
    "sns.heatmap(cm, annot=True, ax=ax, cmap='Blues', fmt='g')\n",
    "\n",
    "# Set plot labels and title\n",
    "ax.set_xlabel('Predicted labels')\n",
    "ax.set_ylabel('True labels')\n",
    "ax.set_title('Confusion Matrix')\n",
    "\n",
    "# Show plot\n",
    "plt.show()"
   ]
  },
  {
   "cell_type": "markdown",
   "id": "101dcb76",
   "metadata": {},
   "source": [
    "### Plotting Feature Importance graph"
   ]
  },
  {
   "cell_type": "code",
   "execution_count": 51,
   "id": "8e45a238",
   "metadata": {},
   "outputs": [
    {
     "data": {
      "text/plain": [
       "array([8.80840273e-02, 5.49021503e-02, 5.34497354e-02, 3.32367077e-02,\n",
       "       1.20962633e-02, 7.40644881e-02, 1.05858499e-01, 2.87306612e-01,\n",
       "       8.92940030e-02, 4.72074947e-02, 9.21242452e-02, 1.79836968e-03,\n",
       "       9.99135888e-04, 0.00000000e+00, 0.00000000e+00, 0.00000000e+00,\n",
       "       0.00000000e+00, 0.00000000e+00, 0.00000000e+00, 0.00000000e+00,\n",
       "       0.00000000e+00, 0.00000000e+00, 2.45830958e-03, 3.63439513e-03,\n",
       "       7.39356335e-04, 2.91026795e-03, 2.49159964e-04, 1.43575653e-03,\n",
       "       1.70937316e-03, 4.21022988e-04, 2.19594514e-03, 1.73694608e-03,\n",
       "       0.00000000e+00, 1.02039719e-03, 1.32440608e-03, 3.97488110e-03,\n",
       "       3.57680504e-02])"
      ]
     },
     "execution_count": 51,
     "metadata": {},
     "output_type": "execute_result"
    }
   ],
   "source": [
    "dt_model8.feature_importances_"
   ]
  },
  {
   "cell_type": "code",
   "execution_count": 53,
   "id": "9005ddc0",
   "metadata": {},
   "outputs": [],
   "source": [
    "feat_imp_rf_df = pd.DataFrame(\n",
    "    {\n",
    "        'feature': X.columns,\n",
    "     'feature_importance': dt_model8.feature_importances_\n",
    "     }\n",
    ")"
   ]
  },
  {
   "cell_type": "code",
   "execution_count": 54,
   "id": "1fd6a510",
   "metadata": {},
   "outputs": [],
   "source": [
    "feat_imp_rf_df = feat_imp_rf_df.sort_values('feature_importance', ascending=False).reset_index(drop=True)"
   ]
  },
  {
   "cell_type": "code",
   "execution_count": 55,
   "id": "9716da69",
   "metadata": {},
   "outputs": [
    {
     "data": {
      "text/html": [
       "<div>\n",
       "<style scoped>\n",
       "    .dataframe tbody tr th:only-of-type {\n",
       "        vertical-align: middle;\n",
       "    }\n",
       "\n",
       "    .dataframe tbody tr th {\n",
       "        vertical-align: top;\n",
       "    }\n",
       "\n",
       "    .dataframe thead th {\n",
       "        text-align: right;\n",
       "    }\n",
       "</style>\n",
       "<table border=\"1\" class=\"dataframe\">\n",
       "  <thead>\n",
       "    <tr style=\"text-align: right;\">\n",
       "      <th></th>\n",
       "      <th>feature</th>\n",
       "      <th>feature_importance</th>\n",
       "    </tr>\n",
       "  </thead>\n",
       "  <tbody>\n",
       "    <tr>\n",
       "      <th>0</th>\n",
       "      <td>mth_since_last_serv</td>\n",
       "      <td>0.287307</td>\n",
       "    </tr>\n",
       "    <tr>\n",
       "      <th>1</th>\n",
       "      <td>total_services</td>\n",
       "      <td>0.105858</td>\n",
       "    </tr>\n",
       "    <tr>\n",
       "      <th>2</th>\n",
       "      <td>num_serv_dealer_purchased</td>\n",
       "      <td>0.092124</td>\n",
       "    </tr>\n",
       "    <tr>\n",
       "      <th>3</th>\n",
       "      <td>annualised_mileage</td>\n",
       "      <td>0.089294</td>\n",
       "    </tr>\n",
       "    <tr>\n",
       "      <th>4</th>\n",
       "      <td>age_of_vehicle_years</td>\n",
       "      <td>0.088084</td>\n",
       "    </tr>\n",
       "    <tr>\n",
       "      <th>5</th>\n",
       "      <td>total_paid_services</td>\n",
       "      <td>0.074064</td>\n",
       "    </tr>\n",
       "    <tr>\n",
       "      <th>6</th>\n",
       "      <td>sched_serv_warr</td>\n",
       "      <td>0.054902</td>\n",
       "    </tr>\n",
       "    <tr>\n",
       "      <th>7</th>\n",
       "      <td>non_sched_serv_warr</td>\n",
       "      <td>0.053450</td>\n",
       "    </tr>\n",
       "    <tr>\n",
       "      <th>8</th>\n",
       "      <td>num_dealers_visited</td>\n",
       "      <td>0.047207</td>\n",
       "    </tr>\n",
       "    <tr>\n",
       "      <th>9</th>\n",
       "      <td>gender_unknown</td>\n",
       "      <td>0.035768</td>\n",
       "    </tr>\n",
       "    <tr>\n",
       "      <th>10</th>\n",
       "      <td>sched_serv_paid</td>\n",
       "      <td>0.033237</td>\n",
       "    </tr>\n",
       "    <tr>\n",
       "      <th>11</th>\n",
       "      <td>non_sched_serv_paid</td>\n",
       "      <td>0.012096</td>\n",
       "    </tr>\n",
       "    <tr>\n",
       "      <th>12</th>\n",
       "      <td>gender_Male</td>\n",
       "      <td>0.003975</td>\n",
       "    </tr>\n",
       "    <tr>\n",
       "      <th>13</th>\n",
       "      <td>car_model_model_3</td>\n",
       "      <td>0.003634</td>\n",
       "    </tr>\n",
       "    <tr>\n",
       "      <th>14</th>\n",
       "      <td>car_model_model_5</td>\n",
       "      <td>0.002910</td>\n",
       "    </tr>\n",
       "    <tr>\n",
       "      <th>15</th>\n",
       "      <td>car_model_model_2</td>\n",
       "      <td>0.002458</td>\n",
       "    </tr>\n",
       "    <tr>\n",
       "      <th>16</th>\n",
       "      <td>car_segment_LCV</td>\n",
       "      <td>0.002196</td>\n",
       "    </tr>\n",
       "    <tr>\n",
       "      <th>17</th>\n",
       "      <td>car_model_model_1</td>\n",
       "      <td>0.001798</td>\n",
       "    </tr>\n",
       "    <tr>\n",
       "      <th>18</th>\n",
       "      <td>car_segment_Large/SUV</td>\n",
       "      <td>0.001737</td>\n",
       "    </tr>\n",
       "    <tr>\n",
       "      <th>19</th>\n",
       "      <td>car_model_model_8</td>\n",
       "      <td>0.001709</td>\n",
       "    </tr>\n",
       "    <tr>\n",
       "      <th>20</th>\n",
       "      <td>car_model_model_7</td>\n",
       "      <td>0.001436</td>\n",
       "    </tr>\n",
       "    <tr>\n",
       "      <th>21</th>\n",
       "      <td>gender_Female</td>\n",
       "      <td>0.001324</td>\n",
       "    </tr>\n",
       "    <tr>\n",
       "      <th>22</th>\n",
       "      <td>car_segment_Small/Medium</td>\n",
       "      <td>0.001020</td>\n",
       "    </tr>\n",
       "    <tr>\n",
       "      <th>23</th>\n",
       "      <td>car_model_model_10</td>\n",
       "      <td>0.000999</td>\n",
       "    </tr>\n",
       "    <tr>\n",
       "      <th>24</th>\n",
       "      <td>car_model_model_4</td>\n",
       "      <td>0.000739</td>\n",
       "    </tr>\n",
       "    <tr>\n",
       "      <th>25</th>\n",
       "      <td>car_model_model_9</td>\n",
       "      <td>0.000421</td>\n",
       "    </tr>\n",
       "    <tr>\n",
       "      <th>26</th>\n",
       "      <td>car_model_model_6</td>\n",
       "      <td>0.000249</td>\n",
       "    </tr>\n",
       "    <tr>\n",
       "      <th>27</th>\n",
       "      <td>car_segment_Other</td>\n",
       "      <td>0.000000</td>\n",
       "    </tr>\n",
       "    <tr>\n",
       "      <th>28</th>\n",
       "      <td>car_model_model_12</td>\n",
       "      <td>0.000000</td>\n",
       "    </tr>\n",
       "    <tr>\n",
       "      <th>29</th>\n",
       "      <td>car_model_model_13</td>\n",
       "      <td>0.000000</td>\n",
       "    </tr>\n",
       "    <tr>\n",
       "      <th>30</th>\n",
       "      <td>car_model_model_19</td>\n",
       "      <td>0.000000</td>\n",
       "    </tr>\n",
       "    <tr>\n",
       "      <th>31</th>\n",
       "      <td>car_model_model_18</td>\n",
       "      <td>0.000000</td>\n",
       "    </tr>\n",
       "    <tr>\n",
       "      <th>32</th>\n",
       "      <td>car_model_model_17</td>\n",
       "      <td>0.000000</td>\n",
       "    </tr>\n",
       "    <tr>\n",
       "      <th>33</th>\n",
       "      <td>car_model_model_11</td>\n",
       "      <td>0.000000</td>\n",
       "    </tr>\n",
       "    <tr>\n",
       "      <th>34</th>\n",
       "      <td>car_model_model_15</td>\n",
       "      <td>0.000000</td>\n",
       "    </tr>\n",
       "    <tr>\n",
       "      <th>35</th>\n",
       "      <td>car_model_model_14</td>\n",
       "      <td>0.000000</td>\n",
       "    </tr>\n",
       "    <tr>\n",
       "      <th>36</th>\n",
       "      <td>car_model_model_16</td>\n",
       "      <td>0.000000</td>\n",
       "    </tr>\n",
       "  </tbody>\n",
       "</table>\n",
       "</div>"
      ],
      "text/plain": [
       "                      feature  feature_importance\n",
       "0         mth_since_last_serv            0.287307\n",
       "1              total_services            0.105858\n",
       "2   num_serv_dealer_purchased            0.092124\n",
       "3          annualised_mileage            0.089294\n",
       "4        age_of_vehicle_years            0.088084\n",
       "5         total_paid_services            0.074064\n",
       "6             sched_serv_warr            0.054902\n",
       "7         non_sched_serv_warr            0.053450\n",
       "8         num_dealers_visited            0.047207\n",
       "9              gender_unknown            0.035768\n",
       "10            sched_serv_paid            0.033237\n",
       "11        non_sched_serv_paid            0.012096\n",
       "12                gender_Male            0.003975\n",
       "13          car_model_model_3            0.003634\n",
       "14          car_model_model_5            0.002910\n",
       "15          car_model_model_2            0.002458\n",
       "16            car_segment_LCV            0.002196\n",
       "17          car_model_model_1            0.001798\n",
       "18      car_segment_Large/SUV            0.001737\n",
       "19          car_model_model_8            0.001709\n",
       "20          car_model_model_7            0.001436\n",
       "21              gender_Female            0.001324\n",
       "22   car_segment_Small/Medium            0.001020\n",
       "23         car_model_model_10            0.000999\n",
       "24          car_model_model_4            0.000739\n",
       "25          car_model_model_9            0.000421\n",
       "26          car_model_model_6            0.000249\n",
       "27          car_segment_Other            0.000000\n",
       "28         car_model_model_12            0.000000\n",
       "29         car_model_model_13            0.000000\n",
       "30         car_model_model_19            0.000000\n",
       "31         car_model_model_18            0.000000\n",
       "32         car_model_model_17            0.000000\n",
       "33         car_model_model_11            0.000000\n",
       "34         car_model_model_15            0.000000\n",
       "35         car_model_model_14            0.000000\n",
       "36         car_model_model_16            0.000000"
      ]
     },
     "execution_count": 55,
     "metadata": {},
     "output_type": "execute_result"
    }
   ],
   "source": [
    "feat_imp_rf_df"
   ]
  },
  {
   "cell_type": "code",
   "execution_count": 56,
   "id": "f69a7db3",
   "metadata": {},
   "outputs": [
    {
     "data": {
      "text/html": [
       "\n",
       "<div id=\"altair-viz-885b8f988f0841b5a8335367abd9793d\"></div>\n",
       "<script type=\"text/javascript\">\n",
       "  var VEGA_DEBUG = (typeof VEGA_DEBUG == \"undefined\") ? {} : VEGA_DEBUG;\n",
       "  (function(spec, embedOpt){\n",
       "    let outputDiv = document.currentScript.previousElementSibling;\n",
       "    if (outputDiv.id !== \"altair-viz-885b8f988f0841b5a8335367abd9793d\") {\n",
       "      outputDiv = document.getElementById(\"altair-viz-885b8f988f0841b5a8335367abd9793d\");\n",
       "    }\n",
       "    const paths = {\n",
       "      \"vega\": \"https://cdn.jsdelivr.net/npm//vega@5?noext\",\n",
       "      \"vega-lib\": \"https://cdn.jsdelivr.net/npm//vega-lib?noext\",\n",
       "      \"vega-lite\": \"https://cdn.jsdelivr.net/npm//vega-lite@4.17.0?noext\",\n",
       "      \"vega-embed\": \"https://cdn.jsdelivr.net/npm//vega-embed@6?noext\",\n",
       "    };\n",
       "\n",
       "    function maybeLoadScript(lib, version) {\n",
       "      var key = `${lib.replace(\"-\", \"\")}_version`;\n",
       "      return (VEGA_DEBUG[key] == version) ?\n",
       "        Promise.resolve(paths[lib]) :\n",
       "        new Promise(function(resolve, reject) {\n",
       "          var s = document.createElement('script');\n",
       "          document.getElementsByTagName(\"head\")[0].appendChild(s);\n",
       "          s.async = true;\n",
       "          s.onload = () => {\n",
       "            VEGA_DEBUG[key] = version;\n",
       "            return resolve(paths[lib]);\n",
       "          };\n",
       "          s.onerror = () => reject(`Error loading script: ${paths[lib]}`);\n",
       "          s.src = paths[lib];\n",
       "        });\n",
       "    }\n",
       "\n",
       "    function showError(err) {\n",
       "      outputDiv.innerHTML = `<div class=\"error\" style=\"color:red;\">${err}</div>`;\n",
       "      throw err;\n",
       "    }\n",
       "\n",
       "    function displayChart(vegaEmbed) {\n",
       "      vegaEmbed(outputDiv, spec, embedOpt)\n",
       "        .catch(err => showError(`Javascript Error: ${err.message}<br>This usually means there's a typo in your chart specification. See the javascript console for the full traceback.`));\n",
       "    }\n",
       "\n",
       "    if(typeof define === \"function\" && define.amd) {\n",
       "      requirejs.config({paths});\n",
       "      require([\"vega-embed\"], displayChart, err => showError(`Error loading script: ${err.message}`));\n",
       "    } else {\n",
       "      maybeLoadScript(\"vega\", \"5\")\n",
       "        .then(() => maybeLoadScript(\"vega-lite\", \"4.17.0\"))\n",
       "        .then(() => maybeLoadScript(\"vega-embed\", \"6\"))\n",
       "        .catch(showError)\n",
       "        .then(() => displayChart(vegaEmbed));\n",
       "    }\n",
       "  })({\"config\": {\"view\": {\"continuousWidth\": 400, \"continuousHeight\": 300}}, \"data\": {\"name\": \"data-6965ca0f41b458beab77cb230c367c02\"}, \"mark\": \"bar\", \"encoding\": {\"tooltip\": [{\"field\": \"feature\", \"type\": \"nominal\"}, {\"field\": \"feature_importance\", \"type\": \"quantitative\"}], \"x\": {\"field\": \"feature_importance\", \"type\": \"quantitative\"}, \"y\": {\"field\": \"feature\", \"sort\": \"-x\", \"type\": \"nominal\"}}, \"$schema\": \"https://vega.github.io/schema/vega-lite/v4.17.0.json\", \"datasets\": {\"data-6965ca0f41b458beab77cb230c367c02\": [{\"feature\": \"mth_since_last_serv\", \"feature_importance\": 0.287306612466733}, {\"feature\": \"total_services\", \"feature_importance\": 0.10585849925935177}, {\"feature\": \"num_serv_dealer_purchased\", \"feature_importance\": 0.09212424518410146}, {\"feature\": \"annualised_mileage\", \"feature_importance\": 0.0892940029853626}, {\"feature\": \"age_of_vehicle_years\", \"feature_importance\": 0.0880840273438687}, {\"feature\": \"total_paid_services\", \"feature_importance\": 0.07406448813008192}, {\"feature\": \"sched_serv_warr\", \"feature_importance\": 0.05490215033950858}, {\"feature\": \"non_sched_serv_warr\", \"feature_importance\": 0.053449735444554634}, {\"feature\": \"num_dealers_visited\", \"feature_importance\": 0.04720749466900239}, {\"feature\": \"gender_unknown\", \"feature_importance\": 0.03576805040800233}, {\"feature\": \"sched_serv_paid\", \"feature_importance\": 0.033236707688398065}, {\"feature\": \"non_sched_serv_paid\", \"feature_importance\": 0.012096263278782014}, {\"feature\": \"gender_Male\", \"feature_importance\": 0.003974881098185931}, {\"feature\": \"car_model_model_3\", \"feature_importance\": 0.0036343951325712516}, {\"feature\": \"car_model_model_5\", \"feature_importance\": 0.0029102679518777774}, {\"feature\": \"car_model_model_2\", \"feature_importance\": 0.002458309578996074}, {\"feature\": \"car_segment_LCV\", \"feature_importance\": 0.0021959451414665077}, {\"feature\": \"car_model_model_1\", \"feature_importance\": 0.0017983696813402008}, {\"feature\": \"car_segment_Large/SUV\", \"feature_importance\": 0.001736946076414945}, {\"feature\": \"car_model_model_8\", \"feature_importance\": 0.001709373158200123}, {\"feature\": \"car_model_model_7\", \"feature_importance\": 0.001435756534235633}, {\"feature\": \"gender_Female\", \"feature_importance\": 0.001324406081024327}, {\"feature\": \"car_segment_Small/Medium\", \"feature_importance\": 0.0010203971921721878}, {\"feature\": \"car_model_model_10\", \"feature_importance\": 0.0009991358882057405}, {\"feature\": \"car_model_model_4\", \"feature_importance\": 0.0007393563351237321}, {\"feature\": \"car_model_model_9\", \"feature_importance\": 0.0004210229883360885}, {\"feature\": \"car_model_model_6\", \"feature_importance\": 0.0002491599641020476}, {\"feature\": \"car_segment_Other\", \"feature_importance\": 0.0}, {\"feature\": \"car_model_model_12\", \"feature_importance\": 0.0}, {\"feature\": \"car_model_model_13\", \"feature_importance\": 0.0}, {\"feature\": \"car_model_model_19\", \"feature_importance\": 0.0}, {\"feature\": \"car_model_model_18\", \"feature_importance\": 0.0}, {\"feature\": \"car_model_model_17\", \"feature_importance\": 0.0}, {\"feature\": \"car_model_model_11\", \"feature_importance\": 0.0}, {\"feature\": \"car_model_model_15\", \"feature_importance\": 0.0}, {\"feature\": \"car_model_model_14\", \"feature_importance\": 0.0}, {\"feature\": \"car_model_model_16\", \"feature_importance\": 0.0}]}}, {\"mode\": \"vega-lite\"});\n",
       "</script>"
      ],
      "text/plain": [
       "alt.Chart(...)"
      ]
     },
     "execution_count": 56,
     "metadata": {},
     "output_type": "execute_result"
    }
   ],
   "source": [
    "import altair as alt\n",
    "\n",
    "alt.Chart(feat_imp_rf_df).mark_bar().encode(\n",
    "    x='feature_importance',\n",
    "    y=alt.Y(\"feature\", sort='-x'),\n",
    "    tooltip=['feature','feature_importance'])"
   ]
  }
 ],
 "metadata": {
  "kernelspec": {
   "display_name": "Python 3 (ipykernel)",
   "language": "python",
   "name": "python3"
  },
  "language_info": {
   "codemirror_mode": {
    "name": "ipython",
    "version": 3
   },
   "file_extension": ".py",
   "mimetype": "text/x-python",
   "name": "python",
   "nbconvert_exporter": "python",
   "pygments_lexer": "ipython3",
   "version": "3.9.13"
  }
 },
 "nbformat": 4,
 "nbformat_minor": 5
}
