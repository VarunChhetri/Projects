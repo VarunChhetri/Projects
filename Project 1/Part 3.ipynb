{
 "cells": [
  {
   "cell_type": "markdown",
   "id": "3b80eda3",
   "metadata": {},
   "source": [
    "# Assignment 1 Task 2\n",
    "# Multivariate Linear Regression Using Multiple Features"
   ]
  },
  {
   "cell_type": "markdown",
   "id": "4edf3da5",
   "metadata": {},
   "source": [
    "### Importing the Libraries"
   ]
  },
  {
   "cell_type": "code",
   "execution_count": 1,
   "id": "969c4fa2",
   "metadata": {},
   "outputs": [],
   "source": [
    "import pandas as pd\n",
    "import numpy as np\n",
    "import seaborn as sns\n",
    "import altair as alt"
   ]
  },
  {
   "cell_type": "markdown",
   "id": "3bd1b21c",
   "metadata": {},
   "source": [
    "### Loading and Preparing the Dataset"
   ]
  },
  {
   "cell_type": "code",
   "execution_count": 2,
   "id": "521084d8",
   "metadata": {},
   "outputs": [],
   "source": [
    "# Importing the Dataset\n",
    "train_data = pd.read_csv('/Users/varunsinghchhetri/Downloads/cancer_us_county-training.csv')\n",
    "test_data = pd.read_csv('/Users/varunsinghchhetri/Downloads/cancer_us_county-testing.csv')"
   ]
  },
  {
   "cell_type": "code",
   "execution_count": 3,
   "id": "682e3a75",
   "metadata": {},
   "outputs": [],
   "source": [
    "# Saving the Dataset into DataFrames\n",
    "df_train= pd.DataFrame(train_data)\n",
    "df_test = pd.DataFrame(test_data)"
   ]
  },
  {
   "cell_type": "code",
   "execution_count": 4,
   "id": "b9786dc2",
   "metadata": {},
   "outputs": [
    {
     "data": {
      "text/html": [
       "<div>\n",
       "<style scoped>\n",
       "    .dataframe tbody tr th:only-of-type {\n",
       "        vertical-align: middle;\n",
       "    }\n",
       "\n",
       "    .dataframe tbody tr th {\n",
       "        vertical-align: top;\n",
       "    }\n",
       "\n",
       "    .dataframe thead th {\n",
       "        text-align: right;\n",
       "    }\n",
       "</style>\n",
       "<table border=\"1\" class=\"dataframe\">\n",
       "  <thead>\n",
       "    <tr style=\"text-align: right;\">\n",
       "      <th></th>\n",
       "      <th>avgAnnCount</th>\n",
       "      <th>avgDeathsPerYear</th>\n",
       "      <th>TARGET_deathRate</th>\n",
       "      <th>incidenceRate</th>\n",
       "      <th>medIncome</th>\n",
       "      <th>popEst2015</th>\n",
       "      <th>povertyPercent</th>\n",
       "      <th>studyPerCap</th>\n",
       "      <th>binnedInc</th>\n",
       "      <th>MedianAge</th>\n",
       "      <th>...</th>\n",
       "      <th>PctEmpPrivCoverage</th>\n",
       "      <th>PctPublicCoverage</th>\n",
       "      <th>PctPublicCoverageAlone</th>\n",
       "      <th>PctWhite</th>\n",
       "      <th>PctBlack</th>\n",
       "      <th>PctAsian</th>\n",
       "      <th>PctOtherRace</th>\n",
       "      <th>PctMarriedHouseholds</th>\n",
       "      <th>BirthRate</th>\n",
       "      <th>Id</th>\n",
       "    </tr>\n",
       "  </thead>\n",
       "  <tbody>\n",
       "    <tr>\n",
       "      <th>0</th>\n",
       "      <td>88.000000</td>\n",
       "      <td>40</td>\n",
       "      <td>261.0</td>\n",
       "      <td>561.400000</td>\n",
       "      <td>29090</td>\n",
       "      <td>13352</td>\n",
       "      <td>26.8</td>\n",
       "      <td>2771.120431</td>\n",
       "      <td>[22640, 34218.1]</td>\n",
       "      <td>39.8</td>\n",
       "      <td>...</td>\n",
       "      <td>32.0</td>\n",
       "      <td>47.5</td>\n",
       "      <td>32.9</td>\n",
       "      <td>99.693045</td>\n",
       "      <td>0.044920</td>\n",
       "      <td>0.000000</td>\n",
       "      <td>0.000000</td>\n",
       "      <td>55.499459</td>\n",
       "      <td>6.838710</td>\n",
       "      <td>0</td>\n",
       "    </tr>\n",
       "    <tr>\n",
       "      <th>1</th>\n",
       "      <td>73.000000</td>\n",
       "      <td>35</td>\n",
       "      <td>167.3</td>\n",
       "      <td>345.600000</td>\n",
       "      <td>29782</td>\n",
       "      <td>21903</td>\n",
       "      <td>38.8</td>\n",
       "      <td>0.000000</td>\n",
       "      <td>[22640, 34218.1]</td>\n",
       "      <td>32.3</td>\n",
       "      <td>...</td>\n",
       "      <td>18.8</td>\n",
       "      <td>45.3</td>\n",
       "      <td>34.1</td>\n",
       "      <td>94.791383</td>\n",
       "      <td>1.649850</td>\n",
       "      <td>0.063631</td>\n",
       "      <td>2.854286</td>\n",
       "      <td>52.818296</td>\n",
       "      <td>4.799131</td>\n",
       "      <td>1</td>\n",
       "    </tr>\n",
       "    <tr>\n",
       "      <th>2</th>\n",
       "      <td>292.000000</td>\n",
       "      <td>124</td>\n",
       "      <td>191.0</td>\n",
       "      <td>468.400000</td>\n",
       "      <td>41955</td>\n",
       "      <td>48985</td>\n",
       "      <td>15.5</td>\n",
       "      <td>0.000000</td>\n",
       "      <td>(40362.7, 42724.4]</td>\n",
       "      <td>42.2</td>\n",
       "      <td>...</td>\n",
       "      <td>44.9</td>\n",
       "      <td>34.5</td>\n",
       "      <td>16.0</td>\n",
       "      <td>95.102348</td>\n",
       "      <td>1.741749</td>\n",
       "      <td>0.376429</td>\n",
       "      <td>0.445611</td>\n",
       "      <td>50.560800</td>\n",
       "      <td>3.996826</td>\n",
       "      <td>2</td>\n",
       "    </tr>\n",
       "    <tr>\n",
       "      <th>3</th>\n",
       "      <td>1962.667684</td>\n",
       "      <td>7</td>\n",
       "      <td>165.4</td>\n",
       "      <td>453.549422</td>\n",
       "      <td>55378</td>\n",
       "      <td>3007</td>\n",
       "      <td>11.1</td>\n",
       "      <td>0.000000</td>\n",
       "      <td>(54545.6, 61494.5]</td>\n",
       "      <td>41.6</td>\n",
       "      <td>...</td>\n",
       "      <td>49.6</td>\n",
       "      <td>30.1</td>\n",
       "      <td>15.2</td>\n",
       "      <td>85.833870</td>\n",
       "      <td>0.933677</td>\n",
       "      <td>0.160979</td>\n",
       "      <td>7.244044</td>\n",
       "      <td>52.565181</td>\n",
       "      <td>3.291536</td>\n",
       "      <td>3</td>\n",
       "    </tr>\n",
       "    <tr>\n",
       "      <th>4</th>\n",
       "      <td>43.000000</td>\n",
       "      <td>20</td>\n",
       "      <td>160.6</td>\n",
       "      <td>349.700000</td>\n",
       "      <td>26309</td>\n",
       "      <td>8551</td>\n",
       "      <td>35.3</td>\n",
       "      <td>0.000000</td>\n",
       "      <td>[22640, 34218.1]</td>\n",
       "      <td>43.9</td>\n",
       "      <td>...</td>\n",
       "      <td>30.4</td>\n",
       "      <td>45.1</td>\n",
       "      <td>24.5</td>\n",
       "      <td>24.535525</td>\n",
       "      <td>73.223736</td>\n",
       "      <td>0.394100</td>\n",
       "      <td>1.396239</td>\n",
       "      <td>33.641208</td>\n",
       "      <td>3.166561</td>\n",
       "      <td>4</td>\n",
       "    </tr>\n",
       "  </tbody>\n",
       "</table>\n",
       "<p>5 rows × 35 columns</p>\n",
       "</div>"
      ],
      "text/plain": [
       "   avgAnnCount  avgDeathsPerYear  TARGET_deathRate  incidenceRate  medIncome  \\\n",
       "0    88.000000                40             261.0     561.400000      29090   \n",
       "1    73.000000                35             167.3     345.600000      29782   \n",
       "2   292.000000               124             191.0     468.400000      41955   \n",
       "3  1962.667684                 7             165.4     453.549422      55378   \n",
       "4    43.000000                20             160.6     349.700000      26309   \n",
       "\n",
       "   popEst2015  povertyPercent  studyPerCap           binnedInc  MedianAge  \\\n",
       "0       13352            26.8  2771.120431    [22640, 34218.1]       39.8   \n",
       "1       21903            38.8     0.000000    [22640, 34218.1]       32.3   \n",
       "2       48985            15.5     0.000000  (40362.7, 42724.4]       42.2   \n",
       "3        3007            11.1     0.000000  (54545.6, 61494.5]       41.6   \n",
       "4        8551            35.3     0.000000    [22640, 34218.1]       43.9   \n",
       "\n",
       "   ...  PctEmpPrivCoverage  PctPublicCoverage PctPublicCoverageAlone  \\\n",
       "0  ...                32.0               47.5                   32.9   \n",
       "1  ...                18.8               45.3                   34.1   \n",
       "2  ...                44.9               34.5                   16.0   \n",
       "3  ...                49.6               30.1                   15.2   \n",
       "4  ...                30.4               45.1                   24.5   \n",
       "\n",
       "    PctWhite   PctBlack  PctAsian  PctOtherRace  PctMarriedHouseholds  \\\n",
       "0  99.693045   0.044920  0.000000      0.000000             55.499459   \n",
       "1  94.791383   1.649850  0.063631      2.854286             52.818296   \n",
       "2  95.102348   1.741749  0.376429      0.445611             50.560800   \n",
       "3  85.833870   0.933677  0.160979      7.244044             52.565181   \n",
       "4  24.535525  73.223736  0.394100      1.396239             33.641208   \n",
       "\n",
       "   BirthRate  Id  \n",
       "0   6.838710   0  \n",
       "1   4.799131   1  \n",
       "2   3.996826   2  \n",
       "3   3.291536   3  \n",
       "4   3.166561   4  \n",
       "\n",
       "[5 rows x 35 columns]"
      ]
     },
     "execution_count": 4,
     "metadata": {},
     "output_type": "execute_result"
    }
   ],
   "source": [
    "# Displaying the first five rows\n",
    "df_train.head()"
   ]
  },
  {
   "cell_type": "code",
   "execution_count": 5,
   "id": "d2ce136e",
   "metadata": {},
   "outputs": [
    {
     "data": {
      "text/html": [
       "<div>\n",
       "<style scoped>\n",
       "    .dataframe tbody tr th:only-of-type {\n",
       "        vertical-align: middle;\n",
       "    }\n",
       "\n",
       "    .dataframe tbody tr th {\n",
       "        vertical-align: top;\n",
       "    }\n",
       "\n",
       "    .dataframe thead th {\n",
       "        text-align: right;\n",
       "    }\n",
       "</style>\n",
       "<table border=\"1\" class=\"dataframe\">\n",
       "  <thead>\n",
       "    <tr style=\"text-align: right;\">\n",
       "      <th></th>\n",
       "      <th>avgAnnCount</th>\n",
       "      <th>avgDeathsPerYear</th>\n",
       "      <th>TARGET_deathRate</th>\n",
       "      <th>incidenceRate</th>\n",
       "      <th>medIncome</th>\n",
       "      <th>popEst2015</th>\n",
       "      <th>povertyPercent</th>\n",
       "      <th>studyPerCap</th>\n",
       "      <th>binnedInc</th>\n",
       "      <th>MedianAge</th>\n",
       "      <th>...</th>\n",
       "      <th>PctEmpPrivCoverage</th>\n",
       "      <th>PctPublicCoverage</th>\n",
       "      <th>PctPublicCoverageAlone</th>\n",
       "      <th>PctWhite</th>\n",
       "      <th>PctBlack</th>\n",
       "      <th>PctAsian</th>\n",
       "      <th>PctOtherRace</th>\n",
       "      <th>PctMarriedHouseholds</th>\n",
       "      <th>BirthRate</th>\n",
       "      <th>Id</th>\n",
       "    </tr>\n",
       "  </thead>\n",
       "  <tbody>\n",
       "    <tr>\n",
       "      <th>2433</th>\n",
       "      <td>389.000000</td>\n",
       "      <td>157</td>\n",
       "      <td>185.3</td>\n",
       "      <td>456.600000</td>\n",
       "      <td>65485</td>\n",
       "      <td>83199</td>\n",
       "      <td>7.7</td>\n",
       "      <td>0.000000</td>\n",
       "      <td>(61494.5, 125635]</td>\n",
       "      <td>40.1</td>\n",
       "      <td>...</td>\n",
       "      <td>55.1</td>\n",
       "      <td>24.2</td>\n",
       "      <td>11.3</td>\n",
       "      <td>91.187608</td>\n",
       "      <td>4.445537</td>\n",
       "      <td>1.405213</td>\n",
       "      <td>0.858126</td>\n",
       "      <td>60.095060</td>\n",
       "      <td>5.175689</td>\n",
       "      <td>3041</td>\n",
       "    </tr>\n",
       "    <tr>\n",
       "      <th>2434</th>\n",
       "      <td>286.000000</td>\n",
       "      <td>117</td>\n",
       "      <td>196.7</td>\n",
       "      <td>492.400000</td>\n",
       "      <td>42477</td>\n",
       "      <td>46222</td>\n",
       "      <td>16.9</td>\n",
       "      <td>281.251352</td>\n",
       "      <td>(40362.7, 42724.4]</td>\n",
       "      <td>40.8</td>\n",
       "      <td>...</td>\n",
       "      <td>46.2</td>\n",
       "      <td>34.9</td>\n",
       "      <td>18.8</td>\n",
       "      <td>90.130702</td>\n",
       "      <td>5.943936</td>\n",
       "      <td>0.472935</td>\n",
       "      <td>0.485833</td>\n",
       "      <td>51.648588</td>\n",
       "      <td>4.651829</td>\n",
       "      <td>3042</td>\n",
       "    </tr>\n",
       "    <tr>\n",
       "      <th>2435</th>\n",
       "      <td>103.000000</td>\n",
       "      <td>42</td>\n",
       "      <td>204.1</td>\n",
       "      <td>506.700000</td>\n",
       "      <td>40339</td>\n",
       "      <td>18201</td>\n",
       "      <td>21.3</td>\n",
       "      <td>0.000000</td>\n",
       "      <td>(37413.8, 40362.7]</td>\n",
       "      <td>38.6</td>\n",
       "      <td>...</td>\n",
       "      <td>34.4</td>\n",
       "      <td>36.9</td>\n",
       "      <td>20.6</td>\n",
       "      <td>65.463178</td>\n",
       "      <td>30.550955</td>\n",
       "      <td>0.645909</td>\n",
       "      <td>0.104891</td>\n",
       "      <td>49.758980</td>\n",
       "      <td>4.344104</td>\n",
       "      <td>3043</td>\n",
       "    </tr>\n",
       "    <tr>\n",
       "      <th>2436</th>\n",
       "      <td>1962.667684</td>\n",
       "      <td>23</td>\n",
       "      <td>171.1</td>\n",
       "      <td>453.549422</td>\n",
       "      <td>39764</td>\n",
       "      <td>8856</td>\n",
       "      <td>16.7</td>\n",
       "      <td>0.000000</td>\n",
       "      <td>(37413.8, 40362.7]</td>\n",
       "      <td>43.8</td>\n",
       "      <td>...</td>\n",
       "      <td>37.3</td>\n",
       "      <td>40.0</td>\n",
       "      <td>21.3</td>\n",
       "      <td>94.625317</td>\n",
       "      <td>0.154508</td>\n",
       "      <td>0.629070</td>\n",
       "      <td>0.684251</td>\n",
       "      <td>49.880605</td>\n",
       "      <td>6.210826</td>\n",
       "      <td>3045</td>\n",
       "    </tr>\n",
       "    <tr>\n",
       "      <th>2437</th>\n",
       "      <td>219.000000</td>\n",
       "      <td>89</td>\n",
       "      <td>179.7</td>\n",
       "      <td>449.100000</td>\n",
       "      <td>40801</td>\n",
       "      <td>37585</td>\n",
       "      <td>17.2</td>\n",
       "      <td>0.000000</td>\n",
       "      <td>(40362.7, 42724.4]</td>\n",
       "      <td>42.9</td>\n",
       "      <td>...</td>\n",
       "      <td>37.5</td>\n",
       "      <td>39.4</td>\n",
       "      <td>21.8</td>\n",
       "      <td>91.393432</td>\n",
       "      <td>3.381528</td>\n",
       "      <td>0.055305</td>\n",
       "      <td>3.149772</td>\n",
       "      <td>49.892641</td>\n",
       "      <td>6.549178</td>\n",
       "      <td>3046</td>\n",
       "    </tr>\n",
       "  </tbody>\n",
       "</table>\n",
       "<p>5 rows × 35 columns</p>\n",
       "</div>"
      ],
      "text/plain": [
       "      avgAnnCount  avgDeathsPerYear  TARGET_deathRate  incidenceRate  \\\n",
       "2433   389.000000               157             185.3     456.600000   \n",
       "2434   286.000000               117             196.7     492.400000   \n",
       "2435   103.000000                42             204.1     506.700000   \n",
       "2436  1962.667684                23             171.1     453.549422   \n",
       "2437   219.000000                89             179.7     449.100000   \n",
       "\n",
       "      medIncome  popEst2015  povertyPercent  studyPerCap           binnedInc  \\\n",
       "2433      65485       83199             7.7     0.000000   (61494.5, 125635]   \n",
       "2434      42477       46222            16.9   281.251352  (40362.7, 42724.4]   \n",
       "2435      40339       18201            21.3     0.000000  (37413.8, 40362.7]   \n",
       "2436      39764        8856            16.7     0.000000  (37413.8, 40362.7]   \n",
       "2437      40801       37585            17.2     0.000000  (40362.7, 42724.4]   \n",
       "\n",
       "      MedianAge  ...  PctEmpPrivCoverage  PctPublicCoverage  \\\n",
       "2433       40.1  ...                55.1               24.2   \n",
       "2434       40.8  ...                46.2               34.9   \n",
       "2435       38.6  ...                34.4               36.9   \n",
       "2436       43.8  ...                37.3               40.0   \n",
       "2437       42.9  ...                37.5               39.4   \n",
       "\n",
       "     PctPublicCoverageAlone   PctWhite   PctBlack  PctAsian  PctOtherRace  \\\n",
       "2433                   11.3  91.187608   4.445537  1.405213      0.858126   \n",
       "2434                   18.8  90.130702   5.943936  0.472935      0.485833   \n",
       "2435                   20.6  65.463178  30.550955  0.645909      0.104891   \n",
       "2436                   21.3  94.625317   0.154508  0.629070      0.684251   \n",
       "2437                   21.8  91.393432   3.381528  0.055305      3.149772   \n",
       "\n",
       "      PctMarriedHouseholds  BirthRate    Id  \n",
       "2433             60.095060   5.175689  3041  \n",
       "2434             51.648588   4.651829  3042  \n",
       "2435             49.758980   4.344104  3043  \n",
       "2436             49.880605   6.210826  3045  \n",
       "2437             49.892641   6.549178  3046  \n",
       "\n",
       "[5 rows x 35 columns]"
      ]
     },
     "execution_count": 5,
     "metadata": {},
     "output_type": "execute_result"
    }
   ],
   "source": [
    "# Displaying the last five rows\n",
    "df_train.tail()"
   ]
  },
  {
   "cell_type": "code",
   "execution_count": 6,
   "id": "edce2767",
   "metadata": {},
   "outputs": [
    {
     "data": {
      "text/plain": [
       "(2438, 35)"
      ]
     },
     "execution_count": 6,
     "metadata": {},
     "output_type": "execute_result"
    }
   ],
   "source": [
    "# Displaying the number of rows and columns in the dataset (dimensions)\n",
    "df_train.shape"
   ]
  },
  {
   "cell_type": "code",
   "execution_count": 7,
   "id": "002e7381",
   "metadata": {
    "scrolled": true
   },
   "outputs": [
    {
     "data": {
      "text/html": [
       "<div>\n",
       "<style scoped>\n",
       "    .dataframe tbody tr th:only-of-type {\n",
       "        vertical-align: middle;\n",
       "    }\n",
       "\n",
       "    .dataframe tbody tr th {\n",
       "        vertical-align: top;\n",
       "    }\n",
       "\n",
       "    .dataframe thead th {\n",
       "        text-align: right;\n",
       "    }\n",
       "</style>\n",
       "<table border=\"1\" class=\"dataframe\">\n",
       "  <thead>\n",
       "    <tr style=\"text-align: right;\">\n",
       "      <th></th>\n",
       "      <th>avgAnnCount</th>\n",
       "      <th>avgDeathsPerYear</th>\n",
       "      <th>TARGET_deathRate</th>\n",
       "      <th>incidenceRate</th>\n",
       "      <th>medIncome</th>\n",
       "      <th>popEst2015</th>\n",
       "      <th>povertyPercent</th>\n",
       "      <th>studyPerCap</th>\n",
       "      <th>MedianAge</th>\n",
       "      <th>MedianAgeMale</th>\n",
       "      <th>...</th>\n",
       "      <th>PctEmpPrivCoverage</th>\n",
       "      <th>PctPublicCoverage</th>\n",
       "      <th>PctPublicCoverageAlone</th>\n",
       "      <th>PctWhite</th>\n",
       "      <th>PctBlack</th>\n",
       "      <th>PctAsian</th>\n",
       "      <th>PctOtherRace</th>\n",
       "      <th>PctMarriedHouseholds</th>\n",
       "      <th>BirthRate</th>\n",
       "      <th>Id</th>\n",
       "    </tr>\n",
       "  </thead>\n",
       "  <tbody>\n",
       "    <tr>\n",
       "      <th>count</th>\n",
       "      <td>2438.000000</td>\n",
       "      <td>2438.000000</td>\n",
       "      <td>2438.000000</td>\n",
       "      <td>2438.000000</td>\n",
       "      <td>2438.000000</td>\n",
       "      <td>2.438000e+03</td>\n",
       "      <td>2438.000000</td>\n",
       "      <td>2438.000000</td>\n",
       "      <td>2438.000000</td>\n",
       "      <td>2438.000000</td>\n",
       "      <td>...</td>\n",
       "      <td>2438.000000</td>\n",
       "      <td>2438.000000</td>\n",
       "      <td>2438.000000</td>\n",
       "      <td>2438.000000</td>\n",
       "      <td>2438.000000</td>\n",
       "      <td>2438.000000</td>\n",
       "      <td>2438.000000</td>\n",
       "      <td>2438.000000</td>\n",
       "      <td>2438.000000</td>\n",
       "      <td>2438.000000</td>\n",
       "    </tr>\n",
       "    <tr>\n",
       "      <th>mean</th>\n",
       "      <td>587.171930</td>\n",
       "      <td>180.592699</td>\n",
       "      <td>178.848482</td>\n",
       "      <td>448.308247</td>\n",
       "      <td>47028.427810</td>\n",
       "      <td>9.851579e+04</td>\n",
       "      <td>16.854348</td>\n",
       "      <td>166.019192</td>\n",
       "      <td>45.313782</td>\n",
       "      <td>39.640853</td>\n",
       "      <td>...</td>\n",
       "      <td>41.242453</td>\n",
       "      <td>36.275718</td>\n",
       "      <td>19.234824</td>\n",
       "      <td>83.776008</td>\n",
       "      <td>9.043586</td>\n",
       "      <td>1.230949</td>\n",
       "      <td>1.947961</td>\n",
       "      <td>51.216669</td>\n",
       "      <td>5.627447</td>\n",
       "      <td>1523.789171</td>\n",
       "    </tr>\n",
       "    <tr>\n",
       "      <th>std</th>\n",
       "      <td>1236.447895</td>\n",
       "      <td>438.473144</td>\n",
       "      <td>27.538452</td>\n",
       "      <td>53.247868</td>\n",
       "      <td>11919.386622</td>\n",
       "      <td>2.745272e+05</td>\n",
       "      <td>6.388398</td>\n",
       "      <td>563.813830</td>\n",
       "      <td>45.053173</td>\n",
       "      <td>5.217646</td>\n",
       "      <td>...</td>\n",
       "      <td>9.366433</td>\n",
       "      <td>7.823347</td>\n",
       "      <td>6.094083</td>\n",
       "      <td>16.275962</td>\n",
       "      <td>14.361902</td>\n",
       "      <td>2.558111</td>\n",
       "      <td>3.541698</td>\n",
       "      <td>6.501254</td>\n",
       "      <td>1.966257</td>\n",
       "      <td>874.905673</td>\n",
       "    </tr>\n",
       "    <tr>\n",
       "      <th>min</th>\n",
       "      <td>6.000000</td>\n",
       "      <td>3.000000</td>\n",
       "      <td>66.300000</td>\n",
       "      <td>201.300000</td>\n",
       "      <td>22640.000000</td>\n",
       "      <td>8.270000e+02</td>\n",
       "      <td>3.200000</td>\n",
       "      <td>0.000000</td>\n",
       "      <td>22.300000</td>\n",
       "      <td>22.400000</td>\n",
       "      <td>...</td>\n",
       "      <td>13.500000</td>\n",
       "      <td>11.200000</td>\n",
       "      <td>2.600000</td>\n",
       "      <td>10.199155</td>\n",
       "      <td>0.000000</td>\n",
       "      <td>0.000000</td>\n",
       "      <td>0.000000</td>\n",
       "      <td>22.992490</td>\n",
       "      <td>0.000000</td>\n",
       "      <td>0.000000</td>\n",
       "    </tr>\n",
       "    <tr>\n",
       "      <th>25%</th>\n",
       "      <td>76.000000</td>\n",
       "      <td>28.000000</td>\n",
       "      <td>161.400000</td>\n",
       "      <td>420.300000</td>\n",
       "      <td>38872.750000</td>\n",
       "      <td>1.154575e+04</td>\n",
       "      <td>12.100000</td>\n",
       "      <td>0.000000</td>\n",
       "      <td>37.800000</td>\n",
       "      <td>36.400000</td>\n",
       "      <td>...</td>\n",
       "      <td>34.600000</td>\n",
       "      <td>30.925000</td>\n",
       "      <td>15.000000</td>\n",
       "      <td>77.341176</td>\n",
       "      <td>0.634412</td>\n",
       "      <td>0.247022</td>\n",
       "      <td>0.288937</td>\n",
       "      <td>47.826087</td>\n",
       "      <td>4.516355</td>\n",
       "      <td>775.250000</td>\n",
       "    </tr>\n",
       "    <tr>\n",
       "      <th>50%</th>\n",
       "      <td>172.500000</td>\n",
       "      <td>62.000000</td>\n",
       "      <td>178.100000</td>\n",
       "      <td>453.549422</td>\n",
       "      <td>45186.500000</td>\n",
       "      <td>2.694250e+04</td>\n",
       "      <td>15.900000</td>\n",
       "      <td>0.000000</td>\n",
       "      <td>41.000000</td>\n",
       "      <td>39.600000</td>\n",
       "      <td>...</td>\n",
       "      <td>41.300000</td>\n",
       "      <td>36.400000</td>\n",
       "      <td>18.800000</td>\n",
       "      <td>90.121405</td>\n",
       "      <td>2.302054</td>\n",
       "      <td>0.550713</td>\n",
       "      <td>0.798971</td>\n",
       "      <td>51.662077</td>\n",
       "      <td>5.366485</td>\n",
       "      <td>1512.500000</td>\n",
       "    </tr>\n",
       "    <tr>\n",
       "      <th>75%</th>\n",
       "      <td>521.500000</td>\n",
       "      <td>151.000000</td>\n",
       "      <td>195.300000</td>\n",
       "      <td>481.975000</td>\n",
       "      <td>52492.500000</td>\n",
       "      <td>6.952450e+04</td>\n",
       "      <td>20.400000</td>\n",
       "      <td>92.562203</td>\n",
       "      <td>44.075000</td>\n",
       "      <td>42.500000</td>\n",
       "      <td>...</td>\n",
       "      <td>47.600000</td>\n",
       "      <td>41.500000</td>\n",
       "      <td>23.100000</td>\n",
       "      <td>95.464864</td>\n",
       "      <td>10.452697</td>\n",
       "      <td>1.207158</td>\n",
       "      <td>2.106155</td>\n",
       "      <td>55.331622</td>\n",
       "      <td>6.458322</td>\n",
       "      <td>2279.750000</td>\n",
       "    </tr>\n",
       "    <tr>\n",
       "      <th>max</th>\n",
       "      <td>24965.000000</td>\n",
       "      <td>9445.000000</td>\n",
       "      <td>293.900000</td>\n",
       "      <td>1014.200000</td>\n",
       "      <td>125635.000000</td>\n",
       "      <td>5.238216e+06</td>\n",
       "      <td>47.400000</td>\n",
       "      <td>9762.308998</td>\n",
       "      <td>624.000000</td>\n",
       "      <td>64.700000</td>\n",
       "      <td>...</td>\n",
       "      <td>70.700000</td>\n",
       "      <td>65.100000</td>\n",
       "      <td>46.600000</td>\n",
       "      <td>100.000000</td>\n",
       "      <td>84.866024</td>\n",
       "      <td>42.619425</td>\n",
       "      <td>41.930251</td>\n",
       "      <td>78.075397</td>\n",
       "      <td>18.556701</td>\n",
       "      <td>3046.000000</td>\n",
       "    </tr>\n",
       "  </tbody>\n",
       "</table>\n",
       "<p>8 rows × 33 columns</p>\n",
       "</div>"
      ],
      "text/plain": [
       "        avgAnnCount  avgDeathsPerYear  TARGET_deathRate  incidenceRate  \\\n",
       "count   2438.000000       2438.000000       2438.000000    2438.000000   \n",
       "mean     587.171930        180.592699        178.848482     448.308247   \n",
       "std     1236.447895        438.473144         27.538452      53.247868   \n",
       "min        6.000000          3.000000         66.300000     201.300000   \n",
       "25%       76.000000         28.000000        161.400000     420.300000   \n",
       "50%      172.500000         62.000000        178.100000     453.549422   \n",
       "75%      521.500000        151.000000        195.300000     481.975000   \n",
       "max    24965.000000       9445.000000        293.900000    1014.200000   \n",
       "\n",
       "           medIncome    popEst2015  povertyPercent  studyPerCap    MedianAge  \\\n",
       "count    2438.000000  2.438000e+03     2438.000000  2438.000000  2438.000000   \n",
       "mean    47028.427810  9.851579e+04       16.854348   166.019192    45.313782   \n",
       "std     11919.386622  2.745272e+05        6.388398   563.813830    45.053173   \n",
       "min     22640.000000  8.270000e+02        3.200000     0.000000    22.300000   \n",
       "25%     38872.750000  1.154575e+04       12.100000     0.000000    37.800000   \n",
       "50%     45186.500000  2.694250e+04       15.900000     0.000000    41.000000   \n",
       "75%     52492.500000  6.952450e+04       20.400000    92.562203    44.075000   \n",
       "max    125635.000000  5.238216e+06       47.400000  9762.308998   624.000000   \n",
       "\n",
       "       MedianAgeMale  ...  PctEmpPrivCoverage  PctPublicCoverage  \\\n",
       "count    2438.000000  ...         2438.000000        2438.000000   \n",
       "mean       39.640853  ...           41.242453          36.275718   \n",
       "std         5.217646  ...            9.366433           7.823347   \n",
       "min        22.400000  ...           13.500000          11.200000   \n",
       "25%        36.400000  ...           34.600000          30.925000   \n",
       "50%        39.600000  ...           41.300000          36.400000   \n",
       "75%        42.500000  ...           47.600000          41.500000   \n",
       "max        64.700000  ...           70.700000          65.100000   \n",
       "\n",
       "       PctPublicCoverageAlone     PctWhite     PctBlack     PctAsian  \\\n",
       "count             2438.000000  2438.000000  2438.000000  2438.000000   \n",
       "mean                19.234824    83.776008     9.043586     1.230949   \n",
       "std                  6.094083    16.275962    14.361902     2.558111   \n",
       "min                  2.600000    10.199155     0.000000     0.000000   \n",
       "25%                 15.000000    77.341176     0.634412     0.247022   \n",
       "50%                 18.800000    90.121405     2.302054     0.550713   \n",
       "75%                 23.100000    95.464864    10.452697     1.207158   \n",
       "max                 46.600000   100.000000    84.866024    42.619425   \n",
       "\n",
       "       PctOtherRace  PctMarriedHouseholds    BirthRate           Id  \n",
       "count   2438.000000           2438.000000  2438.000000  2438.000000  \n",
       "mean       1.947961             51.216669     5.627447  1523.789171  \n",
       "std        3.541698              6.501254     1.966257   874.905673  \n",
       "min        0.000000             22.992490     0.000000     0.000000  \n",
       "25%        0.288937             47.826087     4.516355   775.250000  \n",
       "50%        0.798971             51.662077     5.366485  1512.500000  \n",
       "75%        2.106155             55.331622     6.458322  2279.750000  \n",
       "max       41.930251             78.075397    18.556701  3046.000000  \n",
       "\n",
       "[8 rows x 33 columns]"
      ]
     },
     "execution_count": 7,
     "metadata": {},
     "output_type": "execute_result"
    }
   ],
   "source": [
    "# Displaying the descriptive statistics of the dataset\n",
    "df_train.describe()"
   ]
  },
  {
   "cell_type": "code",
   "execution_count": 8,
   "id": "c1d3ffd4",
   "metadata": {
    "scrolled": true
   },
   "outputs": [
    {
     "name": "stdout",
     "output_type": "stream",
     "text": [
      "<class 'pandas.core.frame.DataFrame'>\n",
      "RangeIndex: 2438 entries, 0 to 2437\n",
      "Data columns (total 35 columns):\n",
      " #   Column                   Non-Null Count  Dtype  \n",
      "---  ------                   --------------  -----  \n",
      " 0   avgAnnCount              2438 non-null   float64\n",
      " 1   avgDeathsPerYear         2438 non-null   int64  \n",
      " 2   TARGET_deathRate         2438 non-null   float64\n",
      " 3   incidenceRate            2438 non-null   float64\n",
      " 4   medIncome                2438 non-null   int64  \n",
      " 5   popEst2015               2438 non-null   int64  \n",
      " 6   povertyPercent           2438 non-null   float64\n",
      " 7   studyPerCap              2438 non-null   float64\n",
      " 8   binnedInc                2438 non-null   object \n",
      " 9   MedianAge                2438 non-null   float64\n",
      " 10  MedianAgeMale            2438 non-null   float64\n",
      " 11  MedianAgeFemale          2438 non-null   float64\n",
      " 12  Geography                2438 non-null   object \n",
      " 13  AvgHouseholdSize         2438 non-null   float64\n",
      " 14  PercentMarried           2438 non-null   float64\n",
      " 15  PctNoHS18_24             2438 non-null   float64\n",
      " 16  PctHS18_24               2438 non-null   float64\n",
      " 17  PctSomeCol18_24          612 non-null    float64\n",
      " 18  PctBachDeg18_24          2438 non-null   float64\n",
      " 19  PctHS25_Over             2438 non-null   float64\n",
      " 20  PctBachDeg25_Over        2438 non-null   float64\n",
      " 21  PctEmployed16_Over       2316 non-null   float64\n",
      " 22  PctUnemployed16_Over     2438 non-null   float64\n",
      " 23  PctPrivateCoverage       2438 non-null   float64\n",
      " 24  PctPrivateCoverageAlone  1938 non-null   float64\n",
      " 25  PctEmpPrivCoverage       2438 non-null   float64\n",
      " 26  PctPublicCoverage        2438 non-null   float64\n",
      " 27  PctPublicCoverageAlone   2438 non-null   float64\n",
      " 28  PctWhite                 2438 non-null   float64\n",
      " 29  PctBlack                 2438 non-null   float64\n",
      " 30  PctAsian                 2438 non-null   float64\n",
      " 31  PctOtherRace             2438 non-null   float64\n",
      " 32  PctMarriedHouseholds     2438 non-null   float64\n",
      " 33  BirthRate                2438 non-null   float64\n",
      " 34  Id                       2438 non-null   int64  \n",
      "dtypes: float64(29), int64(4), object(2)\n",
      "memory usage: 666.8+ KB\n"
     ]
    }
   ],
   "source": [
    "# Dsiplaying the information of the dataset (summary)\n",
    "df_train.info()"
   ]
  },
  {
   "cell_type": "code",
   "execution_count": 9,
   "id": "7f5f3faf",
   "metadata": {
    "scrolled": true
   },
   "outputs": [
    {
     "data": {
      "text/plain": [
       "avgAnnCount                   0\n",
       "avgDeathsPerYear              0\n",
       "TARGET_deathRate              0\n",
       "incidenceRate                 0\n",
       "medIncome                     0\n",
       "popEst2015                    0\n",
       "povertyPercent                0\n",
       "studyPerCap                   0\n",
       "binnedInc                     0\n",
       "MedianAge                     0\n",
       "MedianAgeMale                 0\n",
       "MedianAgeFemale               0\n",
       "Geography                     0\n",
       "AvgHouseholdSize              0\n",
       "PercentMarried                0\n",
       "PctNoHS18_24                  0\n",
       "PctHS18_24                    0\n",
       "PctSomeCol18_24            1826\n",
       "PctBachDeg18_24               0\n",
       "PctHS25_Over                  0\n",
       "PctBachDeg25_Over             0\n",
       "PctEmployed16_Over          122\n",
       "PctUnemployed16_Over          0\n",
       "PctPrivateCoverage            0\n",
       "PctPrivateCoverageAlone     500\n",
       "PctEmpPrivCoverage            0\n",
       "PctPublicCoverage             0\n",
       "PctPublicCoverageAlone        0\n",
       "PctWhite                      0\n",
       "PctBlack                      0\n",
       "PctAsian                      0\n",
       "PctOtherRace                  0\n",
       "PctMarriedHouseholds          0\n",
       "BirthRate                     0\n",
       "Id                            0\n",
       "dtype: int64"
      ]
     },
     "execution_count": 9,
     "metadata": {},
     "output_type": "execute_result"
    }
   ],
   "source": [
    "df_train.isna().sum()"
   ]
  },
  {
   "cell_type": "code",
   "execution_count": 10,
   "id": "10b3d3d8",
   "metadata": {},
   "outputs": [
    {
     "data": {
      "text/html": [
       "<div>\n",
       "<style scoped>\n",
       "    .dataframe tbody tr th:only-of-type {\n",
       "        vertical-align: middle;\n",
       "    }\n",
       "\n",
       "    .dataframe tbody tr th {\n",
       "        vertical-align: top;\n",
       "    }\n",
       "\n",
       "    .dataframe thead th {\n",
       "        text-align: right;\n",
       "    }\n",
       "</style>\n",
       "<table border=\"1\" class=\"dataframe\">\n",
       "  <thead>\n",
       "    <tr style=\"text-align: right;\">\n",
       "      <th></th>\n",
       "      <th>PctSomeCol18_24</th>\n",
       "      <th>PctEmployed16_Over</th>\n",
       "      <th>PctPrivateCoverageAlone</th>\n",
       "    </tr>\n",
       "  </thead>\n",
       "  <tbody>\n",
       "    <tr>\n",
       "      <th>count</th>\n",
       "      <td>612.000000</td>\n",
       "      <td>2316.000000</td>\n",
       "      <td>1938.000000</td>\n",
       "    </tr>\n",
       "    <tr>\n",
       "      <th>mean</th>\n",
       "      <td>41.010621</td>\n",
       "      <td>54.121805</td>\n",
       "      <td>48.453148</td>\n",
       "    </tr>\n",
       "    <tr>\n",
       "      <th>std</th>\n",
       "      <td>11.054857</td>\n",
       "      <td>8.313764</td>\n",
       "      <td>10.002029</td>\n",
       "    </tr>\n",
       "    <tr>\n",
       "      <th>min</th>\n",
       "      <td>7.100000</td>\n",
       "      <td>19.500000</td>\n",
       "      <td>15.700000</td>\n",
       "    </tr>\n",
       "    <tr>\n",
       "      <th>25%</th>\n",
       "      <td>33.900000</td>\n",
       "      <td>48.600000</td>\n",
       "      <td>41.000000</td>\n",
       "    </tr>\n",
       "    <tr>\n",
       "      <th>50%</th>\n",
       "      <td>40.400000</td>\n",
       "      <td>54.400000</td>\n",
       "      <td>48.600000</td>\n",
       "    </tr>\n",
       "    <tr>\n",
       "      <th>75%</th>\n",
       "      <td>46.700000</td>\n",
       "      <td>60.400000</td>\n",
       "      <td>55.700000</td>\n",
       "    </tr>\n",
       "    <tr>\n",
       "      <th>max</th>\n",
       "      <td>79.000000</td>\n",
       "      <td>80.100000</td>\n",
       "      <td>78.900000</td>\n",
       "    </tr>\n",
       "  </tbody>\n",
       "</table>\n",
       "</div>"
      ],
      "text/plain": [
       "       PctSomeCol18_24  PctEmployed16_Over  PctPrivateCoverageAlone\n",
       "count       612.000000         2316.000000              1938.000000\n",
       "mean         41.010621           54.121805                48.453148\n",
       "std          11.054857            8.313764                10.002029\n",
       "min           7.100000           19.500000                15.700000\n",
       "25%          33.900000           48.600000                41.000000\n",
       "50%          40.400000           54.400000                48.600000\n",
       "75%          46.700000           60.400000                55.700000\n",
       "max          79.000000           80.100000                78.900000"
      ]
     },
     "execution_count": 10,
     "metadata": {},
     "output_type": "execute_result"
    }
   ],
   "source": [
    "df_train[['PctSomeCol18_24','PctEmployed16_Over','PctPrivateCoverageAlone']].describe(include=\"all\")"
   ]
  },
  {
   "cell_type": "code",
   "execution_count": 11,
   "id": "b60d0a3f",
   "metadata": {},
   "outputs": [
    {
     "data": {
      "text/plain": [
       "avgAnnCount                   0\n",
       "avgDeathsPerYear              0\n",
       "TARGET_deathRate              0\n",
       "incidenceRate                 0\n",
       "medIncome                     0\n",
       "popEst2015                    0\n",
       "povertyPercent                0\n",
       "studyPerCap                   0\n",
       "binnedInc                     0\n",
       "MedianAge                     0\n",
       "MedianAgeMale                 0\n",
       "MedianAgeFemale               0\n",
       "Geography                     0\n",
       "AvgHouseholdSize              0\n",
       "PercentMarried                0\n",
       "PctNoHS18_24                  0\n",
       "PctHS18_24                    0\n",
       "PctSomeCol18_24            1826\n",
       "PctBachDeg18_24               0\n",
       "PctHS25_Over                  0\n",
       "PctBachDeg25_Over             0\n",
       "PctEmployed16_Over          122\n",
       "PctUnemployed16_Over          0\n",
       "PctPrivateCoverage            0\n",
       "PctPrivateCoverageAlone     500\n",
       "PctEmpPrivCoverage            0\n",
       "PctPublicCoverage             0\n",
       "PctPublicCoverageAlone        0\n",
       "PctWhite                      0\n",
       "PctBlack                      0\n",
       "PctAsian                      0\n",
       "PctOtherRace                  0\n",
       "PctMarriedHouseholds          0\n",
       "BirthRate                     0\n",
       "Id                            0\n",
       "dtype: int64"
      ]
     },
     "execution_count": 11,
     "metadata": {},
     "output_type": "execute_result"
    }
   ],
   "source": [
    "df_train.isna().sum()"
   ]
  },
  {
   "cell_type": "code",
   "execution_count": 12,
   "id": "7a1a20c3",
   "metadata": {},
   "outputs": [
    {
     "name": "stdout",
     "output_type": "stream",
     "text": [
      "Index(['binnedInc', 'Geography'], dtype='object')\n"
     ]
    }
   ],
   "source": [
    "print(df_train.select_dtypes(include=['object']).columns)"
   ]
  },
  {
   "cell_type": "code",
   "execution_count": 13,
   "id": "788f5860",
   "metadata": {},
   "outputs": [],
   "source": [
    "df_train_copy = df_train.drop(['binnedInc', 'Geography', 'PctSomeCol18_24', 'PctEmployed16_Over', 'PctPrivateCoverageAlone'], axis=1)\n"
   ]
  },
  {
   "cell_type": "code",
   "execution_count": 14,
   "id": "1b1d5196",
   "metadata": {},
   "outputs": [
    {
     "data": {
      "text/plain": [
       "(2438, 30)"
      ]
     },
     "execution_count": 14,
     "metadata": {},
     "output_type": "execute_result"
    }
   ],
   "source": [
    "df_train_copy.shape"
   ]
  },
  {
   "cell_type": "markdown",
   "id": "6e910907",
   "metadata": {},
   "source": [
    "# Preparing the Selected Features"
   ]
  },
  {
   "cell_type": "code",
   "execution_count": 15,
   "id": "efc8e3e4",
   "metadata": {},
   "outputs": [
    {
     "name": "stderr",
     "output_type": "stream",
     "text": [
      "/var/folders/lz/7z4s1cw55w31v9lp9ryhn6_h0000gn/T/ipykernel_72325/1014697076.py:2: FutureWarning: Dropping of nuisance columns in DataFrame reductions (with 'numeric_only=None') is deprecated; in a future version this will raise TypeError.  Select only valid columns before calling the reduction.\n",
      "  df_train_copy.fillna(df_train.mean(), inplace=True)\n"
     ]
    }
   ],
   "source": [
    "df_train_copy.dropna(inplace=True)\n",
    "df_train_copy.fillna(df_train.mean(), inplace=True)"
   ]
  },
  {
   "cell_type": "code",
   "execution_count": 16,
   "id": "b2e23a3b",
   "metadata": {},
   "outputs": [],
   "source": [
    "y = df_train_copy.pop('TARGET_deathRate')\n"
   ]
  },
  {
   "cell_type": "code",
   "execution_count": 17,
   "id": "5728e3e6",
   "metadata": {},
   "outputs": [],
   "source": [
    "X = df_train_copy"
   ]
  },
  {
   "cell_type": "markdown",
   "id": "5f1f9c82",
   "metadata": {},
   "source": [
    "### Perfroming Linear Regression with test and train data"
   ]
  },
  {
   "cell_type": "code",
   "execution_count": 18,
   "id": "c31659a0",
   "metadata": {},
   "outputs": [],
   "source": [
    "# Import the MSE and MAE from sklearn\n",
    "from sklearn.metrics import mean_squared_error as mse\n",
    "from sklearn.metrics import mean_absolute_error as mae"
   ]
  },
  {
   "cell_type": "code",
   "execution_count": 19,
   "id": "d0ab15eb",
   "metadata": {},
   "outputs": [],
   "source": [
    "# Import the linear regression module from sklearn\n",
    "from sklearn.linear_model import LinearRegression"
   ]
  },
  {
   "cell_type": "code",
   "execution_count": 20,
   "id": "f6dbef15",
   "metadata": {},
   "outputs": [],
   "source": [
    "# Instantiate the LinearRegression class into a variable called reg1\n",
    "reg1 = LinearRegression()"
   ]
  },
  {
   "cell_type": "code",
   "execution_count": 21,
   "id": "439bd322",
   "metadata": {},
   "outputs": [
    {
     "data": {
      "text/plain": [
       "LinearRegression()"
      ]
     },
     "execution_count": 21,
     "metadata": {},
     "output_type": "execute_result"
    }
   ],
   "source": [
    "reg1.fit(X, y)"
   ]
  },
  {
   "cell_type": "code",
   "execution_count": 22,
   "id": "64f63482",
   "metadata": {},
   "outputs": [
    {
     "name": "stdout",
     "output_type": "stream",
     "text": [
      "358.56238112774133\n",
      "14.112541888789037\n"
     ]
    }
   ],
   "source": [
    "# Calculate the MSE and MAE between the target variable and the predictions\n",
    "y_preds = reg1.predict(X)\n",
    "print(mse(y, y_preds, squared=True))\n",
    "print(mae(y, y_preds))"
   ]
  },
  {
   "cell_type": "markdown",
   "id": "a702413d",
   "metadata": {},
   "source": [
    "# Importing Test Data"
   ]
  },
  {
   "cell_type": "code",
   "execution_count": 23,
   "id": "24fdaf36",
   "metadata": {},
   "outputs": [],
   "source": [
    "df_test_copy = df_test"
   ]
  },
  {
   "cell_type": "code",
   "execution_count": 24,
   "id": "aef3481e",
   "metadata": {},
   "outputs": [],
   "source": [
    "y_test = df_test_copy.pop('TARGET_deathRate')\n",
    "y_test_mean = y_test.mean()"
   ]
  },
  {
   "cell_type": "markdown",
   "id": "4d66dec4",
   "metadata": {},
   "source": [
    "### Training the test model"
   ]
  },
  {
   "cell_type": "code",
   "execution_count": 25,
   "id": "132aa69a",
   "metadata": {},
   "outputs": [],
   "source": [
    "# Instantiate the LinearRegression class into a variable called reg2\n",
    "reg2 = LinearRegression()\n"
   ]
  },
  {
   "cell_type": "code",
   "execution_count": 26,
   "id": "7834f2d7",
   "metadata": {},
   "outputs": [],
   "source": [
    "df_test_copy = df_test_copy.drop(['binnedInc', 'Geography', 'PctSomeCol18_24', 'PctEmployed16_Over', 'PctPrivateCoverageAlone'], axis=1)"
   ]
  },
  {
   "cell_type": "code",
   "execution_count": 27,
   "id": "029e5e15",
   "metadata": {},
   "outputs": [
    {
     "data": {
      "text/plain": [
       "LinearRegression()"
      ]
     },
     "execution_count": 27,
     "metadata": {},
     "output_type": "execute_result"
    }
   ],
   "source": [
    "X_test = df_test_copy\n",
    "reg2.fit(X_test, y_test)"
   ]
  },
  {
   "cell_type": "code",
   "execution_count": 28,
   "id": "c3a17fdc",
   "metadata": {},
   "outputs": [
    {
     "name": "stdout",
     "output_type": "stream",
     "text": [
      "385.7832964490536\n",
      "14.58837128984744\n"
     ]
    }
   ],
   "source": [
    "# Calculate the MSE and MAE between the target variable and the predictions\n",
    "y_test_preds = reg2.predict(X_test)\n",
    "print(mse(y_test, y_test_preds, squared=True))\n",
    "print(mae(y_test, y_test_preds))"
   ]
  },
  {
   "cell_type": "code",
   "execution_count": 29,
   "id": "bfe8d5f2",
   "metadata": {},
   "outputs": [],
   "source": [
    "X_train = X\n",
    "y_train = y\n"
   ]
  },
  {
   "cell_type": "markdown",
   "id": "be4aeae0",
   "metadata": {},
   "source": [
    "# Performing Elastic Net With Outliers"
   ]
  },
  {
   "cell_type": "code",
   "execution_count": 30,
   "id": "f4a94d2e",
   "metadata": {},
   "outputs": [],
   "source": [
    "from sklearn.linear_model import ElasticNet "
   ]
  },
  {
   "cell_type": "code",
   "execution_count": 31,
   "id": "29c55dfa",
   "metadata": {},
   "outputs": [
    {
     "data": {
      "text/plain": [
       "0.5252049645433825"
      ]
     },
     "execution_count": 31,
     "metadata": {},
     "output_type": "execute_result"
    }
   ],
   "source": [
    "# Model Performance Score \n",
    "elasticnet_model = ElasticNet()\n",
    "model = elasticnet_model.fit(X_train, y_train)\n",
    "model.score(X_train, y_train)"
   ]
  },
  {
   "cell_type": "code",
   "execution_count": 32,
   "id": "dac6995d",
   "metadata": {},
   "outputs": [
    {
     "data": {
      "text/plain": [
       "ElasticNet()"
      ]
     },
     "execution_count": 32,
     "metadata": {},
     "output_type": "execute_result"
    }
   ],
   "source": [
    "# Instantiate the ElasticNet class into a variable called elasticnet_reg and fit it on the training set\n",
    "elasticnet_reg = ElasticNet()\n",
    "elasticnet_reg.fit(X_train, y_train)"
   ]
  },
  {
   "cell_type": "code",
   "execution_count": 33,
   "id": "ffd09828",
   "metadata": {},
   "outputs": [
    {
     "data": {
      "text/plain": [
       "ElasticNet()"
      ]
     },
     "execution_count": 33,
     "metadata": {},
     "output_type": "execute_result"
    }
   ],
   "source": [
    "# Instantiate the ElasticNet class into a variable called elasticnet_reg and fit it on the training set\n",
    "elasticnet_reg = ElasticNet()\n",
    "elasticnet_reg.fit(X_train, y_train)"
   ]
  },
  {
   "cell_type": "code",
   "execution_count": 34,
   "id": "904d59a6",
   "metadata": {},
   "outputs": [
    {
     "name": "stdout",
     "output_type": "stream",
     "text": [
      "359.9208712268564\n",
      "14.160003282089773\n"
     ]
    }
   ],
   "source": [
    "# Print the RMSE and MAE scores for the training set\n",
    "y_train_preds_elastic = elasticnet_reg.predict(X_train)\n",
    "print(mse(y_train, y_train_preds_elastic, squared=True))\n",
    "print(mae(y_train, y_train_preds_elastic))"
   ]
  },
  {
   "cell_type": "code",
   "execution_count": 35,
   "id": "a65e1154",
   "metadata": {},
   "outputs": [
    {
     "name": "stdout",
     "output_type": "stream",
     "text": [
      "428.4349275114416\n",
      "15.19179794198464\n"
     ]
    }
   ],
   "source": [
    "y_test_preds_elastic = elasticnet_reg.predict(X_test)\n",
    "print(mse(y_test, y_test_preds_elastic, squared=True))\n",
    "print(mae(y_test, y_test_preds_elastic))"
   ]
  },
  {
   "cell_type": "markdown",
   "id": "04a97642",
   "metadata": {},
   "source": [
    "# Performing Decison Tree With Outliers"
   ]
  },
  {
   "cell_type": "code",
   "execution_count": 36,
   "id": "a1d976e9",
   "metadata": {},
   "outputs": [],
   "source": [
    "from sklearn.tree import DecisionTreeRegressor"
   ]
  },
  {
   "cell_type": "code",
   "execution_count": 37,
   "id": "a2f679ca",
   "metadata": {},
   "outputs": [
    {
     "data": {
      "text/plain": [
       "DecisionTreeRegressor(max_depth=5, random_state=42)"
      ]
     },
     "execution_count": 37,
     "metadata": {},
     "output_type": "execute_result"
    }
   ],
   "source": [
    "\n",
    "decisiontree_model = DecisionTreeRegressor(max_depth=5, random_state=42)\n",
    "decisiontree_model.fit(X_train, y_train)\n"
   ]
  },
  {
   "cell_type": "code",
   "execution_count": 38,
   "id": "bcc54238",
   "metadata": {},
   "outputs": [
    {
     "name": "stdout",
     "output_type": "stream",
     "text": [
      "346.9549812817064\n",
      "14.377399867504112\n"
     ]
    }
   ],
   "source": [
    "y_train_preds_decision = decisiontree_model.predict(X_train)\n",
    "print(mse(y_train, y_train_preds_decision, squared=True))\n",
    "print(mae(y_train, y_train_preds_decision))"
   ]
  },
  {
   "cell_type": "code",
   "execution_count": 39,
   "id": "7051d383",
   "metadata": {},
   "outputs": [
    {
     "name": "stdout",
     "output_type": "stream",
     "text": [
      "557.346549788346\n",
      "17.163496630393503\n"
     ]
    }
   ],
   "source": [
    "y_test_preds_decision = decisiontree_model.predict(X_test)\n",
    "print(mse(y_test, y_test_preds_decision, squared=True))\n",
    "print(mae(y_test, y_test_preds_decision))"
   ]
  },
  {
   "cell_type": "markdown",
   "id": "7a1949cc",
   "metadata": {},
   "source": [
    "# Performing Random Forest with Outliers"
   ]
  },
  {
   "cell_type": "code",
   "execution_count": 40,
   "id": "71fa8cb2",
   "metadata": {},
   "outputs": [],
   "source": [
    "from sklearn.ensemble import RandomForestRegressor"
   ]
  },
  {
   "cell_type": "code",
   "execution_count": 41,
   "id": "da4799af",
   "metadata": {},
   "outputs": [
    {
     "data": {
      "text/plain": [
       "RandomForestRegressor(max_depth=5, random_state=42)"
      ]
     },
     "execution_count": 41,
     "metadata": {},
     "output_type": "execute_result"
    }
   ],
   "source": [
    "RandomForest_model = RandomForestRegressor(n_estimators=100, max_depth=5, random_state=42)\n",
    "RandomForest_model.fit(X_train, y_train)\n"
   ]
  },
  {
   "cell_type": "code",
   "execution_count": 42,
   "id": "48e11fac",
   "metadata": {},
   "outputs": [
    {
     "name": "stdout",
     "output_type": "stream",
     "text": [
      "290.92062111840005\n",
      "13.099768827161453\n"
     ]
    }
   ],
   "source": [
    "y_train_preds_random = RandomForest_model.predict(X_train)\n",
    "print(mse(y_train, y_train_preds_random, squared=True))\n",
    "print(mae(y_train, y_train_preds_random))"
   ]
  },
  {
   "cell_type": "code",
   "execution_count": 43,
   "id": "0c23dba6",
   "metadata": {},
   "outputs": [
    {
     "name": "stdout",
     "output_type": "stream",
     "text": [
      "438.4287276322191\n",
      "15.212055774739257\n"
     ]
    }
   ],
   "source": [
    "y_test_preds_random = RandomForest_model.predict(X_test)\n",
    "print(mse(y_test, y_test_preds_random, squared=True))\n",
    "print(mae(y_test, y_test_preds_random))"
   ]
  },
  {
   "cell_type": "markdown",
   "id": "0c6a078f",
   "metadata": {},
   "source": [
    "# Removing Outliers"
   ]
  },
  {
   "cell_type": "code",
   "execution_count": 44,
   "id": "c2071178",
   "metadata": {},
   "outputs": [],
   "source": [
    "df_train = df_train.drop(['binnedInc', 'Geography', 'PctSomeCol18_24', 'PctEmployed16_Over', 'PctPrivateCoverageAlone'], axis=1)\n"
   ]
  },
  {
   "cell_type": "code",
   "execution_count": 45,
   "id": "219e6756",
   "metadata": {},
   "outputs": [],
   "source": [
    "def remove_outliers(col):\n",
    "    q1 = np.percentile(col, 25)\n",
    "    q3 = np.percentile(col, 75)\n",
    "    iqr = q3 - q1\n",
    "    lower_bound = q1 - (1.5 * iqr)\n",
    "    upper_bound = q3 + (1.5 * iqr)\n",
    "    return col[(col > lower_bound) & (col < upper_bound)]"
   ]
  },
  {
   "cell_type": "code",
   "execution_count": 46,
   "id": "25f877ea",
   "metadata": {},
   "outputs": [],
   "source": [
    "for col in df_train.columns:\n",
    "    df_train[col] = remove_outliers(df_train[col])"
   ]
  },
  {
   "cell_type": "code",
   "execution_count": 47,
   "id": "ab295758",
   "metadata": {},
   "outputs": [],
   "source": [
    "df_train.dropna(inplace=True)\n",
    "df_train.fillna(df_train.mean(), inplace=True)"
   ]
  },
  {
   "cell_type": "code",
   "execution_count": 48,
   "id": "da0bdaca",
   "metadata": {},
   "outputs": [],
   "source": [
    "y = df_train.pop('TARGET_deathRate')\n",
    "X = df_train"
   ]
  },
  {
   "cell_type": "markdown",
   "id": "2fca609f",
   "metadata": {},
   "source": [
    "# Performing Linear Regression Without Outliers"
   ]
  },
  {
   "cell_type": "code",
   "execution_count": 49,
   "id": "982c565f",
   "metadata": {},
   "outputs": [],
   "source": [
    "# Instantiate the LinearRegression class into a variable called reg2\n",
    "reg2 = LinearRegression()"
   ]
  },
  {
   "cell_type": "code",
   "execution_count": 50,
   "id": "0ee43515",
   "metadata": {},
   "outputs": [
    {
     "data": {
      "text/plain": [
       "LinearRegression()"
      ]
     },
     "execution_count": 50,
     "metadata": {},
     "output_type": "execute_result"
    }
   ],
   "source": [
    "reg2.fit(X, y)"
   ]
  },
  {
   "cell_type": "code",
   "execution_count": 51,
   "id": "65c20b46",
   "metadata": {},
   "outputs": [
    {
     "name": "stdout",
     "output_type": "stream",
     "text": [
      "193.34209159709766\n",
      "10.380664857371093\n"
     ]
    }
   ],
   "source": [
    "# Calculate the MSE and MAE between the target variable and the predictions\n",
    "y_preds2 = reg2.predict(X)\n",
    "print(mse(y, y_preds2, squared=True))\n",
    "print(mae(y, y_preds2))"
   ]
  },
  {
   "cell_type": "code",
   "execution_count": 52,
   "id": "fb7a388f",
   "metadata": {},
   "outputs": [],
   "source": [
    "y_test2 = y_test\n",
    "y_test_mean2 = y_test2.mean()"
   ]
  },
  {
   "cell_type": "code",
   "execution_count": 53,
   "id": "ab1103ad",
   "metadata": {},
   "outputs": [],
   "source": [
    "df_test = df_test_copy"
   ]
  },
  {
   "cell_type": "code",
   "execution_count": 54,
   "id": "eed2ff9b",
   "metadata": {},
   "outputs": [
    {
     "data": {
      "text/plain": [
       "LinearRegression()"
      ]
     },
     "execution_count": 54,
     "metadata": {},
     "output_type": "execute_result"
    }
   ],
   "source": [
    "X_test2 = df_test\n",
    "reg2.fit(X_test2, y_test2)"
   ]
  },
  {
   "cell_type": "code",
   "execution_count": 55,
   "id": "40f656d8",
   "metadata": {
    "scrolled": true
   },
   "outputs": [
    {
     "name": "stdout",
     "output_type": "stream",
     "text": [
      "385.7832964490536\n",
      "14.58837128984744\n"
     ]
    }
   ],
   "source": [
    "# Calculate the MSE and MAE between the target variable and the predictions\n",
    "y_test_preds2 = reg2.predict(X_test2)\n",
    "print(mse(y_test2, y_test_preds2, squared=True))\n",
    "print(mae(y_test2, y_test_preds2))"
   ]
  },
  {
   "cell_type": "code",
   "execution_count": 56,
   "id": "ca94c719",
   "metadata": {},
   "outputs": [],
   "source": [
    "X_train = X\n",
    "y_train = y"
   ]
  },
  {
   "cell_type": "markdown",
   "id": "7db479e3",
   "metadata": {},
   "source": [
    "# Performing Elasticnet Without Outlier"
   ]
  },
  {
   "cell_type": "code",
   "execution_count": 57,
   "id": "9987c0fb",
   "metadata": {},
   "outputs": [
    {
     "data": {
      "text/plain": [
       "0.6430211271864898"
      ]
     },
     "execution_count": 57,
     "metadata": {},
     "output_type": "execute_result"
    }
   ],
   "source": [
    "elasticnet_model = ElasticNet()\n",
    "model = elasticnet_model.fit(X_train, y_train)\n",
    "model.score(X_train, y_train)"
   ]
  },
  {
   "cell_type": "code",
   "execution_count": 58,
   "id": "920b2b82",
   "metadata": {},
   "outputs": [
    {
     "data": {
      "text/plain": [
       "ElasticNet()"
      ]
     },
     "execution_count": 58,
     "metadata": {},
     "output_type": "execute_result"
    }
   ],
   "source": [
    "# Instantiate the ElasticNet class into a variable called elasticnet_reg and fit it on the training set\n",
    "elasticnet_reg = ElasticNet()\n",
    "elasticnet_reg.fit(X_train, y_train)"
   ]
  },
  {
   "cell_type": "code",
   "execution_count": 59,
   "id": "eb336b56",
   "metadata": {},
   "outputs": [
    {
     "name": "stdout",
     "output_type": "stream",
     "text": [
      "196.4226410225887\n",
      "10.42665822950546\n"
     ]
    }
   ],
   "source": [
    "# Print the RMSE and MAE scores for the training set\n",
    "y_train_preds = elasticnet_reg.predict(X_train)\n",
    "print(mse(y_train, y_train_preds, squared=True))\n",
    "print(mae(y_train, y_train_preds))"
   ]
  },
  {
   "cell_type": "code",
   "execution_count": 60,
   "id": "d5127296",
   "metadata": {},
   "outputs": [
    {
     "name": "stdout",
     "output_type": "stream",
     "text": [
      "79841.0323979738\n",
      "100.1541512519489\n"
     ]
    }
   ],
   "source": [
    "y_test_preds = elasticnet_reg.predict(X_test)\n",
    "print(mse(y_test, y_test_preds, squared=True))\n",
    "print(mae(y_test, y_test_preds))"
   ]
  },
  {
   "cell_type": "markdown",
   "id": "fa9ac3fe",
   "metadata": {},
   "source": [
    "# Performing Decision Tree Without Outliers"
   ]
  },
  {
   "cell_type": "code",
   "execution_count": 61,
   "id": "38142a7c",
   "metadata": {},
   "outputs": [
    {
     "data": {
      "text/plain": [
       "DecisionTreeRegressor(max_depth=5, random_state=42)"
      ]
     },
     "execution_count": 61,
     "metadata": {},
     "output_type": "execute_result"
    }
   ],
   "source": [
    "decisiontree_model = DecisionTreeRegressor(max_depth=5, random_state=42)\n",
    "decisiontree_model.fit(X_train, y_train)"
   ]
  },
  {
   "cell_type": "code",
   "execution_count": 62,
   "id": "e9bc283d",
   "metadata": {},
   "outputs": [
    {
     "name": "stdout",
     "output_type": "stream",
     "text": [
      "241.0073502310996\n",
      "12.118540166297104\n"
     ]
    }
   ],
   "source": [
    "y_train_preds = decisiontree_model.predict(X_train)\n",
    "print(mse(y_train, y_train_preds, squared=True))\n",
    "print(mae(y_train, y_train_preds))"
   ]
  },
  {
   "cell_type": "code",
   "execution_count": 63,
   "id": "a83782f7",
   "metadata": {},
   "outputs": [
    {
     "name": "stdout",
     "output_type": "stream",
     "text": [
      "620.3086860052689\n",
      "18.669685729534947\n"
     ]
    }
   ],
   "source": [
    "y_test_preds = decisiontree_model.predict(X_test)\n",
    "print(mse(y_test, y_test_preds, squared=True))\n",
    "print(mae(y_test, y_test_preds))"
   ]
  },
  {
   "cell_type": "markdown",
   "id": "7f4d5528",
   "metadata": {},
   "source": [
    "# Performing Random Forest Without Outliers"
   ]
  },
  {
   "cell_type": "code",
   "execution_count": 64,
   "id": "9ff0a64d",
   "metadata": {},
   "outputs": [
    {
     "data": {
      "text/plain": [
       "RandomForestRegressor(max_depth=5, random_state=42)"
      ]
     },
     "execution_count": 64,
     "metadata": {},
     "output_type": "execute_result"
    }
   ],
   "source": [
    "RandomForest_model = RandomForestRegressor(n_estimators=100, max_depth=5, random_state=42)\n",
    "RandomForest_model.fit(X_train, y_train)\n"
   ]
  },
  {
   "cell_type": "code",
   "execution_count": 65,
   "id": "1afa2f30",
   "metadata": {},
   "outputs": [
    {
     "name": "stdout",
     "output_type": "stream",
     "text": [
      "200.29253227946913\n",
      "11.181636137431985\n"
     ]
    }
   ],
   "source": [
    "y_train_preds_random = RandomForest_model.predict(X_train)\n",
    "print(mse(y_train, y_train_preds_random, squared=True))\n",
    "print(mae(y_train, y_train_preds_random))"
   ]
  },
  {
   "cell_type": "code",
   "execution_count": 66,
   "id": "3e421143",
   "metadata": {},
   "outputs": [
    {
     "name": "stdout",
     "output_type": "stream",
     "text": [
      "534.1937886496717\n",
      "17.081098074690676\n"
     ]
    }
   ],
   "source": [
    "y_test_preds_random = RandomForest_model.predict(X_test)\n",
    "print(mse(y_test, y_test_preds_random, squared=True))\n",
    "print(mae(y_test, y_test_preds_random))"
   ]
  },
  {
   "cell_type": "markdown",
   "id": "977d4405",
   "metadata": {},
   "source": [
    "This code is referenced from Week 3 - Lab 1-3"
   ]
  },
  {
   "cell_type": "code",
   "execution_count": null,
   "id": "ad47bbab",
   "metadata": {},
   "outputs": [],
   "source": []
  }
 ],
 "metadata": {
  "kernelspec": {
   "display_name": "Python 3 (ipykernel)",
   "language": "python",
   "name": "python3"
  },
  "language_info": {
   "codemirror_mode": {
    "name": "ipython",
    "version": 3
   },
   "file_extension": ".py",
   "mimetype": "text/x-python",
   "name": "python",
   "nbconvert_exporter": "python",
   "pygments_lexer": "ipython3",
   "version": "3.9.13"
  }
 },
 "nbformat": 4,
 "nbformat_minor": 5
}
